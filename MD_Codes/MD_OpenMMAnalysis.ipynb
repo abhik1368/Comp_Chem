{
  "nbformat": 4,
  "nbformat_minor": 0,
  "metadata": {
    "accelerator": "GPU",
    "colab": {
      "name": "talktorial.ipynb",
      "provenance": [],
      "collapsed_sections": []
    },
    "kernelspec": {
      "display_name": "Python 3",
      "language": "python",
      "name": "python3"
    },
    "language_info": {
      "codemirror_mode": {
        "name": "ipython",
        "version": 3
      },
      "file_extension": ".py",
      "mimetype": "text/x-python",
      "name": "python",
      "nbconvert_exporter": "python",
      "pygments_lexer": "ipython3",
      "version": "3.9.1"
    }
  },
  "cells": [
    {
      "cell_type": "markdown",
      "metadata": {
        "id": "Rc3gPsMdLgmK"
      },
      "source": [
        "# T019 · Molecular dynamics simulation\n",
        "\n",
        "Authors:\n",
        "- Pietro Gerletti, CADD seminar 2020, Charité/FU Berlin\n",
        "- Mareike Leja, 2020/21, Internship at [Volkamer Lab, Charité](https://volkamerlab.org/)\n",
        "- Jeffrey R Wagner, 2020, [Open Force Field Consortium](https://openforcefield.org/)\n",
        "- David Schaller, 2020/21, [Volkamer Lab, Charité](https://volkamerlab.org/)\n",
        "- Andrea Volkamer, 2020/21, [Volkamer Lab, Charité](https://volkamerlab.org/)"
      ]
    },
    {
      "cell_type": "markdown",
      "metadata": {
        "id": "ehs-GJfkwUap"
      },
      "source": [
        "__Note__\n",
        "\n",
        "This talktorial was designed to be used with [Google Colab](https://colab.research.google.com/). It is also possible to use it on a local computer. However, performing the molecular dynamics simulation may take a considerably long time if no GPU is available."
      ]
    },
    {
      "cell_type": "markdown",
      "metadata": {
        "id": "v0WOINBLExEO"
      },
      "source": [
        "## Aim of this talktorial"
      ]
    },
    {
      "cell_type": "markdown",
      "metadata": {
        "id": "ETO2kR5CE6-E"
      },
      "source": [
        "In this talktorial, we will learn why molecular dynamics (MD) simulations are important for drug design and which steps are necessary to perform an MD simulation of a protein in complex with a ligand. The kinase EGFR will serve as sample system for simulation."
      ]
    },
    {
      "cell_type": "markdown",
      "metadata": {
        "id": "1KVizU3UVCxF"
      },
      "source": [
        "### Contents in *Theory*\n",
        "\n",
        "- Molecular dynamics\n",
        "- Force fields\n",
        "- Boundary conditions\n",
        "- MD simulations and drug design\n",
        "- EGFR kinase"
      ]
    },
    {
      "cell_type": "markdown",
      "metadata": {
        "id": "kdamNfk7VCxF"
      },
      "source": [
        "### Contents in *Practical*\n",
        "\n",
        "- Installation on Google Colab\n",
        "- Download PDB file\n",
        "- Prepare the protein ligand complex\n",
        "  - Protein preparation\n",
        "  - Ligand preparation\n",
        "  - Merge protein and ligand\n",
        "- MD simulation set up\n",
        "  - Force field\n",
        "  - System\n",
        "- Perform the MD simulation\n",
        "- Download results"
      ]
    },
    {
      "cell_type": "markdown",
      "metadata": {
        "id": "mNvsYi3OLgmU"
      },
      "source": [
        "### References\n",
        "\n",
        "- Review on the impact of MD simulations in drug discovery ([_J Med Chem_ (2016), **59**(9), 4035‐4061](https://doi.org/10.1021/acs.jmedchem.5b01684))\n",
        "- Review on the physics behind MD simulations and best practices ([_Living J Comp Mol Sci_ (2019), **1**(1), 5957](https://doi.org/10.33011/livecoms.1.1.5957))\n",
        "- Review on force fields ([_J Chem Inf Model_ (2018), **58**(3), 565-578](https://doi.org/10.1021/acs.jcim.8b00042))\n",
        "- Review on EGFR in cancer ([_Cancers (Basel)_ (2017), **9**(5), 52](https://dx.doi.org/10.3390%2Fcancers9050052))\n",
        "- Summarized statistical knowledge from Pierre-Simon Laplace ([Théorie Analytique des Probabilités _Gauthier-Villars_ (1820), **3**)](https://archive.org/details/uvrescompltesde31fragoog/page/n15/mode/2up)\n",
        "- Inspired by a notebook form Jaime Rodríguez-Guerra ([github](https://github.com/jaimergp/uab-msc-bioinf/blob/master/MD%20Simulation%20and%20Analysis%20in%20a%20Notebook.ipynb))\n",
        "- Repositories of [OpenMM](https://github.com/openmm/openmm) and [OpenMM Forcefields](https://github.com/openmm/openmmforcefields), [RDKit](https://github.com/rdkit/rdkit), [PyPDB](https://github.com/williamgilpin/pypdb), [MDTraj](https://github.com/mdtraj/mdtraj), [PDBFixer](https://github.com/openmm/pdbfixer)\n",
        "- Wikipedia articles about [MD simulations](https://en.wikipedia.org/wiki/Molecular_dynamics), [AMBER](https://en.wikipedia.org/wiki/AMBER) and [Force Fields](https://en.wikipedia.org/wiki/Force_field_(chemistry)) in general"
      ]
    },
    {
      "cell_type": "markdown",
      "metadata": {
        "id": "WpSLhe8ZLgmd"
      },
      "source": [
        "## Theory"
      ]
    },
    {
      "cell_type": "markdown",
      "metadata": {
        "id": "lxhBZyifLgmm"
      },
      "source": [
        "### Molecular dynamics"
      ]
    },
    {
      "cell_type": "markdown",
      "metadata": {
        "id": "svQEDsBCwUa5"
      },
      "source": [
        "Molecular dynamics is a computational method analyzing the movements and interactions of atoms and molecules of a defined system. The method stems from theoretical physics, where it was developed in the 1950s (Alder and Wainwright in [_J Chem Phys_ (1959), **31**(2), 459](https://doi.org/10.1063/1.1730376)), although the ideas behind it can be dated much earlier:\n",
        "\n",
        "> An intelligence which could, at  any moment, comprehend all the forces by  which nature is animated and the  respective positions of the  beings of which it is  composed, and moreover, if this intelligence were far-reaching enough to subject these data to  analysis, it would encompass in that formula both the movements of the  largest bodies in  the universe and those of the lightest atom: to it nothing would be uncertain, and the  future, as well as the past, would be present to its eyes. The human mind offers us, in the perfection which it has  given to  astronomy, a faint sketch of this intelligence. (Pierre-Simon Laplace, 1820)\n"
      ]
    },
    {
      "cell_type": "markdown",
      "metadata": {
        "id": "kLgNBvtIm7S3"
      },
      "source": [
        "Let us just take this statement by Laplace as the ideological substrate underneath molecular dynamics simulations. In other terms, we can approximate the behavior of a physical system by knowing the characteristics of its components and applying Newton's laws of motion. By solving the equations of motion, we can obtain a molecular trajectory of the system, which is a series of snapshots with the positions and velocities of all its particles, as well as its potential energy. To do so, we define functions, called force fields, which provide an approximate description of all the forces applied to each particle in the system. We then use numerical integrators to solve the initial value problem for the system and obtain the trajectory. As it sounds, the process requires quite a bit of processing power and it was only few years ago that MD started seeing a more widespread use, especially in the field of computational chemistry and biology, as well as in drug discovery ([_J Med Chem_ (2016), **59**(9), 4035‐4061](https://doi.org/10.1021/acs.jmedchem.5b01684))."
      ]
    },
    {
      "cell_type": "markdown",
      "metadata": {
        "id": "yXlInBPrwUa6"
      },
      "source": [
        "![MD_rotor_250K_1ns.gif](https://github.com/volkamerlab/teachopencadd/raw/d1ded86bb2c82ef088cc5145d0bcb997f6eab7dd/teachopencadd/talktorials/018_md_simulation/images/MD_rotor_250K_1ns.gif)\n",
        "\n",
        "**Figure 1**: Molecular dynamics simulation of the rotation of a supramolecule composed of three molecules in a confined nanoscopic pore (Palma et al. via [Wikimedia](https://commons.wikimedia.org/w/index.php?curid=34866205))."
      ]
    },
    {
      "cell_type": "markdown",
      "metadata": {
        "id": "8-uCG3KPwUa8"
      },
      "source": [
        "### Force fields\n",
        "\n"
      ]
    },
    {
      "cell_type": "markdown",
      "metadata": {
        "id": "NC8t-i-cwUbB"
      },
      "source": [
        "Force fields describe the forces between atoms within and between molecules. They are parametric equations with components for different forces (bond stretching, van-der-Waals and more). The parameter values are usually derived experimentally and change for each MD scenario, depending on the molecules involved and the simulation settings. The result is a mathematical description of the energy landscape of the system, in which the forces acting on each particle result from the gradient of the potential energy with respect to the coordinates of the atoms.\n",
        "\n",
        "Several force fields are available, each with its own characteristics ([_J Chem Inf Model_ (2018), **58**(3), 565-578](https://doi.org/10.1021/acs.jcim.8b00042)). In this notebook, we will use a member of the AMBER force field family, which are widely used for MD simulations of proteins. Their functional form is:\n",
        "\n",
        "$$V(r^N) = \\sum_{i \\in  bonds}k_{bi} (l_i-l^0_i)^2 + \\sum_{i \\in  angles}k_{ai}(\\theta_i - \\theta^0_i)^2 + \\sum_{i\\in torsions} \\sum_n \\frac{1}{2} V_i^n[1+cos(nw_i-\\gamma_i)]$$\n",
        "$$+ \\sum_{j=1}^{N-1}\\sum_{I=j+1}^{N} f_{ij}\\in ij [(\\frac{r^0_{ij}}{r_{ij}})^{12}-2(\\frac{r^0_{ij}}{r_{ij}})^{6}]+\\frac{q_iq_j}{4\\pi \\in_0 r_{ij}}$$"
      ]
    },
    {
      "cell_type": "markdown",
      "metadata": {
        "id": "pjSsc4l-wUbB"
      },
      "source": [
        "The formula consists of a sum of different components. The first three components contain information about bond lengths, angles and torsions (intramolecular forces). The last component describes intermolecular, non-bonded forces like van-der-Waals forces and electrostatic interactions. The various parameters, denoted by a superscript 0, depend on the force field used and vary between all members of the AMBER force field family. Note that these force fields assume fixed-charge particles and do not allow polarization, nor do they consider how a local charge influences its surroundings. \n",
        "\n",
        "The following visual representation of force fields components shows the same concepts in a more intuitive way."
      ]
    },
    {
      "cell_type": "markdown",
      "metadata": {
        "id": "6aDDjIqYwUbC"
      },
      "source": [
        "![MM_PEF.png](https://github.com/volkamerlab/teachopencadd/raw/d1ded86bb2c82ef088cc5145d0bcb997f6eab7dd/teachopencadd/talktorials/018_md_simulation/images/MM_PEF.png)\n",
        "\n",
        "**Figure 2**: Components of a molecular mechanics force field (Edboas via [Wikimedia](https://commons.wikimedia.org/w/index.php?curid=4194424))."
      ]
    },
    {
      "cell_type": "markdown",
      "metadata": {
        "id": "3J7LdqzKB0PM"
      },
      "source": [
        "### Boundary conditions\n",
        "\n",
        "Often, molecular systems are simulated in a box filled with solvent such as water. These boxes are of finite size, which results in problems for molecules at or near the box boundaries. With which molecules should those interact? Periodic boundary conditions can avoid such boundary artifacts by simulating a theoretically infinite system. Molecules at one boundary of the box thereby interact with molecules at the boundary on the other side of the box. This mimics a situation, in which the simulation box is surrounded by replicas of itself. When visualizing such MD simulations, one can often observe that particles leave the box at one side (Fig. 3). However, they re-appear at the same time on the other side of the box with the same velocity. For simulations under periodic boundary conditions, it is recommended to use a simulation box large enough, so that the simulated macromolecule does not come into contact with neighboring images of itself."
      ]
    },
    {
      "cell_type": "markdown",
      "metadata": {
        "id": "fdnT_He0VCxF"
      },
      "source": [
        "![MD_water.gif](https://github.com/volkamerlab/teachopencadd/raw/d1ded86bb2c82ef088cc5145d0bcb997f6eab7dd/teachopencadd/talktorials/018_md_simulation/images/MD_water.gif)\n",
        "\n",
        "**Figure 3**: Molecular dynamics simulation of water molecules with periodic boundary conditions (Kmckiern via [Wikimedia](https://commons.wikimedia.org/wiki/File:MD_water.gif))."
      ]
    },
    {
      "cell_type": "markdown",
      "metadata": {
        "id": "zjcLLVbKNt-F"
      },
      "source": [
        "### MD simulations and drug design\n",
        "\n",
        "MD simulations give valuable insights into the highly dynamic process of ligand binding to their target. When a ligand (or a drug) approaches a macromolecule (protein) in solution, it encounters a structure in constant motion. Also, ligands may induce conformational changes in the macromolecule that can best accommodate the small molecule. Such conformations may not be discovered with static methods. Accordingly, binding sites that are not observed in static ligand-free structures, but can be discovered with MD simulations, are sometimes called *cryptic binding sites* ([_J Med Chem_ (2016), **59**(9), 4035‐4061](https://doi.org/10.1021/acs.jmedchem.5b01684)). The identification of such binding sites with MD simulation can kickstart new drug discovery campaigns. Later in the drug discovery process, MD simulations can also be used to estimate the quality of computationally identified small molecules before performing more costly and time-intensive *in vitro* tests. Altogether, MD simulations pose a valuable asset in computational drug design."
      ]
    },
    {
      "cell_type": "markdown",
      "metadata": {
        "id": "z-ZEaeB2n4hg"
      },
      "source": [
        "### EGFR kinase\n",
        "\n",
        "The **E**pidermal **G**rowth **F**actor **R**eceptor (EGFR) is an important drug target with implications in cancer and inflammation ([Wikipedia](https://en.wikipedia.org/wiki/Epidermal_growth_factor_receptor)). It is a transmembrane protein with an extracellular receptor domain and an intracellular kinase domain. The binding of the endogenous ligand epidermal growth factor results in activation of the kinase domain via dimerization and autophosphorylation. The activated kinase domain can then phosphorylate downstream signaling proteins triggering DNA synthesis and cell proliferation ([_Cancers (Basel)_ (2017), **9**(5), 52](https://dx.doi.org/10.3390%2Fcancers9050052)). Inhibition of this kinase is the underlying mechanism of action of several already approved cancer drugs ([DrugBank](https://go.drugbank.com/bio_entities/BE0000767)). In this talktorial, we use the PDB structure **3POZ** of this kinase, which is in complex with the small molecule inhibitor **03P**, to perform an MD simulation ([PDB:3POZ](https://www.rcsb.org/structure/3poz))."
      ]
    },
    {
      "cell_type": "markdown",
      "metadata": {
        "id": "fARXaAnzwUau"
      },
      "source": [
        "![3poz_assembly-1.jpeg](https://github.com/volkamerlab/teachopencadd/raw/ed3b2b6b655589d71355295af4c89363a63558b9/teachopencadd/talktorials/018_md_simulation/images/3poz_assembly-1.jpeg)\n",
        "\n",
        "**Figure 4**: Structure 3POZ of the EGFR kinase domain bound to inhibitor 03P ([PDB: 3POZ](https://www.rcsb.org/structure/3poz))."
      ]
    },
    {
      "cell_type": "markdown",
      "metadata": {
        "id": "dkhvXl0HLgnb"
      },
      "source": [
        "## Practical\n",
        "\n",
        "We will now proceed to perform an MD simulation using the molecular dynamics engine [OpenMM](https://github.com/openmm/openmm), a high performance toolkit for molecular simulation. It is open source and can be used as application or library. We will use it as python library."
      ]
    },
    {
      "cell_type": "markdown",
      "metadata": {
        "id": "7I_BbH58n4h2"
      },
      "source": [
        "### Installation on Google Colab\n",
        "\n",
        "The following code cells will install all required packages, if you are working on [Google Colab](https://colab.research.google.com/notebooks/intro.ipynb). Installing the [condacolab](https://github.com/jaimergp/condacolab) package will restart the kernel, which is intended. This notebook can also be used on a local computer but requires considerable computing power."
      ]
    },
    {
      "cell_type": "code",
      "metadata": {
        "id": "K78GGT60Nu8p",
        "colab": {
          "base_uri": "https://localhost:8080/"
        },
        "outputId": "215da2aa-f7d4-4dc1-8e05-f60903999ed0"
      },
      "source": [
        "try:\n",
        "    import google.colab\n",
        "    !pip install condacolab\n",
        "    import condacolab\n",
        "    condacolab.install()\n",
        "except ModuleNotFoundError:\n",
        "    pass"
      ],
      "execution_count": 1,
      "outputs": [
        {
          "output_type": "stream",
          "name": "stdout",
          "text": [
            "Looking in indexes: https://pypi.org/simple, https://us-python.pkg.dev/colab-wheels/public/simple/\n",
            "Collecting condacolab\n",
            "  Downloading condacolab-0.1.4-py3-none-any.whl (6.9 kB)\n",
            "Installing collected packages: condacolab\n",
            "Successfully installed condacolab-0.1.4\n",
            "⏬ Downloading https://github.com/jaimergp/miniforge/releases/latest/download/Mambaforge-colab-Linux-x86_64.sh...\n",
            "📦 Installing...\n",
            "📌 Adjusting configuration...\n",
            "🩹 Patching environment...\n",
            "⏲ Done in 0:00:21\n",
            "🔁 Restarting kernel...\n"
          ]
        }
      ]
    },
    {
      "cell_type": "code",
      "metadata": {
        "id": "VbqoZFShp00I",
        "colab": {
          "base_uri": "https://localhost:8080/"
        },
        "outputId": "02c4d67a-2e00-4613-e2f5-546eb1763988"
      },
      "source": [
        "try:\n",
        "    import condacolab\n",
        "    from google.colab import files\n",
        "    from IPython.display import clear_output\n",
        "    condacolab.check()\n",
        "    !conda install -q -y -c conda-forge mdtraj openmm openmmforcefields pdbfixer pypdb rdkit\n",
        "    on_colab = True\n",
        "    clear_output()  # clear the excessive installation outputs\n",
        "    print(\"Dependencies successfully installed!\")\n",
        "except ModuleNotFoundError:\n",
        "    on_colab = False"
      ],
      "execution_count": 1,
      "outputs": [
        {
          "output_type": "stream",
          "name": "stdout",
          "text": [
            "Dependencies successfully installed!\n"
          ]
        }
      ]
    },
    {
      "cell_type": "code",
      "source": [
        "#!conda install -c rdkit rdkit -y\n",
        "#!pip install pypdb\n",
        "#!pip install mdtraj\n",
        "#!conda install -c conda-forge openmm\n",
        "#!conda install -c conda-forge openff-toolkit -y\n",
        "#!conda install -c conda-forge pdbfixer \n",
        "!conda install --yes -c conda-forge openmmforcefields\n",
        "\n"
      ],
      "metadata": {
        "colab": {
          "base_uri": "https://localhost:8080/"
        },
        "id": "rjgwgUg55h2X",
        "outputId": "618877da-aa89-4fef-97cf-be19bc1bf3c7"
      },
      "execution_count": 11,
      "outputs": [
        {
          "output_type": "stream",
          "name": "stdout",
          "text": [
            "Collecting package metadata (current_repodata.json): - \b\b\\ \b\b| \b\b/ \b\b- \b\b\\ \b\b| \b\b/ \b\b- \b\b\\ \b\b| \b\b/ \b\b- \b\b\\ \b\b| \b\b/ \b\b- \b\b\\ \b\b| \b\b/ \b\b- \b\b\\ \b\b| \b\b/ \b\b- \b\b\\ \b\b| \b\b/ \b\b- \b\b\\ \b\b| \b\b/ \b\b- \b\b\\ \b\b| \b\b/ \b\b- \b\b\\ \b\b| \b\b/ \b\b- \b\b\\ \b\b| \b\b/ \b\b- \b\b\\ \b\b| \b\b/ \b\b- \b\b\\ \b\b| \b\b/ \b\b- \b\b\\ \b\b| \b\b/ \b\b- \b\b\\ \b\bdone\n",
            "Solving environment: / \b\b- \b\b\\ \b\b| \b\b/ \b\b- \b\b\\ \b\b| \b\b/ \b\b- \b\b\\ \b\b| \b\b/ \b\b- \b\b\\ \b\b| \b\b/ \b\b- \b\b\\ \b\b| \b\b/ \b\b- \b\b\\ \b\b| \b\b/ \b\b- \b\b\\ \b\b| \b\b/ \b\b- \b\b\\ \b\b| \b\b/ \b\b- \b\b\\ \b\b| \b\b/ \b\b- \b\b\\ \b\b| \b\b/ \b\b- \b\b\\ \b\b| \b\b/ \b\b- \b\b\\ \b\b| \b\b/ \b\b- \b\b\\ \b\b| \b\b/ \b\b- \b\b\\ \b\b| \b\b/ \b\b- \b\b\\ \b\b| \b\b/ \b\b- \b\b\\ \b\b| \b\b/ \b\b- \b\b\\ \b\b| \b\b/ \b\b- \b\b\\ \b\b| \b\b/ \b\b- \b\b\\ \b\b| \b\b/ \b\b- \b\b\\ \b\b| \b\b/ \b\b- \b\b\\ \b\b| \b\b/ \b\b- \b\b\\ \b\b| \b\b/ \b\b- \b\b\\ \b\b| \b\b/ \b\b- \b\b\\ \b\b| \b\b/ \b\b- \b\b\\ \b\b| \b\b/ \b\b- \b\b\\ \b\b| \b\b/ \b\b- \b\b\\ \b\b| \b\b/ \b\b- \b\b\\ \b\b| \b\b/ \b\b- \b\b\\ \b\b| \b\b/ \b\b- \b\b\\ \b\b| \b\b/ \b\b- \b\b\\ \b\b| \b\b/ \b\b- \b\b\\ \b\b| \b\b/ \b\b- \b\b\\ \b\b| \b\b/ \b\b- \b\b\\ \b\b| \b\b/ \b\b- \b\b\\ \b\b| \b\b/ \b\b- \b\b\\ \b\b| \b\b/ \b\b- \b\b\\ \b\b| \b\b/ \b\b- \b\bfailed with initial frozen solve. Retrying with flexible solve.\n",
            "Solving environment: | \b\b/ \b\b- \b\b\\ \b\b| \b\b/ \b\b- \b\b\\ \b\b| \b\b/ \b\b- \b\b\\ \b\b| \b\b/ \b\b- \b\b\\ \b\b| \b\b/ \b\b- \b\b\\ \b\b| \b\b/ \b\b- \b\b\\ \b\b| \b\b/ \b\b- \b\b\\ \b\b| \b\b/ \b\b- \b\b\\ \b\b| \b\b/ \b\b- \b\b\\ \b\b| \b\b/ \b\b- \b\b\\ \b\b| \b\b/ \b\b- \b\b\\ \b\b| \b\b/ \b\b- \b\b\\ \b\b| \b\b/ \b\b- \b\b\\ \b\b| \b\b/ \b\b- \b\b\\ \b\b| \b\b/ \b\b- \b\b\\ \b\b| \b\b/ \b\b- \b\b\\ \b\b| \b\b/ \b\b- \b\b\\ \b\b| \b\b/ \b\b- \b\b\\ \b\b| \b\b/ \b\b- \b\b\\ \b\b| \b\b/ \b\b- \b\b\\ \b\b| \b\b/ \b\b- \b\b\\ \b\b| \b\b/ \b\b- \b\b\\ \b\b| \b\b/ \b\b- \b\b\\ \b\b| \b\b/ \b\b- \b\b\\ \b\b| \b\b/ \b\b- \b\b\\ \b\b| \b\b/ \b\b- \b\b\\ \b\b| \b\b/ \b\b- \b\b\\ \b\b| \b\b/ \b\b- \b\b\\ \b\b| \b\b/ \b\b- \b\b\\ \b\b| \b\b/ \b\b- \b\b\\ \b\b| \b\b/ \b\b- \b\b\\ \b\b| \b\b/ \b\b- \b\b\\ \b\b| \b\b/ \b\b- \b\b\\ \b\b| \b\b/ \b\b- \b\b\\ \b\b| \b\b/ \b\b- \b\b\\ \b\b| \b\b/ \b\b- \b\b\\ \b\b| \b\b/ \b\b- \b\b\\ \b\b| \b\b/ \b\b- \b\b\\ \b\b| \b\b/ \b\b- \b\b\\ \b\b| \b\b/ \b\b- \b\b\\ \b\b| \b\b/ \b\b- \b\b\\ \b\b| \b\b/ \b\b- \b\b\\ \b\b| \b\b/ \b\b- \b\b\\ \b\b| \b\b/ \b\b- \b\b\\ \b\b| \b\b/ \b\b- \b\b\\ \b\b| \b\b/ \b\b- \b\b\\ \b\b| \b\b/ \b\b- \b\b\\ \b\b| \b\b/ \b\b- \b\b\\ \b\b| \b\b/ \b\b- \b\b\\ \b\b| \b\b/ \b\b- \b\b\\ \b\b| \b\b/ \b\b- \b\b\\ \b\b| \b\b/ \b\b- \b\b\\ \b\b| \b\b/ \b\b- \b\b\\ \b\b| \b\b/ \b\b- \b\b\\ \b\b| \b\b/ \b\b- \b\b\\ \b\b| \b\b/ \b\b- \b\b\\ \b\b| \b\b/ \b\b- \b\b\\ \b\b| \b\b/ \b\b- \b\b\\ \b\b| \b\b/ \b\b- \b\b\\ \b\b| \b\b/ \b\b- \b\b\\ \b\b| \b\b/ \b\b- \b\b\\ \b\b| \b\b/ \b\b- \b\b\\ \b\b| \b\b/ \b\b- \b\b\\ \b\bfailed with repodata from current_repodata.json, will retry with next repodata source.\n",
            "Collecting package metadata (repodata.json): / \b\b- \b\b\\ \b\b| \b\b/ \b\b- \b\b\\ \b\b| \b\b/ \b\b- \b\b\\ \b\b| \b\b/ \b\b- \b\b\\ \b\b| \b\b/ \b\b- \b\b\\ \b\b| \b\b/ \b\b- \b\b\\ \b\b| \b\b/ \b\b- \b\b\\ \b\b| \b\b/ \b\b- \b\b\\ \b\b| \b\b/ \b\b- \b\b\\ \b\b| \b\b/ \b\b- \b\b\\ \b\b| \b\b/ \b\b- \b\b\\ \b\b| \b\b/ \b\b- \b\b\\ \b\b| \b\b/ \b\b- \b\b\\ \b\b| \b\b/ \b\b- \b\b\\ \b\b| \b\b/ \b\b- \b\b\\ \b\b| \b\b/ \b\b- \b\b\\ \b\b| \b\b/ \b\b- \b\b\\ \b\b| \b\b/ \b\b- \b\b\\ \b\b| \b\b/ \b\b- \b\b\\ \b\b| \b\b/ \b\b- \b\b\\ \b\b| \b\b/ \b\b- \b\b\\ \b\b| \b\b/ \b\bdone\n",
            "Solving environment: \\ \b\b| \b\b/ \b\b- \b\b\\ \b\b| \b\b/ \b\b- \b\b\\ \b\b| \b\b/ \b\b- \b\b\\ \b\b| \b\b/ \b\b- \b\b\\ \b\b| \b\b/ \b\b- \b\b\\ \b\b| \b\b/ \b\b- \b\b\\ \b\b| \b\b/ \b\b- \b\b\\ \b\b| \b\b/ \b\b- \b\b\\ \b\b| \b\b/ \b\b- \b\b\\ \b\b| \b\b/ \b\b- \b\b\\ \b\b| \b\b/ \b\b- \b\b\\ \b\b| \b\b/ \b\b- \b\b\\ \b\b| \b\b/ \b\b- \b\b\\ \b\b| \b\b/ \b\b- \b\b\\ \b\b| \b\b/ \b\b- \b\b\\ \b\b| \b\b/ \b\b- \b\b\\ \b\b| \b\b/ \b\b- \b\b\\ \b\b| \b\b/ \b\b- \b\b\\ \b\b| \b\b/ \b\b- \b\b\\ \b\b| \b\b/ \b\b- \b\b\\ \b\b| \b\b/ \b\b- \b\b\\ \b\b| \b\b/ \b\b- \b\b\\ \b\b| \b\b/ \b\b- \b\b\\ \b\b| \b\b/ \b\b- \b\b\\ \b\b| \b\b/ \b\b- \b\b\\ \b\b| \b\b/ \b\b- \b\b\\ \b\b| \b\b/ \b\b- \b\b\\ \b\b| \b\b/ \b\b- \b\b\\ \b\b| \b\b/ \b\b- \b\b\\ \b\b| \b\b/ \b\b- \b\b\\ \b\b| \b\b/ \b\b- \b\b\\ \b\b| \b\b/ \b\b- \b\b\\ \b\b| \b\b/ \b\b- \b\b\\ \b\b| \b\b/ \b\b- \b\b\\ \b\b| \b\b/ \b\b- \b\b\\ \b\b| \b\b/ \b\b- \b\b\\ \b\b| \b\b/ \b\b- \b\b\\ \b\b| \b\b/ \b\b- \b\b\\ \b\b| \b\b/ \b\b- \b\b\\ \b\b| \b\b/ \b\b- \b\b\\ \b\b| \b\b/ \b\b- \b\b\\ \b\b| \b\b/ \b\b- \b\b\\ \b\b| \b\bdone\n",
            "\n",
            "## Package Plan ##\n",
            "\n",
            "  environment location: /usr/local\n",
            "\n",
            "  added / updated specs:\n",
            "    - openmmforcefields\n",
            "\n",
            "\n",
            "The following packages will be downloaded:\n",
            "\n",
            "    package                    |            build\n",
            "    ---------------------------|-----------------\n",
            "    decorator-5.1.1            |     pyhd8ed1ab_0          12 KB  conda-forge\n",
            "    libxslt-1.1.35             |       h8affb1d_0         583 KB  conda-forge\n",
            "    lxml-4.9.1                 |   py37h540881e_0         1.4 MB  conda-forge\n",
            "    openmmforcefields-0.11.1   |     pyhd8ed1ab_1         2.7 MB  conda-forge\n",
            "    pyyaml-6.0                 |   py37h540881e_4         178 KB  conda-forge\n",
            "    tinydb-4.7.0               |     pyhd8ed1ab_0          24 KB  conda-forge\n",
            "    validators-0.18.2          |     pyhd3deb0d_0          18 KB  conda-forge\n",
            "    ------------------------------------------------------------\n",
            "                                           Total:         4.8 MB\n",
            "\n",
            "The following NEW packages will be INSTALLED:\n",
            "\n",
            "  decorator          conda-forge/noarch::decorator-5.1.1-pyhd8ed1ab_0 None\n",
            "  libxslt            conda-forge/linux-64::libxslt-1.1.35-h8affb1d_0 None\n",
            "  lxml               conda-forge/linux-64::lxml-4.9.1-py37h540881e_0 None\n",
            "  openmmforcefields  conda-forge/noarch::openmmforcefields-0.11.1-pyhd8ed1ab_1 None\n",
            "  pyyaml             conda-forge/linux-64::pyyaml-6.0-py37h540881e_4 None\n",
            "  tinydb             conda-forge/noarch::tinydb-4.7.0-pyhd8ed1ab_0 None\n",
            "  validators         conda-forge/noarch::validators-0.18.2-pyhd3deb0d_0 None\n",
            "\n",
            "\n",
            "\n",
            "Downloading and Extracting Packages\n",
            "tinydb-4.7.0         | 24 KB     | : 100% 1.0/1 [00:03<00:00,  3.71s/it]               \n",
            "validators-0.18.2    | 18 KB     | : 100% 1.0/1 [00:00<00:00, 26.91it/s]\n",
            "pyyaml-6.0           | 178 KB    | : 100% 1.0/1 [00:00<00:00, 12.67it/s]\n",
            "decorator-5.1.1      | 12 KB     | : 100% 1.0/1 [00:00<00:00, 29.01it/s]\n",
            "openmmforcefields-0. | 2.7 MB    | : 100% 1.0/1 [00:02<00:00,  2.28s/it]               \n",
            "libxslt-1.1.35       | 583 KB    | : 100% 1.0/1 [00:00<00:00,  5.95it/s]\n",
            "lxml-4.9.1           | 1.4 MB    | : 100% 1.0/1 [00:00<00:00,  4.29it/s]\n",
            "Preparing transaction: - \b\bdone\n",
            "Verifying transaction: | \b\bdone\n",
            "Executing transaction: - \b\b\\ \b\b| \b\b/ \b\b- \b\b\\ \b\bdone\n",
            "Retrieving notices: ...working... done\n"
          ]
        }
      ]
    },
    {
      "cell_type": "code",
      "metadata": {
        "id": "3g6vsWucLgng"
      },
      "source": [
        "# imports\n",
        "import sys\n",
        "import copy\n",
        "from pathlib import Path\n",
        "\n",
        "from IPython.display import display\n",
        "import numpy as np\n",
        "from rdkit import Chem\n",
        "from rdkit.Chem import Draw\n",
        "from rdkit.Chem import AllChem\n",
        "from pypdb import get_pdb_file\n",
        "import mdtraj as md\n",
        "import pdbfixer\n",
        "import simtk.openmm as mm\n",
        "import simtk.openmm.app as app\n",
        "from simtk.openmm import unit\n",
        "from openff.toolkit.topology import Molecule, Topology\n",
        "from openmmforcefields.generators import GAFFTemplateGenerator"
      ],
      "execution_count": 12,
      "outputs": []
    },
    {
      "cell_type": "code",
      "metadata": {
        "id": "w5g1k527SexH"
      },
      "source": [
        "# create data directory if not exists\n",
        "HERE = Path(_dh[-1])\n",
        "DATA = HERE / \"data\"\n",
        "DATA.mkdir(exist_ok=True)"
      ],
      "execution_count": 13,
      "outputs": []
    },
    {
      "cell_type": "markdown",
      "metadata": {
        "id": "ltkfdrHvn4iI"
      },
      "source": [
        "### Download PDB file\n",
        "The python package [PyPDB](https://github.com/williamgilpin/pypdb) allows easy access to structures stored in the protein data bank ([PDB](https://www.rcsb.org/))."
      ]
    },
    {
      "cell_type": "code",
      "metadata": {
        "id": "Ecabaj2Y9kte",
        "colab": {
          "base_uri": "https://localhost:8080/"
        },
        "outputId": "09dc0502-aaaa-4abb-fa02-b94d4854b9c6"
      },
      "source": [
        "pdbid = \"3POZ\"\n",
        "ligand_name = \"03P\"\n",
        "pdb_path = DATA / (pdbid + \".pdb\")\n",
        "pdb_file_string = get_pdb_file(pdbid, filetype='pdb', compression=False)\n",
        "with open(pdb_path, 'w') as f:\n",
        "    f.write(pdb_file_string)"
      ],
      "execution_count": 14,
      "outputs": [
        {
          "output_type": "stream",
          "name": "stderr",
          "text": [
            "/usr/local/lib/python3.7/site-packages/pypdb/pypdb.py:490: DeprecationWarning: The `get_pdb_file` function within pypdb.py is deprecated.See `pypdb/clients/pdb/pdb_client.py` for a near-identical function to use\n",
            "  \"function to use\", DeprecationWarning)\n"
          ]
        },
        {
          "output_type": "stream",
          "name": "stdout",
          "text": [
            "Sending GET request to https://files.rcsb.org/download/3POZ.pdb to fetch 3POZ's pdb file as a string.\n"
          ]
        }
      ]
    },
    {
      "cell_type": "markdown",
      "metadata": {
        "id": "krsfBvoenaYu"
      },
      "source": [
        "### Prepare the protein ligand complex"
      ]
    },
    {
      "cell_type": "markdown",
      "metadata": {
        "id": "t3mGSg8LLgop"
      },
      "source": [
        "#### Protein preparation\n",
        "\n",
        "A crucial part for successful simulation is a correct and complete system. Crystallographic structures retrieved from the Protein Data Bank often miss atoms, mainly hydrogens, and may contain non-standard residues. In this talktorial, we will use the python package [PDBFixer](https://github.com/openmm/pdbfixer) to prepare the protein structure. However, co-crystallized ligands are not handled well by [PDBFixer](https://github.com/openmm/pdbfixer) and will thus be prepared separately."
      ]
    },
    {
      "cell_type": "code",
      "metadata": {
        "id": "pA9Vct0iNRhl"
      },
      "source": [
        "def prepare_protein(pdb_file, ignore_missing_residues=True, ignore_terminal_missing_residues=True):\n",
        "    \"\"\"Use pdbfixer to prepare the protein from a PDB file. Hetero atoms such as ligands are \n",
        "    removed and non-standard residues replaced. Missing atoms to existing residues are added. \n",
        "    Missing residues are ignored by default, but can be included.\n",
        "    \n",
        "    Parameters\n",
        "    ----------\n",
        "    pdb_file: pathlib.Path or str\n",
        "        PDB file containing the system to simulate.\n",
        "    ignore_missing_residues: bool\n",
        "        If missing residues should be ignored or built.\n",
        "    ignore_terminal_missing_residues: bool\n",
        "        If missing residues at the beginning and the end of a chain should be ignored or built.\n",
        "    \n",
        "    Returns\n",
        "    -------\n",
        "    fixer: pdbfixer.pdbfixer.PDBFixer\n",
        "        Prepared protein system.\n",
        "    \"\"\"\n",
        "    fixer = pdbfixer.PDBFixer(str(pdb_file))\n",
        "    fixer.removeHeterogens()  # co-crystallized ligands are unknown to PDBFixer\n",
        "    fixer.findMissingResidues()  # identify missing residues, needed for identification of missing atoms\n",
        "    \n",
        "    # if missing terminal residues shall be ignored, remove them from the dictionary\n",
        "    if ignore_terminal_missing_residues:  \n",
        "        chains = list(fixer.topology.chains())\n",
        "        keys = fixer.missingResidues.keys()\n",
        "        for key in list(keys):\n",
        "            chain = chains[key[0]]\n",
        "            if key[1] == 0 or key[1] == len(list(chain.residues())):\n",
        "                del fixer.missingResidues[key]\n",
        "                \n",
        "    # if all missing residues shall be ignored ignored, clear the dictionary\n",
        "    if ignore_missing_residues:  \n",
        "        fixer.missingResidues = {}\n",
        "        \n",
        "    fixer.findNonstandardResidues()  # find non-standard residue\n",
        "    fixer.replaceNonstandardResidues()  # replace non-standard residues with standard one\n",
        "    fixer.findMissingAtoms()  # find missing heavy atoms\n",
        "    fixer.addMissingAtoms()  # add missing atoms and residues\n",
        "    fixer.addMissingHydrogens(7.0)  # add missing hydrogens\n",
        "    return fixer"
      ],
      "execution_count": 15,
      "outputs": []
    },
    {
      "cell_type": "code",
      "metadata": {
        "id": "bxuyg-oxOtvn"
      },
      "source": [
        "# prepare protein and build only missing non-terminal residues\n",
        "prepared_protein = prepare_protein(pdb_path, ignore_missing_residues=False)"
      ],
      "execution_count": 16,
      "outputs": []
    },
    {
      "cell_type": "markdown",
      "metadata": {
        "id": "_wR47KGjnP2O"
      },
      "source": [
        "#### Prepare ligand"
      ]
    },
    {
      "cell_type": "markdown",
      "metadata": {
        "id": "8VoOjhASZ4Jh"
      },
      "source": [
        "After preparing the protein, we turn our attention to the ligand. Again, we need to add hydrogens, but also need to make sure the bond orders are correctly assigned, since some PDB entries may contain errors. We use the python package [RDKit](https://github.com/rdkit/rdkit), an open source cheminformatics library.\n",
        "We will provide the correct protonation state and bond orders to [RDKit](https://github.com/rdkit/rdkit) via a SMILES string. Uncharged isomeric SMILES strings for each co-crystallized ligand can be found in their respective [PDB](https://www.rcsb.org) entry. The ligand of PDB entry [3POZ](https://www.rcsb.org/structure/3poz) has the name [03P](https://www.rcsb.org/ligand/03P). If a ligand is likely to bind in its charged form or as a specific tautomer, such characteristics need to be incorporated into the SMILES string."
      ]
    },
    {
      "cell_type": "code",
      "metadata": {
        "id": "si7ARKHoabal"
      },
      "source": [
        "def prepare_ligand(pdb_file, resname, smiles):\n",
        "    \"\"\"Prepare a ligand from a PDB file via adding hydrogens and assigning bond orders. A depiction \n",
        "    of the ligand before and after preparation is rendered in 2D to allow an inspection of the \n",
        "    results. Huge thanks to @j-wags for the suggestion.\n",
        "  \n",
        "    Parameters\n",
        "    ----------\n",
        "    pdb_file: pathlib.PosixPath\n",
        "       PDB file containing the ligand of interest.\n",
        "    resname: str\n",
        "        Three character residue name of the ligand. \n",
        "    smiles : str\n",
        "        SMILES string of the ligand informing about correct protonation and bond orders.\n",
        "    \n",
        "    Returns\n",
        "    -------\n",
        "    prepared_ligand: rdkit.Chem.rdchem.Mol\n",
        "        Prepared ligand.\n",
        "    \"\"\"    \n",
        "    # split molecule\n",
        "    rdkit_mol = Chem.MolFromPDBFile(str(pdb_file))\n",
        "    rdkit_mol_split = Chem.rdmolops.SplitMolByPDBResidues(rdkit_mol)\n",
        "\n",
        "    # extract the ligand and remove any already present hydrogens\n",
        "    ligand = rdkit_mol_split[resname]\n",
        "    ligand = Chem.RemoveHs(ligand)\n",
        "\n",
        "    # assign bond orders from template\n",
        "    reference_mol = Chem.MolFromSmiles(smiles)\n",
        "    prepared_ligand = AllChem.AssignBondOrdersFromTemplate(reference_mol, ligand)\n",
        "    prepared_ligand.AddConformer(ligand.GetConformer(0))\n",
        "\n",
        "    # protonate ligand\n",
        "    prepared_ligand = Chem.rdmolops.AddHs(prepared_ligand, addCoords=True)\n",
        "    \n",
        "    # 2D depiction\n",
        "    ligand_2d = copy.deepcopy(ligand)\n",
        "    prepared_ligand_2d = copy.deepcopy(prepared_ligand)\n",
        "    AllChem.Compute2DCoords(ligand_2d)\n",
        "    AllChem.Compute2DCoords(prepared_ligand_2d)\n",
        "    display(Draw.MolsToGridImage([ligand_2d, prepared_ligand_2d], molsPerRow=2, legends=[\"original\", \"prepared\"]))\n",
        "\n",
        "    # return ligand\n",
        "    return prepared_ligand"
      ],
      "execution_count": 17,
      "outputs": []
    },
    {
      "cell_type": "markdown",
      "metadata": {
        "id": "GkqslZRknFbq"
      },
      "source": [
        "Calling this function with the isomeric SMILES string taken from the PDB entry for [03P](https://www.rcsb.org/ligand/03P) returns a correctly prepared ligand. Printed is a 2D-representation of the original and the prepared ligand for inspection."
      ]
    },
    {
      "cell_type": "code",
      "metadata": {
        "colab": {
          "base_uri": "https://localhost:8080/",
          "height": 217
        },
        "id": "04v75eTlcEtx",
        "outputId": "464f7618-edc8-48da-d8d6-8b157d44d0ca"
      },
      "source": [
        "smiles = \"CC(C)(O)CC(=O)NCCn1ccc2ncnc(Nc3ccc(Oc4cccc(c4)C(F)(F)F)c(Cl)c3)c12\"\n",
        "rdkit_ligand = prepare_ligand(pdb_path, ligand_name, smiles)\n",
        "# NBVAL_CHECK_OUTPUT"
      ],
      "execution_count": 18,
      "outputs": [
        {
          "output_type": "display_data",
          "data": {
            "text/plain": [
              "<PIL.PngImagePlugin.PngImageFile image mode=RGB size=400x200 at 0x7F27664A5150>"
            ],
            "image/png": "[encoded data removed]"
          },
          "metadata": {}
        }
      ]
    },
    {
      "cell_type": "markdown",
      "metadata": {
        "id": "NP9WekSTO5N3"
      },
      "source": [
        "#### Merge protein and ligand\n",
        "\n",
        "In the next step, we want to merge the prepared protein and ligand structures using the python package [MDTraj](https://github.com/mdtraj/mdtraj). [MDTraj](https://github.com/mdtraj/mdtraj) can handle the prepared protein, which is currently a [PDBFixer](https://github.com/openmm/pdbfixer) molecule, a format that has a topology and atom positions similar to and usually interchangeable with [OpenMM Modeller](http://docs.openmm.org/latest/userguide/application.html#model-building-and-editing) topologies and positions. For the ligand however, we need to do several conversions, since it is currently an [RDKit](https://github.com/rdkit/rdkit) molecule."
      ]
    },
    {
      "cell_type": "code",
      "metadata": {
        "id": "UwehzZrhpDnD"
      },
      "source": [
        "def rdkit_to_openmm(rdkit_mol, name=\"LIG\"):\n",
        "    \"\"\"Convert an RDKit molecule to an OpenMM molecule. Inspired by @hannahbrucemcdonald and @glass-w.\n",
        "    \n",
        "    Parameters\n",
        "    ----------\n",
        "    rdkit_mol: rdkit.Chem.rdchem.Mol\n",
        "        RDKit molecule to convert.\n",
        "    name: str\n",
        "        Molecule name.\n",
        "    \n",
        "    Returns\n",
        "    -------\n",
        "    omm_molecule: simtk.openmm.app.Modeller\n",
        "        OpenMM modeller object holding the molecule of interest.\n",
        "    \"\"\"\n",
        "    # convert RDKit to OpenFF\n",
        "    off_mol = Molecule.from_rdkit(rdkit_mol)\n",
        "\n",
        "    # add name for molecule\n",
        "    off_mol.name = name\n",
        "    \n",
        "    # add names for atoms\n",
        "    element_counter_dict = {}\n",
        "    for off_atom, rdkit_atom in zip(off_mol.atoms, rdkit_mol.GetAtoms()):\n",
        "        element = rdkit_atom.GetSymbol()\n",
        "        if element in element_counter_dict.keys():\n",
        "            element_counter_dict[element] += 1\n",
        "        else:\n",
        "            element_counter_dict[element] = 1\n",
        "        off_atom.name = element + str(element_counter_dict[element])\n",
        "\n",
        "    # convert from OpenFF to OpenMM\n",
        "    off_mol_topology = off_mol.to_topology()\n",
        "    mol_topology = off_mol_topology.to_openmm()\n",
        "    mol_positions = off_mol.conformers[0]\n",
        "    \n",
        "    # convert units from Ångström to Nanometers\n",
        "    for atom in mol_positions:\n",
        "        coords = atom / atom.unit\n",
        "        atom = (coords / 10.0) * unit.nanometers  # since openmm works in nm\n",
        "    \n",
        "    # combine topology and positions in modeller object\n",
        "    omm_mol = app.Modeller(mol_topology, mol_positions)\n",
        "        \n",
        "    return omm_mol"
      ],
      "execution_count": 19,
      "outputs": []
    },
    {
      "cell_type": "code",
      "metadata": {
        "id": "I77OHmv47vEN"
      },
      "source": [
        "omm_ligand = rdkit_to_openmm(rdkit_ligand, ligand_name)"
      ],
      "execution_count": 20,
      "outputs": []
    },
    {
      "cell_type": "markdown",
      "metadata": {
        "id": "dqY5AE0JGIgL"
      },
      "source": [
        "Now protein and ligand are both in [OpenMM](https://github.com/openmm/openmm) like formats and can be merged with [MDTraj](https://github.com/mdtraj/mdtraj)."
      ]
    },
    {
      "cell_type": "code",
      "metadata": {
        "id": "8gJMRq8fZYOU"
      },
      "source": [
        "def merge_protein_and_ligand(protein, ligand):\n",
        "    \"\"\"Merge two OpenMM objects.\n",
        "  \n",
        "    Parameters\n",
        "    ----------\n",
        "    protein: pdbfixer.pdbfixer.PDBFixer\n",
        "        Protein to merge.\n",
        "    ligand: simtk.openmm.app.Modeller\n",
        "        Ligand to merge.\n",
        "    \n",
        "    Returns\n",
        "    -------\n",
        "    complex_topology: simtk.openmm.app.topology.Topology\n",
        "        The merged topology.\n",
        "    complex_positions: simtk.unit.quantity.Quantity\n",
        "        The merged positions.\n",
        "    \"\"\"\n",
        "    # combine topologies\n",
        "    md_protein_topology = md.Topology.from_openmm(protein.topology)  # using mdtraj for protein top\n",
        "    md_ligand_topology = md.Topology.from_openmm(ligand.topology)  # using mdtraj for ligand top\n",
        "    md_complex_topology = md_protein_topology.join(md_ligand_topology)  # add them together\n",
        "    complex_topology = md_complex_topology.to_openmm()\n",
        "\n",
        "    # combine positions\n",
        "    total_atoms = len(protein.positions) + len(ligand.positions)\n",
        "    \n",
        "    # create an array for storing all atom positions as tupels containing a value and a unit\n",
        "    # called OpenMM Quantities\n",
        "    complex_positions = unit.Quantity(np.zeros([total_atoms, 3]), unit=unit.nanometers)\n",
        "    complex_positions[0: len(protein.positions)] = protein.positions  # add protein positions\n",
        "    complex_positions[len(protein.positions) + 1: total_atoms] = ligand.positions  # add ligand positions\n",
        "\n",
        "    return complex_topology, complex_positions"
      ],
      "execution_count": 21,
      "outputs": []
    },
    {
      "cell_type": "code",
      "metadata": {
        "id": "ZXmeeV0ZPOho"
      },
      "source": [
        "complex_topology, complex_positions = merge_protein_and_ligand(prepared_protein, omm_ligand)"
      ],
      "execution_count": 22,
      "outputs": []
    },
    {
      "cell_type": "markdown",
      "metadata": {
        "id": "2HAmjMG5Lgpd"
      },
      "source": [
        "### MD simulation set up\n",
        "\n",
        "We can now use the prepared complex to set up the MD simulation. "
      ]
    },
    {
      "cell_type": "markdown",
      "metadata": {
        "id": "1B9DRdICny_f"
      },
      "source": [
        "#### Force field\n",
        "\n",
        "Common force fields like AMBER have parameters for amino acids, nucleic acids, water and ions and usually offer several options to choose from depending on your aim. We use the **'amber14-all.xml'** force field file, which is shipped with OpenMM and includes parameters for proteins, DNA, RNA and lipids. For solvation we use the standard three-site water model **TIP3P**.\n",
        "\n",
        "Parameters for ligands however are not included. To generate these parameters, we can use the **G**eneral **A**MBER **F**orce**F**ield (GAFF), which is implemented in the python package [OpenMM Forcefields](https://github.com/openmm/openmmforcefields). The following function generates a force field object holding standard AMBER parameters and additionally includes parameters for a small molecule if required."
      ]
    },
    {
      "cell_type": "code",
      "metadata": {
        "id": "EFHKhU6v1k-h"
      },
      "source": [
        "def generate_forcefield(rdkit_mol=None, protein_ff=\"amber14-all.xml\", solvent_ff=\"amber14/tip3pfb.xml\"):\n",
        "    \"\"\"Generate an OpenMM Forcefield object and register a small molecule.\n",
        "  \n",
        "    Parameters\n",
        "    ----------\n",
        "    rdkit_mol: rdkit.Chem.rdchem.Mol\n",
        "        Small molecule to register in the force field.\n",
        "    protein_ff: string\n",
        "        Name of the force field.\n",
        "    solvent_ff: string\n",
        "        Name of the solvent force field.\n",
        "\n",
        "    Returns\n",
        "    -------\n",
        "    forcefield: simtk.openmm.app.Forcefield\n",
        "        Forcefield with registered small molecule.\n",
        "    \"\"\"\n",
        "    forcefield = app.ForceField(protein_ff, solvent_ff)\n",
        "\n",
        "    if rdkit_mol is not None:\n",
        "        gaff = GAFFTemplateGenerator(molecules=Molecule.from_rdkit(rdkit_mol, allow_undefined_stereo=True))\n",
        "        forcefield.registerTemplateGenerator(gaff.generator)\n",
        "\n",
        "    return forcefield"
      ],
      "execution_count": 23,
      "outputs": []
    },
    {
      "cell_type": "code",
      "metadata": {
        "id": "5is-oVrO2Fjy"
      },
      "source": [
        "forcefield = generate_forcefield(rdkit_ligand)"
      ],
      "execution_count": 24,
      "outputs": []
    },
    {
      "cell_type": "markdown",
      "metadata": {
        "id": "cGrreylan6XS"
      },
      "source": [
        "#### System"
      ]
    },
    {
      "cell_type": "markdown",
      "metadata": {
        "id": "DzO12MFp2P48"
      },
      "source": [
        "With our configured force field we can now  use the  [OpenMM Modeller](http://docs.openmm.org/latest/userguide/application.html#model-building-and-editing) class to create the MD environment, a simulation box which contains the complex and is filled with a solvent. The standard solvent is water with a specified amount of ions. The size of the box can be determined in various ways. We define it with a padding, which results in a cubic box with dimensions dependent on the largest dimension of the complex."
      ]
    },
    {
      "cell_type": "code",
      "metadata": {
        "id": "c4LEvWMI8ash"
      },
      "source": [
        "modeller = app.Modeller(complex_topology, complex_positions)\n",
        "modeller.addSolvent(forcefield, padding=1.0 * unit.nanometers, ionicStrength=0.15 * unit.molar)"
      ],
      "execution_count": 32,
      "outputs": []
    },
    {
      "cell_type": "markdown",
      "metadata": {
        "id": "TwAEe5d8n4jf"
      },
      "source": [
        "With our solvated system and force field, we can finally create an [OpenMM System](http://docs.openmm.org/development/api-python/generated/simtk.openmm.openmm.System.html) and set up the simulation.\n",
        "Additionally to the system the simulation needs an integrator. An [OpenMM Integrator](http://docs.openmm.org/development/api-python/library.html#integrators) defines a method for simulating a system by integrating the equations of motion. The chosen **Langevin Integrator** uses Langevin equations. A list of all different kinds of integrators can be found in the [OpenMM Docs](http://docs.openmm.org/development/api-python/library.html#integrators). For further insight into the **Langevin Integrator**, we recommend reading about Langevin equations, e.g. on [Wikipedia](https://en.wikipedia.org/wiki/Langevin_equation)."
      ]
    },
    {
      "cell_type": "code",
      "metadata": {
        "id": "n52Cmkr4dpI-"
      },
      "source": [
        "system = forcefield.createSystem(modeller.topology, nonbondedMethod=app.PME)\n",
        "integrator = mm.LangevinIntegrator(300 * unit.kelvin, 1.0 / unit.picoseconds, 2.0 * unit.femtoseconds)\n",
        "simulation = app.Simulation(modeller.topology, system, integrator)\n",
        "simulation.context.setPositions(modeller.positions)"
      ],
      "execution_count": 33,
      "outputs": []
    },
    {
      "cell_type": "markdown",
      "metadata": {
        "id": "JwEgrFkILgqL"
      },
      "source": [
        "### Perform the MD simulation\n",
        "Now that everything is set up, we can perform the simulation. We need to set starting positions and minimize the energy of the system to get a low energy starting configuration, which is important to decrease the chance of simulation failures due to severe atom clashes. The energy minimized system is saved."
      ]
    },
    {
      "cell_type": "code",
      "metadata": {
        "id": "EgkE1EUGLgqP"
      },
      "source": [
        "simulation.minimizeEnergy()\n",
        "with open(DATA / \"topology.pdb\", \"w\") as pdb_file:\n",
        "    app.PDBFile.writeFile(simulation.topology,\n",
        "                      simulation.context.getState(getPositions=True, enforcePeriodicBox=True).getPositions(),\n",
        "                      file=pdb_file,\n",
        "                      keepIds=True)"
      ],
      "execution_count": 34,
      "outputs": []
    },
    {
      "cell_type": "markdown",
      "metadata": {
        "id": "KAwpxWM7ozSo"
      },
      "source": [
        "Once the minimization has finished, we can perform the MD simulation. In this talktorial, we will do a short simulation for illustration. Simulations for research purposes span several nanoseconds, even up to microseconds. We will simulate only 100 ps of molecular dynamics corresponding to 50k steps of 2 fs each. We save molecular \"snapshots\" every 10 ps (5000 steps), for a total of 10 frames. The results are saved in an .xtc file, which contains the coordinates of all the atoms at a given time point. Together with the PDB file of the energy minimized system written before, it gives us all the information needed for later analysis. \n",
        "\n",
        "**Note**: This talktorial will only generate a 20 fs trajectory, if not on Google Colab. However, if you have a good GPU available, you can also increase the simulation time."
      ]
    },
    {
      "cell_type": "code",
      "metadata": {
        "id": "E8t-0ZxFLgqh"
      },
      "source": [
        "# output settings\n",
        "if on_colab:\n",
        "    steps = 1000000  # corresponds to 500 ps\n",
        "    write_interval = 10000  # write every 10 ps\n",
        "    log_interval = 5000  # log progress to stdout every 5 ps\n",
        "else:\n",
        "    steps = 50  # corresponds to 20 fs\n",
        "    write_interval = 10  # write every 2 fs\n",
        "    log_interval = 10  # log progress to stdout every 2 fs\n",
        "simulation.reporters.append(md.reporters.XTCReporter(file=str(DATA / \"trajectory.xtc\"), reportInterval=write_interval))\n",
        "simulation.reporters.append(app.StateDataReporter(sys.stdout, log_interval, step=True, potentialEnergy=True, \n",
        "                                                  temperature=True, progress=True, remainingTime=True,\n",
        "                                                  speed=True, totalSteps=steps, separator='\\t'))"
      ],
      "execution_count": 36,
      "outputs": []
    },
    {
      "cell_type": "markdown",
      "metadata": {
        "id": "J3gGRFBFozSp"
      },
      "source": [
        "The velocities for all particles in the system are randomly chosen from a distribution at the given temperature. We chose 300 Kelvin, which is some degrees above room temperature.\n",
        "A random seed is generated, but could be explicitly given to reproduce results.\n",
        "\n",
        "Then the simulation is performed by taking the steps defined before."
      ]
    },
    {
      "cell_type": "code",
      "metadata": {
        "id": "7B7AiVO3fr03",
        "colab": {
          "base_uri": "https://localhost:8080/"
        },
        "outputId": "78f20ad4-f3f8-4c79-e62a-13baf3583c0f"
      },
      "source": [
        "simulation.context.setVelocitiesToTemperature(300 * unit.kelvin)\n",
        "simulation.step(steps)  # perform the simulation\n",
        "# NBVAL_CHECK_OUTPUT"
      ],
      "execution_count": 37,
      "outputs": [
        {
          "output_type": "stream",
          "name": "stdout",
          "text": [
            "#\"Progress (%)\"\t\"Step\"\t\"Potential Energy (kJ/mole)\"\t\"Temperature (K)\"\t\"Speed (ns/day)\"\t\"Time Remaining\"\n",
            "0.5%\t5000\t-923681.4468651107\t301.5182975413011\t0\t--\n",
            "#\"Progress (%)\"\t\"Step\"\t\"Potential Energy (kJ/mole)\"\t\"Temperature (K)\"\t\"Speed (ns/day)\"\t\"Time Remaining\"\n",
            "0.5%\t5000\t-923681.4468651107\t301.5182975413011\t0\t--\n",
            "1.0%\t10000\t-923179.6968651107\t300.8072465740519\t96.7\t29:28\n",
            "1.0%\t10000\t-923179.6968651107\t300.8072465740519\t105\t27:05\n",
            "1.5%\t15000\t-923202.9468651107\t299.2457468665936\t100\t28:18\n",
            "1.5%\t15000\t-923202.9468651107\t299.2457468665936\t105\t27:07\n",
            "2.0%\t20000\t-923732.9468651107\t298.37852022196546\t101\t27:54\n",
            "2.0%\t20000\t-923732.9468651107\t298.37852022196546\t104\t27:07\n",
            "2.5%\t25000\t-924266.6968651107\t299.64195960767813\t102\t27:33\n",
            "2.5%\t25000\t-924266.6968651107\t299.64195960767813\t104\t26:58\n",
            "3.0%\t30000\t-923451.1968651107\t300.96555580596294\t102\t27:16\n",
            "3.0%\t30000\t-923451.1968651107\t300.96555580596294\t104\t26:48\n",
            "3.5%\t35000\t-922416.6968651107\t299.9303322277392\t103\t26:59\n",
            "3.5%\t35000\t-922416.6968651107\t299.9303322277392\t104\t26:36\n",
            "4.0%\t40000\t-924786.6968651107\t300.41934319046715\t103\t26:44\n",
            "4.0%\t40000\t-924786.6968651107\t300.41934319046715\t105\t26:25\n",
            "4.5%\t45000\t-924514.1968651107\t300.03097765013507\t104\t26:30\n",
            "4.5%\t45000\t-924514.1968651107\t300.03097765013507\t105\t26:13\n",
            "5.0%\t50000\t-924514.6968651107\t299.91480809548193\t104\t26:18\n",
            "5.0%\t50000\t-924514.6968651107\t299.91480809548193\t105\t26:03\n",
            "5.5%\t55000\t-925589.6968651107\t299.6030774288532\t104\t26:07\n",
            "5.5%\t55000\t-925589.6968651107\t299.6030774288532\t105\t25:53\n",
            "6.0%\t60000\t-923933.6968651107\t298.4805798779441\t104\t25:57\n",
            "6.0%\t60000\t-923933.6968651107\t298.4805798779441\t105\t25:45\n",
            "6.5%\t65000\t-924482.6968651107\t300.17116120684767\t104\t25:47\n",
            "6.5%\t65000\t-924482.6968651107\t300.17116120684767\t105\t25:36\n",
            "7.0%\t70000\t-923953.4468651107\t300.81567698634024\t104\t25:38\n",
            "7.0%\t70000\t-923953.4468651107\t300.81567698634024\t105\t25:28\n",
            "7.5%\t75000\t-924843.6968651107\t299.96911491808333\t104\t25:29\n",
            "7.5%\t75000\t-924843.6968651107\t299.96911491808333\t105\t25:20\n",
            "8.0%\t80000\t-924095.6968651107\t300.94760511901796\t105\t25:20\n",
            "8.0%\t80000\t-924095.6968651107\t300.94760511901796\t105\t25:11\n",
            "8.5%\t85000\t-924474.6968651107\t298.9479957870509\t105\t25:11\n",
            "8.5%\t85000\t-924474.6968651107\t298.9479957870509\t105\t25:03\n",
            "9.0%\t90000\t-924957.1968651107\t300.8907414035794\t105\t25:02\n",
            "9.0%\t90000\t-924957.1968651107\t300.8907414035794\t105\t24:54\n",
            "9.5%\t95000\t-924977.1968651107\t300.3452042396276\t105\t24:53\n",
            "9.5%\t95000\t-924977.1968651107\t300.3452042396276\t105\t24:45\n",
            "10.0%\t100000\t-923654.6968651107\t300.2614000276641\t105\t24:44\n",
            "10.0%\t100000\t-923654.6968651107\t300.2614000276641\t105\t24:37\n",
            "10.5%\t105000\t-923773.1968651107\t301.8962365852406\t105\t24:35\n",
            "10.5%\t105000\t-923773.1968651107\t301.8962365852406\t105\t24:28\n",
            "11.0%\t110000\t-924999.1968651107\t299.6123818713734\t105\t24:26\n",
            "11.0%\t110000\t-924999.1968651107\t299.6123818713734\t105\t24:20\n",
            "11.5%\t115000\t-924478.1968651107\t299.21333419127023\t105\t24:18\n",
            "11.5%\t115000\t-924478.1968651107\t299.21333419127023\t105\t24:12\n",
            "12.0%\t120000\t-924049.6968651107\t302.71621788884994\t105\t24:09\n",
            "12.0%\t120000\t-924049.6968651107\t302.71621788884994\t105\t24:03\n",
            "12.5%\t125000\t-923446.1968651107\t301.9744814887468\t105\t24:00\n",
            "12.5%\t125000\t-923446.1968651107\t301.9744814887468\t105\t23:55\n",
            "13.0%\t130000\t-924791.9468651107\t300.2905466362915\t105\t23:52\n",
            "13.0%\t130000\t-924791.9468651107\t300.2905466362915\t105\t23:47\n",
            "13.5%\t135000\t-924313.4468651107\t299.9576665222559\t105\t23:44\n",
            "13.5%\t135000\t-924313.4468651107\t299.9576665222559\t105\t23:39\n",
            "14.0%\t140000\t-924838.6968651107\t299.4919168461046\t105\t23:36\n",
            "14.0%\t140000\t-924838.6968651107\t299.4919168461046\t105\t23:31\n",
            "14.5%\t145000\t-924139.6968651107\t300.69400446880576\t105\t23:28\n",
            "14.5%\t145000\t-924139.6968651107\t300.69400446880576\t105\t23:23\n",
            "15.0%\t150000\t-923686.1968651107\t300.80650283675004\t105\t23:19\n",
            "15.0%\t150000\t-923686.1968651107\t300.80650283675004\t105\t23:15\n",
            "15.5%\t155000\t-924483.9468651107\t299.4937765090056\t105\t23:11\n",
            "15.5%\t155000\t-924483.9468651107\t299.4937765090056\t105\t23:07\n",
            "16.0%\t160000\t-923665.9468651107\t300.8322175230685\t105\t23:03\n",
            "16.0%\t160000\t-923665.9468651107\t300.8322175230685\t105\t22:59\n",
            "16.5%\t165000\t-924090.1968651107\t300.54564054883025\t105\t22:54\n",
            "16.5%\t165000\t-924090.1968651107\t300.54564054883025\t105\t22:50\n",
            "17.0%\t170000\t-923234.1968651107\t299.27252882120763\t105\t22:46\n",
            "17.0%\t170000\t-923234.1968651107\t299.27252882120763\t105\t22:42\n",
            "17.5%\t175000\t-923923.1968651107\t300.6647357667885\t105\t22:37\n",
            "17.5%\t175000\t-923923.1968651107\t300.6647357667885\t105\t22:34\n",
            "18.0%\t180000\t-922975.1968651107\t301.63651140844075\t105\t22:29\n",
            "18.0%\t180000\t-922975.1968651107\t301.63651140844075\t105\t22:26\n",
            "18.5%\t185000\t-923506.9468651107\t299.7411908019233\t105\t22:21\n",
            "18.5%\t185000\t-923506.9468651107\t299.7411908019233\t105\t22:17\n",
            "19.0%\t190000\t-925524.1968651107\t302.079562831069\t105\t22:12\n",
            "19.0%\t190000\t-925524.1968651107\t302.079562831069\t105\t22:09\n",
            "19.5%\t195000\t-924720.1968651107\t300.5245931337134\t105\t22:04\n",
            "19.5%\t195000\t-924720.1968651107\t300.5245931337134\t105\t22:01\n",
            "20.0%\t200000\t-926121.6968651107\t299.4916851333955\t105\t21:56\n",
            "20.0%\t200000\t-926121.6968651107\t299.4916851333955\t105\t21:53\n",
            "20.5%\t205000\t-922365.9468651107\t297.98247091590423\t105\t21:47\n",
            "20.5%\t205000\t-922365.9468651107\t297.98247091590423\t105\t21:44\n",
            "21.0%\t210000\t-924585.6968651107\t299.98478781632036\t105\t21:39\n",
            "21.0%\t210000\t-924585.6968651107\t299.98478781632036\t105\t21:36\n",
            "21.5%\t215000\t-923974.6968651107\t300.86623670303726\t105\t21:31\n",
            "21.5%\t215000\t-923974.6968651107\t300.86623670303726\t105\t21:28\n",
            "22.0%\t220000\t-923088.4468651107\t298.2218912428779\t105\t21:22\n",
            "22.0%\t220000\t-923088.4468651107\t298.2218912428779\t105\t21:20\n",
            "22.5%\t225000\t-923823.6968651107\t300.98174905673744\t105\t21:14\n",
            "22.5%\t225000\t-923823.6968651107\t300.98174905673744\t105\t21:11\n",
            "23.0%\t230000\t-923974.4468651107\t300.31187305789643\t105\t21:06\n",
            "23.0%\t230000\t-923974.4468651107\t300.31187305789643\t105\t21:03\n",
            "23.5%\t235000\t-925291.6968651107\t298.7652659767434\t105\t20:57\n",
            "23.5%\t235000\t-925291.6968651107\t298.7652659767434\t105\t20:55\n",
            "24.0%\t240000\t-925386.9468651107\t299.8122130247139\t105\t20:49\n",
            "24.0%\t240000\t-925386.9468651107\t299.8122130247139\t105\t20:47\n",
            "24.5%\t245000\t-925362.4468651107\t298.76704166087967\t105\t20:41\n",
            "24.5%\t245000\t-925362.4468651107\t298.76704166087967\t105\t20:39\n",
            "25.0%\t250000\t-923731.4468651107\t296.9685139208077\t105\t20:33\n",
            "25.0%\t250000\t-923731.4468651107\t296.9685139208077\t105\t20:30\n",
            "25.5%\t255000\t-924466.6968651107\t297.7257461058678\t105\t20:24\n",
            "25.5%\t255000\t-924466.6968651107\t297.7257461058678\t105\t20:22\n",
            "26.0%\t260000\t-923966.1968651107\t300.540809287368\t105\t20:16\n",
            "26.0%\t260000\t-923966.1968651107\t300.540809287368\t105\t20:14\n",
            "26.5%\t265000\t-923816.1968651107\t300.0928079450446\t105\t20:08\n",
            "26.5%\t265000\t-923816.1968651107\t300.0928079450446\t105\t20:06\n",
            "27.0%\t270000\t-925062.6968651107\t297.9293120515729\t105\t19:59\n",
            "27.0%\t270000\t-925062.6968651107\t297.9293120515729\t105\t19:57\n",
            "27.5%\t275000\t-924513.9468651107\t299.8229944082356\t105\t19:51\n",
            "27.5%\t275000\t-924513.9468651107\t299.8229944082356\t105\t19:49\n",
            "28.0%\t280000\t-923719.9468651107\t299.8210510346739\t105\t19:43\n",
            "28.0%\t280000\t-923719.9468651107\t299.8210510346739\t105\t19:41\n",
            "28.5%\t285000\t-923673.9468651107\t298.00672025757046\t105\t19:35\n",
            "28.5%\t285000\t-923673.9468651107\t298.00672025757046\t105\t19:33\n",
            "29.0%\t290000\t-923877.4468651107\t299.67027513117023\t105\t19:26\n",
            "29.0%\t290000\t-923877.4468651107\t299.67027513117023\t105\t19:24\n",
            "29.5%\t295000\t-924579.1968651107\t301.0198071609997\t105\t19:18\n",
            "29.5%\t295000\t-924579.1968651107\t301.0198071609997\t105\t19:16\n",
            "30.0%\t300000\t-924787.6968651107\t300.00659736692876\t105\t19:10\n",
            "30.0%\t300000\t-924787.6968651107\t300.00659736692876\t105\t19:08\n",
            "30.5%\t305000\t-924406.4468651107\t299.9303614787393\t105\t19:01\n",
            "30.5%\t305000\t-924406.4468651107\t299.9303614787393\t105\t19:00\n",
            "31.0%\t310000\t-924035.1968651107\t301.4177575688467\t105\t18:53\n",
            "31.0%\t310000\t-924035.1968651107\t301.4177575688467\t105\t18:51\n",
            "31.5%\t315000\t-923647.4468651107\t298.44206068005633\t105\t18:45\n",
            "31.5%\t315000\t-923647.4468651107\t298.44206068005633\t105\t18:43\n",
            "32.0%\t320000\t-925055.6968651107\t299.43848223845373\t105\t18:37\n",
            "32.0%\t320000\t-925055.6968651107\t299.43848223845373\t105\t18:35\n",
            "32.5%\t325000\t-922527.1968651107\t300.6095328679804\t105\t18:28\n",
            "32.5%\t325000\t-922527.1968651107\t300.6095328679804\t105\t18:27\n",
            "33.0%\t330000\t-923069.4468651107\t299.65903333720144\t105\t18:20\n",
            "33.0%\t330000\t-923069.4468651107\t299.65903333720144\t105\t18:19\n",
            "33.5%\t335000\t-924508.6968651107\t300.11414355635605\t105\t18:12\n",
            "33.5%\t335000\t-924508.6968651107\t300.11414355635605\t105\t18:10\n",
            "34.0%\t340000\t-924651.1968651107\t299.378954440616\t105\t18:04\n",
            "34.0%\t340000\t-924651.1968651107\t299.378954440616\t105\t18:02\n",
            "34.5%\t345000\t-925588.1968651107\t298.2279822872201\t105\t17:56\n",
            "34.5%\t345000\t-925588.1968651107\t298.2279822872201\t105\t17:54\n",
            "35.0%\t350000\t-925110.9468651107\t301.7998727532634\t105\t17:47\n",
            "35.0%\t350000\t-925110.9468651107\t301.7998727532634\t105\t17:46\n",
            "35.5%\t355000\t-923686.9468651107\t301.8920243707843\t105\t17:39\n",
            "35.5%\t355000\t-923686.9468651107\t301.8920243707843\t105\t17:38\n",
            "36.0%\t360000\t-922838.6968651107\t300.72476595961945\t105\t17:31\n",
            "36.0%\t360000\t-922838.6968651107\t300.72476595961945\t105\t17:29\n",
            "36.5%\t365000\t-924963.6968651107\t301.8251136035951\t105\t17:22\n",
            "36.5%\t365000\t-924963.6968651107\t301.8251136035951\t105\t17:21\n",
            "37.0%\t370000\t-924674.6968651107\t300.87180000072453\t105\t17:14\n",
            "37.0%\t370000\t-924674.6968651107\t300.87180000072453\t105\t17:13\n",
            "37.5%\t375000\t-922257.1968651107\t300.9550917747646\t105\t17:06\n",
            "37.5%\t375000\t-922257.1968651107\t300.9550917747646\t105\t17:05\n",
            "38.0%\t380000\t-926438.4468651107\t298.0633262926726\t105\t16:58\n",
            "38.0%\t380000\t-926438.4468651107\t298.0633262926726\t105\t16:57\n",
            "38.5%\t385000\t-924697.6968651107\t300.0084881477308\t105\t16:49\n",
            "38.5%\t385000\t-924697.6968651107\t300.0084881477308\t105\t16:48\n",
            "39.0%\t390000\t-924801.6968651107\t300.46897687258473\t105\t16:41\n",
            "39.0%\t390000\t-924801.6968651107\t300.46897687258473\t105\t16:40\n",
            "39.5%\t395000\t-924075.6968651107\t299.42731049602605\t105\t16:33\n",
            "39.5%\t395000\t-924075.6968651107\t299.42731049602605\t105\t16:32\n",
            "40.0%\t400000\t-924836.4468651107\t301.8263648758521\t105\t16:25\n",
            "40.0%\t400000\t-924836.4468651107\t301.8263648758521\t105\t16:24\n",
            "40.5%\t405000\t-924649.1968651107\t300.9505929047499\t105\t16:17\n",
            "40.5%\t405000\t-924649.1968651107\t300.9505929047499\t105\t16:15\n",
            "41.0%\t410000\t-924927.9468651107\t299.8776261764547\t105\t16:08\n",
            "41.0%\t410000\t-924927.9468651107\t299.8776261764547\t105\t16:07\n",
            "41.5%\t415000\t-924715.6968651107\t297.6701239089709\t105\t16:00\n",
            "41.5%\t415000\t-924715.6968651107\t297.6701239089709\t105\t15:59\n",
            "42.0%\t420000\t-923753.1968651107\t300.4490251069506\t105\t15:52\n",
            "42.0%\t420000\t-923753.1968651107\t300.4490251069506\t105\t15:51\n",
            "42.5%\t425000\t-923146.1968651107\t298.83879527364684\t105\t15:44\n",
            "42.5%\t425000\t-923146.1968651107\t298.83879527364684\t105\t15:43\n",
            "43.0%\t430000\t-923285.6968651107\t300.1859875439624\t105\t15:35\n",
            "43.0%\t430000\t-923285.6968651107\t300.1859875439624\t105\t15:34\n",
            "43.5%\t435000\t-926041.6968651107\t299.3508722491205\t105\t15:27\n",
            "43.5%\t435000\t-926041.6968651107\t299.3508722491205\t105\t15:26\n",
            "44.0%\t440000\t-925106.1968651107\t298.0936222881755\t105\t15:19\n",
            "44.0%\t440000\t-925106.1968651107\t298.0936222881755\t105\t15:18\n",
            "44.5%\t445000\t-925006.4468651107\t302.16959031931077\t105\t15:11\n",
            "44.5%\t445000\t-925006.4468651107\t302.16959031931077\t105\t15:10\n",
            "45.0%\t450000\t-925191.4468651107\t299.16372956255617\t105\t15:03\n",
            "45.0%\t450000\t-925191.4468651107\t299.16372956255617\t105\t15:02\n",
            "45.5%\t455000\t-925038.9468651107\t300.40553516700777\t105\t14:54\n",
            "45.5%\t455000\t-925038.9468651107\t300.40553516700777\t105\t14:53\n",
            "46.0%\t460000\t-923982.4468651107\t300.03766578327026\t105\t14:46\n",
            "46.0%\t460000\t-923982.4468651107\t300.03766578327026\t105\t14:45\n",
            "46.5%\t465000\t-924777.6968651107\t300.9511215319603\t105\t14:38\n",
            "46.5%\t465000\t-924777.6968651107\t300.9511215319603\t105\t14:37\n",
            "47.0%\t470000\t-923174.4468651107\t298.6966679577695\t105\t14:30\n",
            "47.0%\t470000\t-923174.4468651107\t298.6966679577695\t105\t14:29\n",
            "47.5%\t475000\t-924317.6968651107\t301.3973332936017\t105\t14:21\n",
            "47.5%\t475000\t-924317.6968651107\t301.3973332936017\t105\t14:21\n",
            "48.0%\t480000\t-923091.1968651107\t299.7158966438048\t105\t14:13\n",
            "48.0%\t480000\t-923091.1968651107\t299.7158966438048\t105\t14:12\n",
            "48.5%\t485000\t-924978.1968651107\t300.6839731650805\t105\t14:05\n",
            "48.5%\t485000\t-924978.1968651107\t300.6839731650805\t105\t14:04\n",
            "49.0%\t490000\t-925729.4468651107\t301.4260627415943\t105\t13:57\n",
            "49.0%\t490000\t-925729.4468651107\t301.4260627415943\t105\t13:56\n",
            "49.5%\t495000\t-924647.9468651107\t297.921597125344\t105\t13:48\n",
            "49.5%\t495000\t-924647.9468651107\t297.921597125344\t105\t13:48\n",
            "50.0%\t500000\t-924644.6968651107\t300.79544672518074\t105\t13:40\n",
            "50.0%\t500000\t-924644.6968651107\t300.79544672518074\t105\t13:40\n",
            "50.5%\t505000\t-924714.6968651107\t297.5888264126815\t105\t13:32\n",
            "50.5%\t505000\t-924714.6968651107\t297.5888264126815\t105\t13:31\n",
            "51.0%\t510000\t-924216.6968651107\t300.3359133717183\t105\t13:24\n",
            "51.0%\t510000\t-924216.6968651107\t300.3359133717183\t105\t13:23\n",
            "51.5%\t515000\t-922919.4468651107\t300.2927734310713\t105\t13:16\n",
            "51.5%\t515000\t-922919.4468651107\t300.2927734310713\t105\t13:15\n",
            "52.0%\t520000\t-925017.4468651107\t299.9594504328657\t105\t13:07\n",
            "52.0%\t520000\t-925017.4468651107\t299.9594504328657\t105\t13:07\n",
            "52.5%\t525000\t-922235.9468651107\t301.0529119167052\t105\t12:59\n",
            "52.5%\t525000\t-922235.9468651107\t301.0529119167052\t105\t12:58\n",
            "53.0%\t530000\t-923770.1968651107\t300.7442230785124\t105\t12:51\n",
            "53.0%\t530000\t-923770.1968651107\t300.7442230785124\t105\t12:50\n",
            "53.5%\t535000\t-924286.6968651107\t300.2407737116464\t105\t12:43\n",
            "53.5%\t535000\t-924286.6968651107\t300.2407737116464\t105\t12:42\n",
            "54.0%\t540000\t-924283.1968651107\t301.0909114059773\t105\t12:35\n",
            "54.0%\t540000\t-924283.1968651107\t301.0909114059773\t105\t12:34\n",
            "54.5%\t545000\t-924163.6968651107\t299.7488508448309\t105\t12:26\n",
            "54.5%\t545000\t-924163.6968651107\t299.7488508448309\t105\t12:26\n",
            "55.0%\t550000\t-924776.9468651107\t300.9912508748044\t105\t12:18\n",
            "55.0%\t550000\t-924776.9468651107\t300.9912508748044\t105\t12:18\n",
            "55.5%\t555000\t-925173.6968651107\t298.4369960306192\t105\t12:10\n",
            "55.5%\t555000\t-925173.6968651107\t298.4369960306192\t105\t12:09\n",
            "56.0%\t560000\t-923602.6968651107\t300.25744441439923\t105\t12:02\n",
            "56.0%\t560000\t-923602.6968651107\t300.25744441439923\t105\t12:01\n",
            "56.5%\t565000\t-922362.1968651107\t300.1210208525315\t105\t11:53\n",
            "56.5%\t565000\t-922362.1968651107\t300.1210208525315\t105\t11:53\n",
            "57.0%\t570000\t-922210.6968651107\t300.0123571477404\t105\t11:45\n",
            "57.0%\t570000\t-922210.6968651107\t300.0123571477404\t105\t11:45\n",
            "57.5%\t575000\t-924751.6968651107\t298.8796211590065\t105\t11:37\n",
            "57.5%\t575000\t-924751.6968651107\t298.8796211590065\t105\t11:36\n",
            "58.0%\t580000\t-925168.9468651107\t299.2602243916284\t105\t11:29\n",
            "58.0%\t580000\t-925168.9468651107\t299.2602243916284\t105\t11:28\n",
            "58.5%\t585000\t-924192.1968651107\t303.41164955393975\t105\t11:21\n",
            "58.5%\t585000\t-924192.1968651107\t303.41164955393975\t105\t11:20\n",
            "59.0%\t590000\t-923991.6968651107\t300.1263448031031\t105\t11:12\n",
            "59.0%\t590000\t-923991.6968651107\t300.1263448031031\t105\t11:12\n",
            "59.5%\t595000\t-923219.6968651107\t298.01906093363533\t105\t11:04\n",
            "59.5%\t595000\t-923219.6968651107\t298.01906093363533\t105\t11:04\n",
            "60.0%\t600000\t-923411.9468651107\t300.08224465095606\t105\t10:56\n",
            "60.0%\t600000\t-923411.9468651107\t300.08224465095606\t105\t10:55\n",
            "60.5%\t605000\t-923867.6968651107\t300.9016261030034\t105\t10:48\n",
            "60.5%\t605000\t-923867.6968651107\t300.9016261030034\t105\t10:47\n",
            "61.0%\t610000\t-923165.1968651107\t297.67601556015313\t105\t10:39\n",
            "61.0%\t610000\t-923165.1968651107\t297.67601556015313\t105\t10:39\n",
            "61.5%\t615000\t-924009.6968651107\t300.94933500516106\t105\t10:31\n",
            "61.5%\t615000\t-924009.6968651107\t300.94933500516106\t105\t10:31\n",
            "62.0%\t620000\t-923588.6968651107\t299.87150240189527\t105\t10:23\n",
            "62.0%\t620000\t-923588.6968651107\t299.87150240189527\t105\t10:23\n",
            "62.5%\t625000\t-925202.4468651107\t301.525350890217\t105\t10:15\n",
            "62.5%\t625000\t-925202.4468651107\t301.525350890217\t105\t10:14\n",
            "63.0%\t630000\t-923368.6968651107\t300.35981589146\t105\t10:07\n",
            "63.0%\t630000\t-923368.6968651107\t300.35981589146\t105\t10:06\n",
            "63.5%\t635000\t-924434.6968651107\t301.9389335816108\t105\t9:58\n",
            "63.5%\t635000\t-924434.6968651107\t301.9389335816108\t105\t9:58\n",
            "64.0%\t640000\t-925195.6968651107\t298.6249711233805\t105\t9:50\n",
            "64.0%\t640000\t-925195.6968651107\t298.6249711233805\t105\t9:50\n",
            "64.5%\t645000\t-924661.1968651107\t300.36932112992037\t105\t9:42\n",
            "64.5%\t645000\t-924661.1968651107\t300.36932112992037\t105\t9:42\n",
            "65.0%\t650000\t-925661.4468651107\t300.99604421024526\t105\t9:34\n",
            "65.0%\t650000\t-925661.4468651107\t300.99604421024526\t105\t9:33\n",
            "65.5%\t655000\t-923288.4468651107\t299.15312196645607\t105\t9:26\n",
            "65.5%\t655000\t-923288.4468651107\t299.15312196645607\t105\t9:25\n",
            "66.0%\t660000\t-925481.4468651107\t300.87389436972165\t105\t9:17\n",
            "66.0%\t660000\t-925481.4468651107\t300.87389436972165\t105\t9:17\n",
            "66.5%\t665000\t-925061.1968651107\t301.0432780730236\t105\t9:09\n",
            "66.5%\t665000\t-925061.1968651107\t301.0432780730236\t105\t9:09\n",
            "67.0%\t670000\t-924834.1968651107\t300.6407242773633\t105\t9:01\n",
            "67.0%\t670000\t-924834.1968651107\t300.6407242773633\t105\t9:01\n",
            "67.5%\t675000\t-923468.4468651107\t298.7682244739086\t105\t8:53\n",
            "67.5%\t675000\t-923468.4468651107\t298.7682244739086\t105\t8:52\n",
            "68.0%\t680000\t-924918.1968651107\t301.1392718514263\t105\t8:45\n",
            "68.0%\t680000\t-924918.1968651107\t301.1392718514263\t105\t8:44\n",
            "68.5%\t685000\t-924175.4468651107\t299.2112981870664\t105\t8:36\n",
            "68.5%\t685000\t-924175.4468651107\t299.2112981870664\t105\t8:36\n",
            "69.0%\t690000\t-924371.9468651107\t300.67210890258076\t105\t8:28\n",
            "69.0%\t690000\t-924371.9468651107\t300.67210890258076\t105\t8:28\n",
            "69.5%\t695000\t-924598.1968651107\t301.14479405961276\t105\t8:20\n",
            "69.5%\t695000\t-924598.1968651107\t301.14479405961276\t105\t8:20\n",
            "70.0%\t700000\t-925827.4468651107\t301.5022265723378\t105\t8:12\n",
            "70.0%\t700000\t-925827.4468651107\t301.5022265723378\t105\t8:11\n",
            "70.5%\t705000\t-923743.6968651107\t299.37438005589433\t105\t8:03\n",
            "70.5%\t705000\t-923743.6968651107\t299.37438005589433\t105\t8:03\n",
            "71.0%\t710000\t-925779.6968651107\t300.8039918962378\t105\t7:55\n",
            "71.0%\t710000\t-925779.6968651107\t300.8039918962378\t105\t7:55\n",
            "71.5%\t715000\t-924521.1968651107\t299.8178662556614\t105\t7:47\n",
            "71.5%\t715000\t-924521.1968651107\t299.8178662556614\t105\t7:47\n",
            "72.0%\t720000\t-924256.1968651107\t300.41931859005416\t105\t7:39\n",
            "72.0%\t720000\t-924256.1968651107\t300.41931859005416\t105\t7:39\n",
            "72.5%\t725000\t-924212.6968651107\t298.9937480256245\t105\t7:31\n",
            "72.5%\t725000\t-924212.6968651107\t298.9937480256245\t105\t7:30\n",
            "73.0%\t730000\t-924225.1968651107\t298.8316655061068\t105\t7:22\n",
            "73.0%\t730000\t-924225.1968651107\t298.8316655061068\t105\t7:22\n",
            "73.5%\t735000\t-924872.6968651107\t299.17214632971377\t105\t7:14\n",
            "73.5%\t735000\t-924872.6968651107\t299.17214632971377\t105\t7:14\n",
            "74.0%\t740000\t-923561.6968651107\t301.5781452626326\t105\t7:06\n",
            "74.0%\t740000\t-923561.6968651107\t301.5781452626326\t105\t7:06\n",
            "74.5%\t745000\t-924634.6968651107\t299.82111934795057\t105\t6:58\n",
            "74.5%\t745000\t-924634.6968651107\t299.82111934795057\t105\t6:58\n",
            "75.0%\t750000\t-926940.6968651107\t299.7200912630024\t105\t6:50\n",
            "75.0%\t750000\t-926940.6968651107\t299.7200912630024\t105\t6:49\n",
            "75.5%\t755000\t-925126.6968651107\t298.31360950249785\t105\t6:41\n",
            "75.5%\t755000\t-925126.6968651107\t298.31360950249785\t105\t6:41\n",
            "76.0%\t760000\t-924182.9468651107\t301.0165340030044\t105\t6:33\n",
            "76.0%\t760000\t-924182.9468651107\t301.0165340030044\t105\t6:33\n",
            "76.5%\t765000\t-924155.9468651107\t298.26825828164334\t105\t6:25\n",
            "76.5%\t765000\t-924155.9468651107\t298.26825828164334\t105\t6:25\n",
            "77.0%\t770000\t-924376.6968651107\t301.86518991226103\t105\t6:17\n",
            "77.0%\t770000\t-924376.6968651107\t301.86518991226103\t105\t6:17\n",
            "77.5%\t775000\t-924739.6968651107\t298.23748430980237\t105\t6:09\n",
            "77.5%\t775000\t-924739.6968651107\t298.23748430980237\t105\t6:08\n",
            "78.0%\t780000\t-924280.4468651107\t301.23691142255433\t105\t6:00\n",
            "78.0%\t780000\t-924280.4468651107\t301.23691142255433\t105\t6:00\n",
            "78.5%\t785000\t-924792.1968651107\t301.7123271889065\t105\t5:52\n",
            "78.5%\t785000\t-924792.1968651107\t301.7123271889065\t105\t5:52\n",
            "79.0%\t790000\t-926109.9468651107\t298.40591724858916\t105\t5:44\n",
            "79.0%\t790000\t-926109.9468651107\t298.40591724858916\t105\t5:44\n",
            "79.5%\t795000\t-924033.6968651107\t301.4740175197144\t105\t5:36\n",
            "79.5%\t795000\t-924033.6968651107\t301.4740175197144\t105\t5:36\n",
            "80.0%\t800000\t-924146.6968651107\t300.15031947869267\t105\t5:28\n",
            "80.0%\t800000\t-924146.6968651107\t300.15031947869267\t105\t5:27\n",
            "80.5%\t805000\t-923817.4468651107\t300.9049255278443\t105\t5:19\n",
            "80.5%\t805000\t-923817.4468651107\t300.9049255278443\t105\t5:19\n",
            "81.0%\t810000\t-925309.1968651107\t301.85071757762\t105\t5:11\n",
            "81.0%\t810000\t-925309.1968651107\t301.85071757762\t105\t5:11\n",
            "81.5%\t815000\t-924768.1968651107\t299.06825769287724\t105\t5:03\n",
            "81.5%\t815000\t-924768.1968651107\t299.06825769287724\t105\t5:03\n",
            "82.0%\t820000\t-924004.9468651107\t300.5511235099334\t105\t4:55\n",
            "82.0%\t820000\t-924004.9468651107\t300.5511235099334\t105\t4:55\n",
            "82.5%\t825000\t-924295.1968651107\t300.27671053254164\t105\t4:47\n",
            "82.5%\t825000\t-924295.1968651107\t300.27671053254164\t105\t4:46\n",
            "83.0%\t830000\t-923331.9468651107\t301.3194471301297\t105\t4:38\n",
            "83.0%\t830000\t-923331.9468651107\t301.3194471301297\t105\t4:38\n",
            "83.5%\t835000\t-922244.4468651107\t299.29209305208786\t105\t4:30\n",
            "83.5%\t835000\t-922244.4468651107\t299.29209305208786\t105\t4:30\n",
            "84.0%\t840000\t-923925.1968651107\t299.01919126841557\t105\t4:22\n",
            "84.0%\t840000\t-923925.1968651107\t299.01919126841557\t105\t4:22\n",
            "84.5%\t845000\t-924589.1968651107\t299.43509182219975\t105\t4:14\n",
            "84.5%\t845000\t-924589.1968651107\t299.43509182219975\t105\t4:14\n",
            "85.0%\t850000\t-924509.1968651107\t299.6487437253405\t105\t4:06\n",
            "85.0%\t850000\t-924509.1968651107\t299.6487437253405\t105\t4:05\n",
            "85.5%\t855000\t-923328.1968651107\t299.33871524168137\t105\t3:57\n",
            "85.5%\t855000\t-923328.1968651107\t299.33871524168137\t105\t3:57\n",
            "86.0%\t860000\t-922896.6968651107\t300.5668945768857\t105\t3:49\n",
            "86.0%\t860000\t-922896.6968651107\t300.5668945768857\t105\t3:49\n",
            "86.5%\t865000\t-922912.4468651107\t300.5210616886512\t105\t3:41\n",
            "86.5%\t865000\t-922912.4468651107\t300.5210616886512\t105\t3:41\n",
            "87.0%\t870000\t-924109.1968651107\t299.7080785596132\t105\t3:33\n",
            "87.0%\t870000\t-924109.1968651107\t299.7080785596132\t105\t3:33\n",
            "87.5%\t875000\t-924488.1968651107\t301.19405205498236\t105\t3:25\n",
            "87.5%\t875000\t-924488.1968651107\t301.19405205498236\t105\t3:24\n",
            "88.0%\t880000\t-923588.1968651107\t299.137915091528\t105\t3:16\n",
            "88.0%\t880000\t-923588.1968651107\t299.137915091528\t105\t3:16\n",
            "88.5%\t885000\t-925008.9468651107\t299.6163426075235\t105\t3:08\n",
            "88.5%\t885000\t-925008.9468651107\t299.6163426075235\t105\t3:08\n",
            "89.0%\t890000\t-925512.4468651107\t299.12480036013255\t105\t3:00\n",
            "89.0%\t890000\t-925512.4468651107\t299.12480036013255\t105\t3:00\n",
            "89.5%\t895000\t-923329.1968651107\t298.71632609295017\t105\t2:52\n",
            "89.5%\t895000\t-923329.1968651107\t298.71632609295017\t105\t2:52\n",
            "90.0%\t900000\t-925854.1968651107\t299.5725959188765\t105\t2:44\n",
            "90.0%\t900000\t-925854.1968651107\t299.5725959188765\t105\t2:43\n",
            "90.5%\t905000\t-922990.4468651107\t302.3312907819351\t105\t2:35\n",
            "90.5%\t905000\t-922990.4468651107\t302.3312907819351\t105\t2:35\n",
            "91.0%\t910000\t-925674.6968651107\t301.44193644327595\t105\t2:27\n",
            "91.0%\t910000\t-925674.6968651107\t301.44193644327595\t105\t2:27\n",
            "91.5%\t915000\t-923518.6968651107\t300.66297274863837\t105\t2:19\n",
            "91.5%\t915000\t-923518.6968651107\t300.66297274863837\t105\t2:19\n",
            "92.0%\t920000\t-924239.1968651107\t298.72731711448904\t105\t2:11\n",
            "92.0%\t920000\t-924239.1968651107\t298.72731711448904\t105\t2:11\n",
            "92.5%\t925000\t-924261.9468651107\t301.1873742227608\t105\t2:03\n",
            "92.5%\t925000\t-924261.9468651107\t301.1873742227608\t105\t2:02\n",
            "93.0%\t930000\t-924164.1968651107\t300.3359113716956\t105\t1:54\n",
            "93.0%\t930000\t-924164.1968651107\t300.3359113716956\t105\t1:54\n",
            "93.5%\t935000\t-926232.1968651107\t301.94954432091174\t105\t1:46\n",
            "93.5%\t935000\t-926232.1968651107\t301.94954432091174\t105\t1:46\n",
            "94.0%\t940000\t-924068.1968651107\t299.55062628373327\t105\t1:38\n",
            "94.0%\t940000\t-924068.1968651107\t299.55062628373327\t105\t1:38\n",
            "94.5%\t945000\t-925179.1968651107\t301.0252218497648\t105\t1:30\n",
            "94.5%\t945000\t-925179.1968651107\t301.0252218497648\t105\t1:30\n",
            "95.0%\t950000\t-924719.6968651107\t300.2775449047602\t105\t1:22\n",
            "95.0%\t950000\t-924719.6968651107\t300.2775449047602\t105\t1:21\n",
            "95.5%\t955000\t-926256.1968651107\t300.2441906117491\t105\t1:13\n",
            "95.5%\t955000\t-926256.1968651107\t300.2441906117491\t105\t1:13\n",
            "96.0%\t960000\t-923898.1968651107\t302.63815754586165\t105\t1:05\n",
            "96.0%\t960000\t-923898.1968651107\t302.63815754586165\t105\t1:05\n",
            "96.5%\t965000\t-924356.1968651107\t298.7721729981675\t105\t0:57\n",
            "96.5%\t965000\t-924356.1968651107\t298.7721729981675\t105\t0:57\n",
            "97.0%\t970000\t-924245.1968651107\t298.1715732541469\t105\t0:49\n",
            "97.0%\t970000\t-924245.1968651107\t298.1715732541469\t105\t0:49\n",
            "97.5%\t975000\t-924930.9468651107\t298.55573395360443\t105\t0:40\n",
            "97.5%\t975000\t-924930.9468651107\t298.55573395360443\t105\t0:40\n",
            "98.0%\t980000\t-923888.6968651107\t300.7684709214945\t105\t0:32\n",
            "98.0%\t980000\t-923888.6968651107\t300.7684709214945\t105\t0:32\n",
            "98.5%\t985000\t-923227.6968651107\t298.85553598297366\t105\t0:24\n",
            "98.5%\t985000\t-923227.6968651107\t298.85553598297366\t105\t0:24\n",
            "99.0%\t990000\t-924320.6968651107\t298.825890322033\t105\t0:16\n",
            "99.0%\t990000\t-924320.6968651107\t298.825890322033\t105\t0:16\n",
            "99.5%\t995000\t-923857.1968651107\t299.1774625168806\t105\t0:08\n",
            "99.5%\t995000\t-923857.1968651107\t299.1774625168806\t105\t0:08\n",
            "100.0%\t1000000\t-924701.9468651107\t300.6632932107967\t105\t0:00\n",
            "100.0%\t1000000\t-924701.9468651107\t300.6632932107967\t105\t0:00\n"
          ]
        }
      ]
    },
    {
      "cell_type": "markdown",
      "metadata": {
        "id": "M_Wf2prXqoif"
      },
      "source": [
        "### Download results\n",
        "\n",
        "You can execute the following cell if you are working on Google Colab to download the MD simulation results."
      ]
    },
    {
      "cell_type": "code",
      "metadata": {
        "id": "FfcMX8G1i0RY",
        "colab": {
          "base_uri": "https://localhost:8080/",
          "height": 17
        },
        "outputId": "a4f40ccb-c20a-4a67-a05c-27a53522be99"
      },
      "source": [
        "if on_colab:\n",
        "    files.download(DATA / \"topology.pdb\")\n",
        "    files.download(DATA / \"trajectory.xtc\")"
      ],
      "execution_count": 38,
      "outputs": [
        {
          "output_type": "display_data",
          "data": {
            "text/plain": [
              "<IPython.core.display.Javascript object>"
            ],
            "application/javascript": [
              "\n",
              "    async function download(id, filename, size) {\n",
              "      if (!google.colab.kernel.accessAllowed) {\n",
              "        return;\n",
              "      }\n",
              "      const div = document.createElement('div');\n",
              "      const label = document.createElement('label');\n",
              "      label.textContent = `Downloading \"${filename}\": `;\n",
              "      div.appendChild(label);\n",
              "      const progress = document.createElement('progress');\n",
              "      progress.max = size;\n",
              "      div.appendChild(progress);\n",
              "      document.body.appendChild(div);\n",
              "\n",
              "      const buffers = [];\n",
              "      let downloaded = 0;\n",
              "\n",
              "      const channel = await google.colab.kernel.comms.open(id);\n",
              "      // Send a message to notify the kernel that we're ready.\n",
              "      channel.send({})\n",
              "\n",
              "      for await (const message of channel.messages) {\n",
              "        // Send a message to notify the kernel that we're ready.\n",
              "        channel.send({})\n",
              "        if (message.buffers) {\n",
              "          for (const buffer of message.buffers) {\n",
              "            buffers.push(buffer);\n",
              "            downloaded += buffer.byteLength;\n",
              "            progress.value = downloaded;\n",
              "          }\n",
              "        }\n",
              "      }\n",
              "      const blob = new Blob(buffers, {type: 'application/binary'});\n",
              "      const a = document.createElement('a');\n",
              "      a.href = window.URL.createObjectURL(blob);\n",
              "      a.download = filename;\n",
              "      div.appendChild(a);\n",
              "      a.click();\n",
              "      div.remove();\n",
              "    }\n",
              "  "
            ]
          },
          "metadata": {}
        },
        {
          "output_type": "display_data",
          "data": {
            "text/plain": [
              "<IPython.core.display.Javascript object>"
            ],
            "application/javascript": [
              "download(\"download_5df7135d-5a25-4094-afab-d0debc226e80\", \"topology.pdb\", 4697892)"
            ]
          },
          "metadata": {}
        },
        {
          "output_type": "display_data",
          "data": {
            "text/plain": [
              "<IPython.core.display.Javascript object>"
            ],
            "application/javascript": [
              "\n",
              "    async function download(id, filename, size) {\n",
              "      if (!google.colab.kernel.accessAllowed) {\n",
              "        return;\n",
              "      }\n",
              "      const div = document.createElement('div');\n",
              "      const label = document.createElement('label');\n",
              "      label.textContent = `Downloading \"${filename}\": `;\n",
              "      div.appendChild(label);\n",
              "      const progress = document.createElement('progress');\n",
              "      progress.max = size;\n",
              "      div.appendChild(progress);\n",
              "      document.body.appendChild(div);\n",
              "\n",
              "      const buffers = [];\n",
              "      let downloaded = 0;\n",
              "\n",
              "      const channel = await google.colab.kernel.comms.open(id);\n",
              "      // Send a message to notify the kernel that we're ready.\n",
              "      channel.send({})\n",
              "\n",
              "      for await (const message of channel.messages) {\n",
              "        // Send a message to notify the kernel that we're ready.\n",
              "        channel.send({})\n",
              "        if (message.buffers) {\n",
              "          for (const buffer of message.buffers) {\n",
              "            buffers.push(buffer);\n",
              "            downloaded += buffer.byteLength;\n",
              "            progress.value = downloaded;\n",
              "          }\n",
              "        }\n",
              "      }\n",
              "      const blob = new Blob(buffers, {type: 'application/binary'});\n",
              "      const a = document.createElement('a');\n",
              "      a.href = window.URL.createObjectURL(blob);\n",
              "      a.download = filename;\n",
              "      div.appendChild(a);\n",
              "      a.click();\n",
              "      div.remove();\n",
              "    }\n",
              "  "
            ]
          },
          "metadata": {}
        },
        {
          "output_type": "display_data",
          "data": {
            "text/plain": [
              "<IPython.core.display.Javascript object>"
            ],
            "application/javascript": [
              "download(\"download_154faf72-466f-417e-a39d-b669487d9e96\", \"trajectory.xtc\", 21585296)"
            ]
          },
          "metadata": {}
        }
      ]
    },
    {
      "cell_type": "markdown",
      "metadata": {
        "id": "aAleBNfKyhCd"
      },
      "source": [
        "## Discussion\n",
        "\n",
        "We have successfully performed an MD simulation of a protein ligand complex. However, we simulated only a considerably short time to keep the execution time of the talktorial short. To address critical questions in drug design, longer simulations are often required.  \n",
        "MD simulations are still too computationally costly to be useful for this purpose. Thus, so-called enhanced sampling methods were developed, that aim to accelerate the conformational sampling. Some of the most common methods are discussed in the **Further reading** section below.   \n",
        "Furthermore, we did not include an equilibration step, which is commonly used to slowly heat up the system from 0 to 300 K before starting the simulation and might be important when simulating more sensitive systems including lipid bilayers. The protonation of ligand and protein was done separately, which is suboptimal, since protonation states of protein residues and ligand affect each other. However, we did not find a free and open-source solution meeting all requirements. Suggestions are very welcome!  \n",
        "If you want to learn how to visualize and analyze the trajectory, you can refer to the notebook **T020 - MD Analysis** in this repository."
      ]
    },
    {
      "cell_type": "markdown",
      "metadata": {
        "id": "qFsGM5zEozSq"
      },
      "source": [
        "## Quiz\n",
        "\n",
        "* Which inter- and intramolecular forces are being considered in the AMBER force field? Can you think of any forces not taken into account?\n",
        "* Would you expect to see the exact same simulation results when running the notebook twice with the same parameters?\n",
        "* Try doing a short (10ps, snapshot every 1ps) simulation of a protein without a ligand. You can find a broad variety of structures on [PDB](https://www.rcsb.org/) or you can use the EGFR kinase and remove the ligand."
      ]
    },
    {
      "cell_type": "markdown",
      "metadata": {
        "id": "DYy_qmUJF1W6"
      },
      "source": [
        "## Further reading"
      ]
    },
    {
      "cell_type": "markdown",
      "metadata": {
        "id": "IWYS2Q40u_dl"
      },
      "source": [
        "### Enhanced sampling methods\n",
        "\n",
        "In theory, unbiased MD simulations should be capable of simulating binding and unbinding events of a drug molecule and its macromolecular target. However, the timescale of binding and unbinding events lies in the millisecond to second range. Enhanced sampling methods aim to accelerate the conformational sampling ([_J Med Chem._ 2016, **59(9)**, 4035-61](https://doi.org/10.1021/acs.jmedchem.5b01684)).\n",
        "\n",
        "One of these is **Free energy perturbation (FEP)** (also called alchemical free energy calculation), which computes the free energy difference when going from a state A to another state B. It is often employed in lead optimization to evaluate small modification at the ligand, that may boost the binding affinity for the desired target. The ligand from state A is thereby gradually transformed into the ligand of state B by simulating several intermediate (\"alchemical\") states ([alchemistry](http://www.alchemistry.org/wiki/Main_Page)). \n",
        "\n",
        "Another technique for free-energy calculations is **Umbrella sampling (US)**. US enforces sampling along a collective variable (CV) by performing staged simulations with an energetic bias. The bias usually takes the form of a harmonic potential, hence the term \"umbrella\". Its goal is to sample high-energy regions along the CV. However, the use in drug design is limited by the high computational cost.\n",
        "\n",
        "In contrast, **Steered MD (SMD)** follows a different approach: it applies external forces to the system. Those forces are time-dependent and facilitate the unbinding of the ligand from the target. The SMD calculates the final force exerted on the system. The unbinding force profile can then be used to filter hits from docking calculations and to discriminate active from inactive molecules."
      ]
    }
  ]
}