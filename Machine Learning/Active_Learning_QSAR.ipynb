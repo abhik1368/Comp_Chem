{
 "cells": [
  {
   "cell_type": "code",
   "execution_count": 1,
   "id": "01143339",
   "metadata": {
    "ExecuteTime": {
     "end_time": "2023-01-03T04:02:51.900986Z",
     "start_time": "2023-01-03T04:02:51.523799Z"
    }
   },
   "outputs": [
    {
     "name": "stderr",
     "output_type": "stream",
     "text": [
      "Found local copy...\n",
      "Loading...\n",
      "Done!\n"
     ]
    }
   ],
   "source": [
    "from tdc.single_pred import ADME\n",
    "from tqdm import tqdm\n",
    "from tdc.benchmark_group import admet_group\n",
    "import numpy as np\n",
    "from tdc.single_pred import Tox\n",
    "\n",
    "data = ADME(name = 'Caco2_Wang')\n",
    "split = data.get_split()\n",
    "train,test = split['train'],split['test']"
   ]
  },
  {
   "cell_type": "code",
   "execution_count": 2,
   "id": "b372a919",
   "metadata": {
    "ExecuteTime": {
     "end_time": "2023-01-03T04:03:22.715429Z",
     "start_time": "2023-01-03T04:02:54.590426Z"
    }
   },
   "outputs": [
    {
     "name": "stderr",
     "output_type": "stream",
     "text": [
      " 14%|██████████▉                                                                      | 86/637 [00:03<00:26, 20.50it/s]"
     ]
    },
    {
     "name": "stdout",
     "output_type": "stream",
     "text": [
      "C:\\Users\\Abhik\\anaconda3\\envs\\rdkit\\lib\\site-packages\\numpy\\core\\fromnumeric.py:86: RuntimeWarning: overflow encountered in reduce\n",
      "  return ufunc.reduce(obj, axis, dtype, out, **passkwargs)\n"
     ]
    },
    {
     "name": "stderr",
     "output_type": "stream",
     "text": [
      " 43%|██████████████████████████████████▍                                             | 274/637 [00:08<00:09, 36.45it/s]"
     ]
    },
    {
     "name": "stdout",
     "output_type": "stream",
     "text": [
      "C:\\Users\\Abhik\\anaconda3\\envs\\rdkit\\lib\\site-packages\\numpy\\core\\fromnumeric.py:86: RuntimeWarning: overflow encountered in reduce\n",
      "  return ufunc.reduce(obj, axis, dtype, out, **passkwargs)\n",
      "C:\\Users\\Abhik\\anaconda3\\envs\\rdkit\\lib\\site-packages\\numpy\\core\\fromnumeric.py:86: RuntimeWarning: overflow encountered in reduce\n",
      "  return ufunc.reduce(obj, axis, dtype, out, **passkwargs)\n",
      "C:\\Users\\Abhik\\anaconda3\\envs\\rdkit\\lib\\site-packages\\numpy\\core\\fromnumeric.py:86: RuntimeWarning: overflow encountered in reduce\n",
      "  return ufunc.reduce(obj, axis, dtype, out, **passkwargs)\n",
      "C:\\Users\\Abhik\\anaconda3\\envs\\rdkit\\lib\\site-packages\\numpy\\core\\fromnumeric.py:86: RuntimeWarning: overflow encountered in reduce\n",
      "  return ufunc.reduce(obj, axis, dtype, out, **passkwargs)\n"
     ]
    },
    {
     "name": "stderr",
     "output_type": "stream",
     "text": [
      " 54%|███████████████████████████████████████████▌                                    | 347/637 [00:10<00:06, 43.11it/s]"
     ]
    },
    {
     "name": "stdout",
     "output_type": "stream",
     "text": [
      "C:\\Users\\Abhik\\anaconda3\\envs\\rdkit\\lib\\site-packages\\numpy\\core\\fromnumeric.py:86: RuntimeWarning: overflow encountered in reduce\n",
      "  return ufunc.reduce(obj, axis, dtype, out, **passkwargs)\n"
     ]
    },
    {
     "name": "stderr",
     "output_type": "stream",
     "text": [
      " 91%|████████████████████████████████████████████████████████████████████████▍       | 577/637 [00:18<00:01, 34.87it/s]"
     ]
    },
    {
     "name": "stdout",
     "output_type": "stream",
     "text": [
      "C:\\Users\\Abhik\\anaconda3\\envs\\rdkit\\lib\\site-packages\\numpy\\core\\fromnumeric.py:86: RuntimeWarning: overflow encountered in reduce\n",
      "  return ufunc.reduce(obj, axis, dtype, out, **passkwargs)\n"
     ]
    },
    {
     "name": "stderr",
     "output_type": "stream",
     "text": [
      "100%|████████████████████████████████████████████████████████████████████████████████| 637/637 [00:19<00:00, 32.59it/s]\n"
     ]
    },
    {
     "name": "stdout",
     "output_type": "stream",
     "text": [
      "(637, 1613)\n"
     ]
    },
    {
     "name": "stderr",
     "output_type": "stream",
     "text": [
      "100%|████████████████████████████████████████████████████████████████████████████████| 182/182 [00:05<00:00, 31.78it/s]\n"
     ]
    },
    {
     "name": "stdout",
     "output_type": "stream",
     "text": [
      "C:\\Users\\Abhik\\anaconda3\\envs\\rdkit\\lib\\site-packages\\numpy\\core\\fromnumeric.py:86: RuntimeWarning: overflow encountered in reduce\n",
      "  return ufunc.reduce(obj, axis, dtype, out, **passkwargs)\n",
      "(182, 1613)\n"
     ]
    }
   ],
   "source": [
    "from warnings import filterwarnings\n",
    "import numpy as np\n",
    "from rdkit import Chem\n",
    "from mordred import Calculator, descriptors \n",
    "calc = Calculator(descriptors, ignore_3D=True)\n",
    "from wash import dataset_wash\n",
    "from wash import NeutraliseCharges\n",
    "\n",
    "def smile_to_modred(smile):\n",
    "    return calc(Chem.MolFromSmiles(smile))\n",
    "\n",
    "def get_modred(smiles):\n",
    "    paws = []\n",
    "    for smile in smiles:\n",
    "        paws.append(np.asarray(smile_to_modred(smile)))\n",
    "    return paws\n",
    "\n",
    "train['Drug'] = train['Drug'].apply(NeutraliseCharges)\n",
    "test['Drug'] = test['Drug'].apply(NeutraliseCharges)\n",
    "\n",
    "trains = [Chem.MolFromSmiles(s) for s in train[\"Drug\"]]\n",
    "trDes = calc.pandas(trains)\n",
    "\n",
    "## Convert strings to NaN\n",
    "trDes = trDes.apply(pd.to_numeric,errors='coerce')\n",
    "trDes.fillna(0,inplace=True)\n",
    "\n",
    "\n",
    "trDes.replace([np.inf, -np.inf], np.nan, inplace=True)    \n",
    "print(trDes.shape)\n",
    "\n",
    "tests = [Chem.MolFromSmiles(s) for s in test[\"Drug\"]]\n",
    "teDes = calc.pandas(tests)\n",
    "\n",
    "teDes = teDes.apply(pd.to_numeric,errors='coerce')\n",
    "teDes.fillna(0,inplace=True)\n",
    "\n",
    "\n",
    "teDes.replace([np.inf, -np.inf], np.nan, inplace=True)    \n",
    "print(teDes.shape)\n"
   ]
  },
  {
   "cell_type": "code",
   "execution_count": 3,
   "id": "367b10c7",
   "metadata": {
    "ExecuteTime": {
     "end_time": "2023-01-03T04:04:03.709720Z",
     "start_time": "2023-01-03T04:04:03.631078Z"
    }
   },
   "outputs": [],
   "source": [
    "tr_df = pd.DataFrame(trDes)\n",
    "tr_df = tr_df.loc[:, tr_df.var() > 0.0] ## remove constant columns\n",
    "\n",
    "tr_df.replace([np.inf, -np.inf], np.nan, inplace=True)\n",
    "trdf = np.array(tr_df,dtype=float)\n",
    "\n",
    "\n",
    "## Keep same number of columns for test and train for prediction\n",
    "te_df = pd.DataFrame(teDes)\n",
    "te_df = te_df[tr_df.columns]\n",
    "tedf = np.array(te_df,dtype=float)\n",
    "\n",
    "tr_y = np.array(train.Y)\n",
    "te_y = np.array(test.Y)"
   ]
  },
  {
   "cell_type": "code",
   "execution_count": 4,
   "id": "1db8898e",
   "metadata": {
    "ExecuteTime": {
     "end_time": "2023-01-03T04:04:06.908911Z",
     "start_time": "2023-01-03T04:04:06.327340Z"
    }
   },
   "outputs": [],
   "source": [
    "import numpy as np\n",
    "import pandas as pd\n",
    "import matplotlib.pyplot as plt\n",
    "from sklearn.ensemble import ExtraTreesRegressor\n",
    "from sklearn.metrics import mean_squared_error\n",
    "from sklearn.metrics import mean_absolute_error\n",
    "from sklearn.metrics import r2_score\n",
    "from sklearn import preprocessing\n",
    "from modAL.models import ActiveLearner, CommitteeRegressor\n",
    "from modAL.disagreement import max_std_sampling\n",
    "#from joblib import Parallel, delayed\n",
    "from copy import deepcopy\n",
    "import math\n",
    "import time\n",
    "from datetime import datetime\n",
    "\n",
    "def committee_active_learner_qsar(X_train, Y_output, test,ty, i):\n",
    "    \n",
    "  print(datetime.now())\n",
    "  rmse_pool = []\n",
    "  mae_pool = [] \n",
    "  r2_pool = []\n",
    "  r2_test = []\n",
    "  \n",
    "  X_pool = deepcopy(X_train)\n",
    "  y_pool = deepcopy(Y_output)\n",
    "  \n",
    "  X_train_std = deepcopy(X_train)\n",
    "  y_train_std = deepcopy(Y_output)\n",
    "  \n",
    "  RANDOM_STATE_SEED = i\n",
    "  np.random.seed(RANDOM_STATE_SEED)\n",
    "  \n",
    "  # initializing the regressors\n",
    "  n_initial = 100\n",
    "  \n",
    "\n",
    "  initial_idx = list()\n",
    "  initial_idx.append(np.random.choice(range(200), size=n_initial, replace=False))\n",
    "  initial_idx.append(np.random.choice(range(200, X_train.shape[0]), size=n_initial, replace=False))\n",
    "\n",
    "  learner_list=[]\n",
    "  X_training=[]\n",
    "  y_training=[]\n",
    "  count=0\n",
    "  for idx in initial_idx:\n",
    "    \n",
    "    if count==0:\n",
    "      X_training = X_train_std[idx]\n",
    "      y_training = y_train_std[idx]\n",
    "    \n",
    "    else:\n",
    "      X_training = np.append(X_training, X_train_std[idx], axis=0)\n",
    "      y_training = np.append(y_training, y_train_std[idx])\n",
    "     \n",
    "    learner_list.append(ActiveLearner(\n",
    "                        estimator = ExtraTreesRegressor(n_estimators=250, random_state=0),\n",
    "                        X_training=X_train_std[idx], y_training=y_train_std[idx]\n",
    "                        ))\n",
    "    count = count+1\n",
    "    \n",
    "  X_pool = np.delete(X_pool, initial_idx, axis=0)\n",
    "  y_pool = np.delete(y_pool, initial_idx)\n",
    "  \n",
    "  ### initializing the Committee ###\n",
    "  committee = CommitteeRegressor(\n",
    "              learner_list=learner_list,\n",
    "              query_strategy=max_std_sampling\n",
    "              )\n",
    "\n",
    "  #### active regression ####\n",
    "  n_queries = 50\n",
    "  batch_size = 1\n",
    "  iteration = []\n",
    "  for idx in range(n_queries):\n",
    "        query_idx, query_instance = committee.query(X_pool)\n",
    "          \n",
    "        X_batch = X_pool[query_idx]\n",
    "        y_batch = y_pool[query_idx]     \n",
    "          \n",
    "        X_pool = np.delete(X_pool, query_idx, axis=0)\n",
    "        y_pool = np.delete(y_pool, query_idx)        \n",
    "        \n",
    "        r2_pool.append(r2_score(y_pool, committee.predict(X_pool)))  \n",
    "        rmse_pool.append(math.sqrt(mean_squared_error(y_pool, committee.predict(X_pool))))\n",
    "        mae_pool.append(mean_absolute_error(y_pool, committee.predict(X_pool))  )      \n",
    "        committee.teach(X_batch, y_batch)\n",
    "        iteration.append(idx+1)\n",
    "        r2_test.append(r2_score(np.array(ty), committee.predict(test))) \n",
    "        \n",
    "       \n",
    "  return mae_pool, r2_pool,r2_test,initial_idx, iteration"
   ]
  },
  {
   "cell_type": "code",
   "execution_count": null,
   "id": "6d22729a",
   "metadata": {
    "ExecuteTime": {
     "start_time": "2023-01-03T04:04:18.307Z"
    }
   },
   "outputs": [
    {
     "name": "stdout",
     "output_type": "stream",
     "text": [
      "2023-01-02 22:04:18.312750\n",
      "2023-01-02 22:10:28.972826\n"
     ]
    }
   ],
   "source": [
    "## Using 5 iterations to check model R2 \n",
    "number_of_iterations = 5\n",
    "\n",
    "#results = Parallel(n_jobs=2)(delayed(committee_active_learner)(X_train, Y_output, i) for i in range(number_of_iterations))\n",
    "\n",
    "res = []\n",
    "for i in range(number_of_iterations):\n",
    "    \n",
    "    results = committee_active_learner_qsar(trdf, tr_y,tedf,te_y, i) \n",
    "    res.append(results)\n",
    "    \n",
    "    \n",
    "import matplotlib.pyplot as plt\n",
    "plt.rcParams['figure.figsize'] = [11, 7]\n",
    "x1 = range(50)\n",
    "y1 = res[0][2]\n",
    "y2 = res[1][2]\n",
    "y3 = res[2][2]\n",
    "y4 = res[3][2]\n",
    "y5 = res[4][2]\n",
    "plt.plot(x1, y1,label ='Iter1')\n",
    "plt.plot(x1, y2,label ='Iter2')\n",
    "plt.plot(x1, y3,label ='Iter3')\n",
    "plt.plot(x1, y4,label ='Iter4')\n",
    "plt.plot(x1, y5,label ='Iter5')\n",
    "\n",
    "plt.title('Query Performace name')\n",
    "plt.xlabel('# Queries')\n",
    "plt.ylabel('R2 value')\n",
    "plt.legend()\n",
    "plt.show()    "
   ]
  },
  {
   "cell_type": "code",
   "execution_count": null,
   "id": "5a341d72",
   "metadata": {},
   "outputs": [],
   "source": []
  }
 ],
 "metadata": {
  "kernelspec": {
   "display_name": "Python [conda env:rdkit] *",
   "language": "python",
   "name": "conda-env-rdkit-py"
  },
  "language_info": {
   "codemirror_mode": {
    "name": "ipython",
    "version": 3
   },
   "file_extension": ".py",
   "mimetype": "text/x-python",
   "name": "python",
   "nbconvert_exporter": "python",
   "pygments_lexer": "ipython3",
   "version": "3.7.12"
  },
  "toc": {
   "base_numbering": 1,
   "nav_menu": {},
   "number_sections": true,
   "sideBar": true,
   "skip_h1_title": false,
   "title_cell": "Table of Contents",
   "title_sidebar": "Contents",
   "toc_cell": false,
   "toc_position": {},
   "toc_section_display": true,
   "toc_window_display": false
  },
  "varInspector": {
   "cols": {
    "lenName": 16,
    "lenType": 16,
    "lenVar": 40
   },
   "kernels_config": {
    "python": {
     "delete_cmd_postfix": "",
     "delete_cmd_prefix": "del ",
     "library": "var_list.py",
     "varRefreshCmd": "print(var_dic_list())"
    },
    "r": {
     "delete_cmd_postfix": ") ",
     "delete_cmd_prefix": "rm(",
     "library": "var_list.r",
     "varRefreshCmd": "cat(var_dic_list()) "
    }
   },
   "types_to_exclude": [
    "module",
    "function",
    "builtin_function_or_method",
    "instance",
    "_Feature"
   ],
   "window_display": false
  }
 },
 "nbformat": 4,
 "nbformat_minor": 5
}
