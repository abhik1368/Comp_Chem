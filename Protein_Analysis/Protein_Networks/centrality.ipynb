{
 "cells": [
  {
   "cell_type": "code",
   "execution_count": 4,
   "metadata": {},
   "outputs": [
    {
     "name": "stdout",
     "output_type": "stream",
     "text": [
      "Downloading PDB structure '6cs2'...\n",
      "Downloading PDB structure '6vxx'...\n"
     ]
    },
    {
     "ename": "FileExistsError",
     "evalue": "[WinError 183] Cannot create a file when that file already exists: 'd:\\\\GitHub\\\\Comp_Chem\\\\Protein_Analysis\\\\Protein_Networks\\\\pdb6cs2.ent' -> 'd:\\\\GitHub\\\\Comp_Chem\\\\Protein_Analysis\\\\Protein_Networks\\\\pdb6cs2.pdb'",
     "output_type": "error",
     "traceback": [
      "\u001b[1;31m---------------------------------------------------------------------------\u001b[0m",
      "\u001b[1;31mFileExistsError\u001b[0m                           Traceback (most recent call last)",
      "Cell \u001b[1;32mIn [4], line 13\u001b[0m\n\u001b[0;32m     11\u001b[0m folder \u001b[39m=\u001b[39m os\u001b[39m.\u001b[39mgetcwd()\n\u001b[0;32m     12\u001b[0m \u001b[39mfor\u001b[39;00m filename \u001b[39min\u001b[39;00m glob\u001b[39m.\u001b[39miglob(os\u001b[39m.\u001b[39mpath\u001b[39m.\u001b[39mjoin(folder, \u001b[39m'\u001b[39m\u001b[39m*.ent\u001b[39m\u001b[39m'\u001b[39m)):\n\u001b[1;32m---> 13\u001b[0m     os\u001b[39m.\u001b[39mrename(filename, filename[:\u001b[39m-\u001b[39m\u001b[39m4\u001b[39m] \u001b[39m+\u001b[39m \u001b[39m'\u001b[39m\u001b[39m.pdb\u001b[39m\u001b[39m'\u001b[39m)\n",
      "\u001b[1;31mFileExistsError\u001b[0m: [WinError 183] Cannot create a file when that file already exists: 'd:\\\\GitHub\\\\Comp_Chem\\\\Protein_Analysis\\\\Protein_Networks\\\\pdb6cs2.ent' -> 'd:\\\\GitHub\\\\Comp_Chem\\\\Protein_Analysis\\\\Protein_Networks\\\\pdb6cs2.pdb'"
     ]
    }
   ],
   "source": [
    "from Bio.PDB import *\n",
    "import Bio\n",
    "from Bio.PDB import PDBList\n",
    "\n",
    "pdbl = PDBList()\n",
    "PDBlist2 = ['6cs2', '6vxx']\n",
    "for i in PDBlist2:\n",
    "    pdbl.retrieve_pdb_file(i,pdir='.', file_format ='pdb')\n",
    "\n",
    "import glob, os\n",
    "folder = os.getcwd()\n",
    "for filename in glob.iglob(os.path.join(folder, '*.ent')):\n",
    "    os.rename(filename, filename[:-4] + '.pdb')"
   ]
  },
  {
   "cell_type": "code",
   "execution_count": 1,
   "metadata": {},
   "outputs": [
    {
     "name": "stdout",
     "output_type": "stream",
     "text": [
      "Start Reading PDB\n",
      "\n",
      "2023-01-09 16:47:34.708789\n",
      "End Reading PDB\n",
      "\n",
      "2023-01-09 16:47:34.741999\n"
     ]
    },
    {
     "name": "stderr",
     "output_type": "stream",
     "text": [
      "d:\\GitHub\\Comp_Chem\\Protein_Analysis\\Protein_Networks\\utils.py:57: VisibleDeprecationWarning: Creating an ndarray from ragged nested sequences (which is a list-or-tuple of lists-or-tuples-or ndarrays with different lengths or shapes) is deprecated. If you meant to do this, you must specify 'dtype=object' when creating the ndarray.\n",
      "  return np.array(coordinates)\n"
     ]
    },
    {
     "name": "stdout",
     "output_type": "stream",
     "text": [
      "Time for parallel PCN computation of protein pdb6vxx: 1.6490468978881836 s----------------------------| Current progress: 0.00%\n",
      "saved adj matrix\n"
     ]
    },
    {
     "data": {
      "text/plain": [
       "array([[0., 0., 1., ..., 0., 0., 0.],\n",
       "       [0., 0., 0., ..., 0., 0., 0.],\n",
       "       [1., 0., 0., ..., 0., 0., 0.],\n",
       "       ...,\n",
       "       [0., 0., 0., ..., 0., 0., 1.],\n",
       "       [0., 0., 0., ..., 0., 0., 0.],\n",
       "       [0., 0., 0., ..., 1., 0., 0.]])"
      ]
     },
     "execution_count": 1,
     "metadata": {},
     "output_type": "execute_result"
    }
   ],
   "source": [
    "import numpy as np\n",
    "import subprocess\n",
    "import networkx as nx\n",
    "import utils\n",
    "\n",
    "## Interested in SARVS-COV Spike protein\n",
    "output_path = \"\"\n",
    "protein = \"pdb6vxx\"\n",
    "protein_path = \"{}.pdb\".format(protein)\n",
    "atoms = utils.readPDBFile(protein_path) #read \n",
    "coordinates = utils.getResidueCoordinates(atoms)\n",
    "dict_residue_name = utils.associateResidueName(coordinates)\n",
    "residue_names = np.array(list (dict_residue_name.items()))\n",
    "A = utils.adjacent_matrix(output_path, coordinates, protein,4, 8)\n",
    "A"
   ]
  },
  {
   "cell_type": "code",
   "execution_count": 3,
   "metadata": {},
   "outputs": [
    {
     "name": "stdout",
     "output_type": "stream",
     "text": [
      "Graph with 2916 nodes and 11741 edges\n",
      "Top 30 nodes by eigenvector_centrality\n",
      "('LEU1034 C', 0.09506922262250982)\n",
      "('LEU1034 B', 0.09506922237552015)\n",
      "('LEU1034 A', 0.09506921406112946)\n",
      "('GLY885 C', 0.09111584665259136)\n",
      "('GLY885 B', 0.09111584643992333)\n",
      "('GLY885 A', 0.09111583804575359)\n",
      "('GLY880 C', 0.08625413250126257)\n",
      "('GLY880 B', 0.08625413239662934)\n",
      "('GLY880 A', 0.08625412327540509)\n",
      "('GLY889 C', 0.0847093903298337)\n",
      "('GLY889 B', 0.08470938918748003)\n",
      "('GLY889 A', 0.08470938337274761)\n",
      "('VAL1033 B', 0.08412718804395594)\n",
      "('VAL1033 C', 0.08412718753629485)\n",
      "('VAL1033 A', 0.08412717983761761)\n",
      "('THR881 B', 0.08301720144025276)\n",
      "('THR881 C', 0.08301720141576793)\n",
      "('THR881 A', 0.08301719308456329)\n",
      "('THR883 C', 0.08168205810957878)\n",
      "('THR883 B', 0.0816820579772194)\n",
      "('THR883 A', 0.08168204998609091)\n",
      "('VAL1040 B', 0.08163443640535387)\n",
      "('VAL1040 A', 0.0816344343864983)\n",
      "('VAL1040 C', 0.08163443100704466)\n",
      "('GLU1031 C', 0.08147667103393302)\n",
      "('GLU1031 B', 0.08147667078162726)\n",
      "('GLU1031 A', 0.0814766646675383)\n",
      "('LEU877 B', 0.0800759107149702)\n",
      "('LEU877 C', 0.08007591049117276)\n",
      "('LEU877 A', 0.08007590078481376)\n"
     ]
    }
   ],
   "source": [
    "import utils\n",
    "import pandas as pd\n",
    "import networkx as nx\n",
    "G = nx.from_numpy_array(A)\n",
    "print(G)\n",
    "\n",
    "res_name = np.array(residue_names[:, 1], dtype = str)   \n",
    "#centrality_measures = utils.closeness(G, res_names=res_name,n=30)\n",
    "#centrality_measures = utils.pagerank_ct(G, res_names=res_name,n=30,alpha=0.8)\n",
    "centrality_measures = utils.eigenvector_ct(G, res_names=res_name,n=30)\n",
    "df = pd.DataFrame.from_dict(centrality_measures,orient='index')\n",
    "df.sort_values(by=df.columns[0],ascending=False)\n",
    "df.rename(columns={ df.columns[0]: \"eigenvector\" }, inplace = True)\n",
    "df.to_csv(\"eigenvector.csv\")\n"
   ]
  },
  {
   "cell_type": "code",
   "execution_count": 4,
   "metadata": {},
   "outputs": [],
   "source": [
    "f = open(\"{}_{}.txt\".format(\"6vxx\", \"eigenvector\"),\"w\")\n",
    "f.write(str(centrality_measures))\n",
    "f.close()"
   ]
  },
  {
   "cell_type": "code",
   "execution_count": 7,
   "metadata": {},
   "outputs": [
    {
     "name": "stdout",
     "output_type": "stream",
     "text": [
      " Save: Please wait -- writing session file...\n",
      " Save: wrote \"Centralities\\betweeness_centrality\\Sessions\\pdb6vxx_betweeness_centrality_session.pse\".\n"
     ]
    }
   ],
   "source": [
    "import pymol_utils\n",
    "pymol_utils.pymol_centralities(output_path, centrality_measures, protein_path, \"eigenvector_centrality\")"
   ]
  },
  {
   "cell_type": "code",
   "execution_count": 2,
   "metadata": {},
   "outputs": [
    {
     "name": "stdout",
     "output_type": "stream",
     "text": [
      "Requirement already satisfied: biobb_io in c:\\users\\abhik\\anaconda3\\envs\\rdkit\\lib\\site-packages (3.9.0)\n",
      "Collecting biobb-common==3.9.0\n",
      "  Using cached biobb_common-3.9.0-py3-none-any.whl (23 kB)\n",
      "Requirement already satisfied: biopython==1.79 in c:\\users\\abhik\\anaconda3\\envs\\rdkit\\lib\\site-packages (from biobb-common==3.9.0->biobb_io) (1.79)\n",
      "Requirement already satisfied: pyyaml in c:\\users\\abhik\\anaconda3\\envs\\rdkit\\lib\\site-packages (from biobb-common==3.9.0->biobb_io) (5.4.1)\n",
      "Requirement already satisfied: requests in c:\\users\\abhik\\anaconda3\\envs\\rdkit\\lib\\site-packages (from biobb-common==3.9.0->biobb_io) (2.28.1)\n",
      "Requirement already satisfied: numpy in c:\\users\\abhik\\anaconda3\\envs\\rdkit\\lib\\site-packages (from biopython==1.79->biobb-common==3.9.0->biobb_io) (1.20.3)\n",
      "Requirement already satisfied: charset-normalizer<3,>=2 in c:\\users\\abhik\\anaconda3\\envs\\rdkit\\lib\\site-packages (from requests->biobb-common==3.9.0->biobb_io) (2.1.1)\n",
      "Requirement already satisfied: certifi>=2017.4.17 in c:\\users\\abhik\\anaconda3\\envs\\rdkit\\lib\\site-packages (from requests->biobb-common==3.9.0->biobb_io) (2022.9.24)\n",
      "Requirement already satisfied: idna<4,>=2.5 in c:\\users\\abhik\\anaconda3\\envs\\rdkit\\lib\\site-packages (from requests->biobb-common==3.9.0->biobb_io) (3.3)\n",
      "Requirement already satisfied: urllib3<1.27,>=1.21.1 in c:\\users\\abhik\\anaconda3\\envs\\rdkit\\lib\\site-packages (from requests->biobb-common==3.9.0->biobb_io) (1.26.9)\n",
      "Installing collected packages: biobb-common\n",
      "  Attempting uninstall: biobb-common\n",
      "    Found existing installation: biobb-common 3.8.1\n",
      "    Uninstalling biobb-common-3.8.1:\n",
      "      Successfully uninstalled biobb-common-3.8.1\n",
      "Successfully installed biobb-common-3.9.0\n"
     ]
    },
    {
     "name": "stderr",
     "output_type": "stream",
     "text": [
      "WARNING: Retrying (Retry(total=4, connect=None, read=None, redirect=None, status=None)) after connection broken by 'ProtocolError('Connection aborted.', ConnectionResetError(10054, 'An existing connection was forcibly closed by the remote host', None, 10054, None))': /simple/biobb-common/\n",
      "WARNING: Retrying (Retry(total=3, connect=None, read=None, redirect=None, status=None)) after connection broken by 'ProtocolError('Connection aborted.', ConnectionResetError(10054, 'An existing connection was forcibly closed by the remote host', None, 10054, None))': /simple/biobb-common/\n",
      "WARNING: Retrying (Retry(total=2, connect=None, read=None, redirect=None, status=None)) after connection broken by 'ProtocolError('Connection aborted.', ConnectionResetError(10054, 'An existing connection was forcibly closed by the remote host', None, 10054, None))': /simple/biobb-common/\n",
      "WARNING: Retrying (Retry(total=1, connect=None, read=None, redirect=None, status=None)) after connection broken by 'ProtocolError('Connection aborted.', ConnectionResetError(10054, 'An existing connection was forcibly closed by the remote host', None, 10054, None))': /simple/biobb-common/\n",
      "ERROR: pip's dependency resolver does not currently take into account all the packages that are installed. This behaviour is the source of the following dependency conflicts.\n",
      "biobb-vs 3.8.1 requires biobb-common==3.8.1, but you have biobb-common 3.9.0 which is incompatible.\n",
      "biobb-structure-utils 3.8.0 requires biobb-common==3.8.1, but you have biobb-common 3.9.0 which is incompatible.\n",
      "biobb-model 3.8.1 requires biobb-common==3.8.1, but you have biobb-common 3.9.0 which is incompatible.\n"
     ]
    }
   ],
   "source": [
    "# from biobb_vs.fpocket.fpocket_run import fpocket_run\n",
    "# import argparse\n",
    "# from biobb_common.generic.biobb_object import BiobbObject\n",
    "# from biobb_common.configuration import  settings\n",
    "# from biobb_common.tools import file_utils as fu\n",
    "# from biobb_common.tools.file_utils import launchlogger\n",
    "# from biobb_vs.fpocket.common import *\n",
    "\n",
    "# fpocket_all_pockets = \"D:\\\\GitHub\\\\Comp_Chem\\\\Protein_Analysis\\\\Protein_Networks\\\\fpocket_all_pockets.zip\"\n",
    "# fpocket_summary = \"D:\\\\GitHub\\\\Comp_Chem\\\\Protein_Analysis\\\\Protein_Networks\\\\fpocket_summary.json\"\n",
    "# prop = {\n",
    "#     \"min_radius\": 3,\n",
    "#     \"max_radius\": 6,\n",
    "#     \"num_spheres\": 35\n",
    "# }\n",
    "\n",
    "# fpocket_run(input_pdb_path=\"D:\\GitHub\\Comp_Chem\\Protein_Analysis\\Protein_Networks\\pdb6vxx.pdb\",\n",
    "#             output_pockets_zip = fpocket_all_pockets,\n",
    "#             output_summary=fpocket_summary,\n",
    "#             properties=prop)\n"
   ]
  }
 ],
 "metadata": {
  "kernelspec": {
   "display_name": "network",
   "language": "python",
   "name": "python3"
  },
  "language_info": {
   "codemirror_mode": {
    "name": "ipython",
    "version": 3
   },
   "file_extension": ".py",
   "mimetype": "text/x-python",
   "name": "python",
   "nbconvert_exporter": "python",
   "pygments_lexer": "ipython3",
   "version": "3.10.6"
  },
  "orig_nbformat": 4,
  "vscode": {
   "interpreter": {
    "hash": "fe3d46499145dbfd619cc19e5fcf7c49bdc0ccc50349b82c4a784088a4c11bf3"
   }
  }
 },
 "nbformat": 4,
 "nbformat_minor": 2
}
