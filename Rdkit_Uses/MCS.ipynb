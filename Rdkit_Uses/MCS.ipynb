{
 "metadata": {
  "name": "MCS"
 },
 "nbformat": 3,
 "nbformat_minor": 0,
 "worksheets": [
  {
   "cells": [
    {
     "cell_type": "code",
     "collapsed": false,
     "input": [
      "from rdkit import Chem\n",
      "from rdkit.Chem import Draw\n",
      "from rdkit.Chem.Draw import IPythonConsole\n",
      "from rdkit.Chem import MCS"
     ],
     "language": "python",
     "metadata": {},
     "outputs": [],
     "prompt_number": 5
    },
    {
     "cell_type": "code",
     "collapsed": false,
     "input": [
      "smis = (\"O=C(NCc1cc(OC)c(O)cc1)CCCC/C=C/C(C)C\", \"CC(C)CCCCCC(=O)NCC1=CC(=C(C=C1)O)OC\", \"c1(C(=O)O)cc(OC)c(O)cc1\")\n",
      "mols = [Chem.MolFromSmiles(x) for x in smis]"
     ],
     "language": "python",
     "metadata": {},
     "outputs": [],
     "prompt_number": 14
    },
    {
     "cell_type": "code",
     "collapsed": false,
     "input": [
      "Draw.MolsToGridImage(mols)"
     ],
     "language": "python",
     "metadata": {},
     "outputs": [
      {
       "output_type": "pyout",
       "png": "[encoded data removed]",
       "prompt_number": 15,
       "text": [
        "<Image.Image image mode=RGB size=600x200 at 0x33D5200>"
       ]
      }
     ],
     "prompt_number": 15
    },
    {
     "cell_type": "code",
     "collapsed": false,
     "input": [
      "mcs=MCS.FindMCS(mols)\n",
      "mcs"
     ],
     "language": "python",
     "metadata": {},
     "outputs": [
      {
       "output_type": "pyout",
       "prompt_number": 16,
       "text": [
        "MCSResult(numAtoms=10, numBonds=10, smarts='[#6]-[#6]:1:[#6]:[#6](:[#6](:[#6]:[#6]:1)-[#8])-[#8]-[#6]', completed=1)"
       ]
      }
     ],
     "prompt_number": 16
    },
    {
     "cell_type": "code",
     "collapsed": false,
     "input": [
      "Chem.MolFromSmarts(mcs.smarts)"
     ],
     "language": "python",
     "metadata": {},
     "outputs": [
      {
       "output_type": "pyout",
       "png": "[encoded data removed]",
       "prompt_number": 17,
       "text": [
        "<rdkit.Chem.rdchem.Mol at 0x33db2f0>"
       ]
      }
     ],
     "prompt_number": 17
    },
    {
     "cell_type": "code",
     "collapsed": false,
     "input": [
      "mcs=MCS.FindMCS(mols,atomCompare=\"any\")\n",
      "mcs"
     ],
     "language": "python",
     "metadata": {},
     "outputs": [
      {
       "output_type": "pyout",
       "prompt_number": 19,
       "text": [
        "MCSResult(numAtoms=11, numBonds=11, smarts='[*]:1(:[*]:[*](:[*](:[*]:[*]:1)-[*])-[*]-[*])-[*]-[*]', completed=1)"
       ]
      }
     ],
     "prompt_number": 19
    },
    {
     "cell_type": "code",
     "collapsed": false,
     "input": [
      "Chem.MolFromSmarts(mcs.smarts)"
     ],
     "language": "python",
     "metadata": {},
     "outputs": [
      {
       "output_type": "pyout",
       "png": "[encoded data removed]",
       "prompt_number": 20,
       "text": [
        "<rdkit.Chem.rdchem.Mol at 0x32c2d70>"
       ]
      }
     ],
     "prompt_number": 20
    },
    {
     "cell_type": "code",
     "collapsed": false,
     "input": [
      "mols = (Chem.MolFromSmiles('NCC'),Chem.MolFromSmiles('OC=C'))\n",
      "print MCS.FindMCS(mols)\n",
      "print MCS.FindMCS(mols, atomCompare=\"any\")\n",
      "print MCS.FindMCS(mols, bondCompare=\"any\")"
     ],
     "language": "python",
     "metadata": {},
     "outputs": [
      {
       "output_type": "stream",
       "stream": "stdout",
       "text": [
        "MCS None has -1 atoms and -1 bonds\n",
        "MCS '[*]-[*]' has 2 atoms and 1 bonds\n",
        "MCS '[#6]~[#6]' has 2 atoms and 1 bonds\n"
       ]
      }
     ],
     "prompt_number": 23
    },
    {
     "cell_type": "code",
     "collapsed": false,
     "input": [
      "MCS.FindMCS(mols)"
     ],
     "language": "python",
     "metadata": {},
     "outputs": [
      {
       "output_type": "pyout",
       "prompt_number": 24,
       "text": [
        "MCSResult(numAtoms=-1, numBonds=-1, smarts=None, completed=1)"
       ]
      }
     ],
     "prompt_number": 24
    },
    {
     "cell_type": "code",
     "collapsed": false,
     "input": [
      "mols = (Chem.MolFromSmiles('NC1OC1'),Chem.MolFromSmiles('C1OC1[N+](=O)[O-]'))\n",
      "print repr(MCS.FindMCS(mols))\n",
      "print repr(MCS.FindMCS(mols,matchValences=True))\n"
     ],
     "language": "python",
     "metadata": {},
     "outputs": [
      {
       "output_type": "stream",
       "stream": "stdout",
       "text": [
        "MCSResult(numAtoms=4, numBonds=4, smarts='[#7]-[#6]-1-[#8]-[#6]-1', completed=1)\n",
        "MCSResult(numAtoms=3, numBonds=3, smarts='[#6v4]-1-[#8v2]-[#6v4]-1', completed=1)\n"
       ]
      }
     ],
     "prompt_number": 28
    },
    {
     "cell_type": "code",
     "collapsed": false,
     "input": [
      "Chem.MolFromSmiles(\"CC(C)CCCCCC(=O)(O)NCC1=CC(=C(C=C1)O)OC\")"
     ],
     "language": "python",
     "metadata": {},
     "outputs": [],
     "prompt_number": 30
    },
    {
     "cell_type": "code",
     "collapsed": false,
     "input": [
      "mols = [Chem.MolFromSmiles(\"Nc1ccccc1\"*100), Chem.MolFromSmiles(\"Nc1ccccccccc1\"*100)]"
     ],
     "language": "python",
     "metadata": {},
     "outputs": [],
     "prompt_number": 31
    },
    {
     "cell_type": "code",
     "collapsed": false,
     "input": [],
     "language": "python",
     "metadata": {},
     "outputs": []
    }
   ],
   "metadata": {}
  }
 ]
}