{
 "cells": [
  {
   "cell_type": "code",
   "execution_count": 1,
   "metadata": {},
   "outputs": [],
   "source": [
    "import pandas as pd\n",
    "import seaborn as sns\n",
    "from rdkit import Chem, DataStructs\n",
    "from rdkit.Chem.Draw import MolsToGridImage\n",
    "from rdkit.Chem import PandasTools\n",
    "import numpy as np\n",
    "import pandas as pd\n",
    "from rdkit.Chem import rdFMCS\n",
    "from rdkit.Chem import AllChem\n",
    "from ipywidgets import interact\n",
    "from tqdm.notebook import tqdm"
   ]
  },
  {
   "cell_type": "markdown",
   "metadata": {},
   "source": [
    "Read the activity data from the CSV file"
   ]
  },
  {
   "cell_type": "code",
   "execution_count": 2,
   "metadata": {},
   "outputs": [],
   "source": [
    "data_df = pd.read_csv(\"../data/activity_data.csv\")"
   ]
  },
  {
   "cell_type": "markdown",
   "metadata": {},
   "source": [
    "Look for the duplicated records in the dataframe"
   ]
  },
  {
   "cell_type": "code",
   "execution_count": 3,
   "metadata": {},
   "outputs": [
    {
     "name": "stdout",
     "output_type": "stream",
     "text": [
      "CC(=O)N1CCN(CC(=O)Nc2cccc(S(N)(=O)=O)c2)CC1 [nan nan]\n",
      "CC(C(=O)O)c1ccc2c(c1)[nH]c1ccc(Cl)cc12 [nan nan nan nan]\n",
      "CC(C)N(C)C(=O)C1CCN(C(=O)CCl)CC1 [nan nan]\n",
      "CNS(=O)(=O)Cc1ccc2[nH]cc(CCN(C)C)c2c1 [nan nan nan]\n",
      "COc1ccc2[nH]cc(CCNC(C)=O)c2c1 [nan nan]\n",
      "CS(=O)(=O)Nc1cccc(C(=O)Nc2cccc(N3CCCC3=O)c2)c1 [nan nan]\n",
      "Cc1ccc(C)c(S(=O)(=O)N2CCN(C(=O)CCl)CC2)c1 [nan nan]\n",
      "Cc1ccncc1NC(=O)Nc1cccc(Cl)c1 [68. 68.]\n",
      "Cc1ccncc1NC(=O)Nc1ccccc1 [nan nan]\n",
      "Cc1ccncc1NC(=O)c1cccc(NC(=O)Nc2cccnc2)c1 [nan nan]\n",
      "N#Cc1ccc(NC(=O)Nc2cccnc2)cc1 [nan nan]\n",
      "N#Cc1cccc(NC(=O)Nc2cccnc2)c1 [nan nan nan nan]\n",
      "O=C(CCl)N1CCC(C(=O)N2CCCCC2)CC1 [nan nan]\n",
      "O=C(CCl)N1CCN(Cc2cccc(Cl)c2)CC1 [nan nan nan]\n",
      "O=C(CCl)N1CCN(Cc2cccc3ccccc23)CC1 [nan nan]\n",
      "O=C(CCl)N1CCN(Cc2cccs2)CC1 [5.66 5.66]\n",
      "O=C(CCl)N1CCN(Cc2ccsc2)CC1 [3.27 3.27 3.27]\n",
      "O=C(CCl)N1CCN(S(=O)(=O)c2c(F)cccc2F)CC1 [3.43 3.43]\n",
      "O=C(CCl)N1CCN(S(=O)(=O)c2cccc(F)c2)CC1 [4.1 4.1]\n",
      "O=C(CCl)N1CCN(S(=O)(=O)c2cccs2)CC1 [2.07 2.07]\n",
      "O=C(CCl)Nc1cccc(N2CCCC2=O)c1 [72. 72. 72.]\n",
      "O=C(c1cc(=O)[nH]c2ccccc12)N1CCN(c2ccccc2)CC1 [nan nan]\n"
     ]
    }
   ],
   "source": [
    "for k,v in data_df.groupby(\"SMILES\"):\n",
    "    if len(v) > 1:\n",
    "        print(k,v['IC50 (uM)'].values)"
   ]
  },
  {
   "cell_type": "markdown",
   "metadata": {},
   "source": [
    "Remove the duplicated rows in the dataframe"
   ]
  },
  {
   "cell_type": "code",
   "execution_count": 4,
   "metadata": {},
   "outputs": [
    {
     "name": "stdout",
     "output_type": "stream",
     "text": [
      "310 rows reduced to 280 rows\n"
     ]
    }
   ],
   "source": [
    "before_rows = data_df.shape[0]\n",
    "data_df.drop_duplicates(\"SMILES\",inplace=True)\n",
    "after_rows = data_df.shape[0]\n",
    "print(f\"{before_rows} rows reduced to {after_rows} rows\")"
   ]
  },
  {
   "cell_type": "markdown",
   "metadata": {},
   "source": [
    "Add a RDKit molecule column to the dataframe"
   ]
  },
  {
   "cell_type": "code",
   "execution_count": 5,
   "metadata": {},
   "outputs": [],
   "source": [
    "data_df['mol'] = [Chem.MolFromSmiles(x) for x in data_df.SMILES]"
   ]
  },
  {
   "cell_type": "markdown",
   "metadata": {},
   "source": [
    "Change the missing IC50 values to 999 and add a pIC50 column"
   ]
  },
  {
   "cell_type": "code",
   "execution_count": 6,
   "metadata": {},
   "outputs": [],
   "source": [
    "data_df.fillna({'IC50 (uM)': 999},inplace=True)\n",
    "data_df['pIC50'] = -np.log10([x * 1e-6 for x in data_df['IC50 (uM)'].values])"
   ]
  },
  {
   "cell_type": "markdown",
   "metadata": {},
   "source": [
    "Add a compound to identify the covalent compounds "
   ]
  },
  {
   "cell_type": "code",
   "execution_count": 7,
   "metadata": {},
   "outputs": [],
   "source": [
    "chloromethylketone = Chem.MolFromSmarts('C(=O)[CH2]Cl')\n",
    "acrylamide = Chem.MolFromSmarts('C(=O)[CH]=[CH2]')\n",
    "data_df['covalent'] = [x.HasSubstructMatch(acrylamide) or x.HasSubstructMatch(chloromethylketone) for x in data_df.mol]"
   ]
  },
  {
   "cell_type": "markdown",
   "metadata": {},
   "source": [
    "Add a fingerprint column"
   ]
  },
  {
   "cell_type": "code",
   "execution_count": 8,
   "metadata": {},
   "outputs": [],
   "source": [
    "data_df['fp'] = [Chem.RDKFingerprint(x) for x in data_df.mol]"
   ]
  },
  {
   "cell_type": "markdown",
   "metadata": {},
   "source": [
    "### Select covalent or noncovalent compounds.  \n",
    "To select all compounds just set \"df = data_df\""
   ]
  },
  {
   "cell_type": "code",
   "execution_count": 10,
   "metadata": {},
   "outputs": [
    {
     "data": {
      "text/html": [
       "<div>\n",
       "<style scoped>\n",
       "    .dataframe tbody tr th:only-of-type {\n",
       "        vertical-align: middle;\n",
       "    }\n",
       "\n",
       "    .dataframe tbody tr th {\n",
       "        vertical-align: top;\n",
       "    }\n",
       "\n",
       "    .dataframe thead th {\n",
       "        text-align: right;\n",
       "    }\n",
       "</style>\n",
       "<table border=\"1\" class=\"dataframe\">\n",
       "  <thead>\n",
       "    <tr style=\"text-align: right;\">\n",
       "      <th></th>\n",
       "      <th>SMILES</th>\n",
       "      <th>CID</th>\n",
       "      <th>IC50 (uM)</th>\n",
       "      <th>IC50 (uM) - std</th>\n",
       "      <th>Average Inhibition @ 20 uM</th>\n",
       "      <th>Average Inhibition @ 20 uM - std</th>\n",
       "      <th>Average Inhibition @ 50 uM</th>\n",
       "      <th>Average Inhibition @ 50 uM - std</th>\n",
       "      <th>Trypsin IC50 (uM)</th>\n",
       "      <th>Relative Solubility @ 20 uM</th>\n",
       "      <th>Relative Solubility @ 100 uM</th>\n",
       "      <th>mol</th>\n",
       "      <th>pIC50</th>\n",
       "      <th>covalent</th>\n",
       "      <th>fp</th>\n",
       "    </tr>\n",
       "  </thead>\n",
       "  <tbody>\n",
       "    <tr>\n",
       "      <th>0</th>\n",
       "      <td>O=C(c1cc(=O)[nH]c2ccccc12)N1CCN(c2ccccc2)CC1</td>\n",
       "      <td>EDJ-MED-78f964c8-1</td>\n",
       "      <td>999.0</td>\n",
       "      <td>NaN</td>\n",
       "      <td>NaN</td>\n",
       "      <td>NaN</td>\n",
       "      <td>NaN</td>\n",
       "      <td>81.80</td>\n",
       "      <td>1.660</td>\n",
       "      <td>NaN</td>\n",
       "      <td>NaN</td>\n",
       "      <td>&lt;img data-content=\"rdkit/molecule\" src=\"data:i...</td>\n",
       "      <td>3.000435</td>\n",
       "      <td>False</td>\n",
       "      <td>[1, 1, 0, 0, 1, 1, 0, 1, 0, 0, 1, 1, 0, 0, 0, ...</td>\n",
       "    </tr>\n",
       "    <tr>\n",
       "      <th>1</th>\n",
       "      <td>CS(=O)(=O)Nc1cccc(C(=O)Nc2cccc(N3CCCC3=O)c2)c1</td>\n",
       "      <td>MAK-UNK-1e8f9e3c-1</td>\n",
       "      <td>999.0</td>\n",
       "      <td>NaN</td>\n",
       "      <td>NaN</td>\n",
       "      <td>0.866</td>\n",
       "      <td>2.740</td>\n",
       "      <td>5.19</td>\n",
       "      <td>0.742</td>\n",
       "      <td>1.00</td>\n",
       "      <td>0.99</td>\n",
       "      <td>&lt;img data-content=\"rdkit/molecule\" src=\"data:i...</td>\n",
       "      <td>3.000435</td>\n",
       "      <td>False</td>\n",
       "      <td>[0, 1, 1, 1, 0, 1, 0, 0, 0, 0, 1, 1, 1, 0, 0, ...</td>\n",
       "    </tr>\n",
       "    <tr>\n",
       "      <th>2</th>\n",
       "      <td>Cc1ccncc1NC(=O)Nc1cccc(Cl)c1</td>\n",
       "      <td>JAG-UCB-cedd89ab-8</td>\n",
       "      <td>68.0</td>\n",
       "      <td>7.1</td>\n",
       "      <td>&gt; 99.0</td>\n",
       "      <td>32.100</td>\n",
       "      <td>0.539</td>\n",
       "      <td>58.70</td>\n",
       "      <td>0.386</td>\n",
       "      <td>0.99</td>\n",
       "      <td>0.96</td>\n",
       "      <td>&lt;img data-content=\"rdkit/molecule\" src=\"data:i...</td>\n",
       "      <td>4.167491</td>\n",
       "      <td>False</td>\n",
       "      <td>[1, 0, 1, 0, 0, 1, 0, 0, 0, 0, 0, 1, 0, 1, 0, ...</td>\n",
       "    </tr>\n",
       "    <tr>\n",
       "      <th>5</th>\n",
       "      <td>N#CCN1CCN(Cc2cc(Cl)cc3ccccc23)CC1</td>\n",
       "      <td>MAT-POS-4e253971-1</td>\n",
       "      <td>999.0</td>\n",
       "      <td>NaN</td>\n",
       "      <td>NaN</td>\n",
       "      <td>NaN</td>\n",
       "      <td>NaN</td>\n",
       "      <td>-1.08</td>\n",
       "      <td>0.303</td>\n",
       "      <td>NaN</td>\n",
       "      <td>NaN</td>\n",
       "      <td>&lt;img data-content=\"rdkit/molecule\" src=\"data:i...</td>\n",
       "      <td>3.000435</td>\n",
       "      <td>False</td>\n",
       "      <td>[0, 0, 1, 0, 0, 1, 0, 0, 0, 0, 1, 0, 0, 0, 0, ...</td>\n",
       "    </tr>\n",
       "    <tr>\n",
       "      <th>7</th>\n",
       "      <td>COc1ccc2nc(C)cc(C(=O)NN)c2c1</td>\n",
       "      <td>MAT-POS-4e253971-3</td>\n",
       "      <td>999.0</td>\n",
       "      <td>NaN</td>\n",
       "      <td>NaN</td>\n",
       "      <td>NaN</td>\n",
       "      <td>NaN</td>\n",
       "      <td>17.90</td>\n",
       "      <td>1.080</td>\n",
       "      <td>NaN</td>\n",
       "      <td>NaN</td>\n",
       "      <td>&lt;img data-content=\"rdkit/molecule\" src=\"data:i...</td>\n",
       "      <td>3.000435</td>\n",
       "      <td>False</td>\n",
       "      <td>[1, 1, 0, 0, 1, 1, 1, 1, 0, 0, 1, 1, 0, 0, 1, ...</td>\n",
       "    </tr>\n",
       "    <tr>\n",
       "      <th>32</th>\n",
       "      <td>CC(C(=O)O)c1ccc2c(c1)[nH]c1ccc(Cl)cc12</td>\n",
       "      <td>AAR-POS-fca48359-19</td>\n",
       "      <td>999.0</td>\n",
       "      <td>NaN</td>\n",
       "      <td>NaN</td>\n",
       "      <td>-0.548</td>\n",
       "      <td>0.936</td>\n",
       "      <td>3.97</td>\n",
       "      <td>0.598</td>\n",
       "      <td>1.00</td>\n",
       "      <td>0.98</td>\n",
       "      <td>&lt;img data-content=\"rdkit/molecule\" src=\"data:i...</td>\n",
       "      <td>3.000435</td>\n",
       "      <td>False</td>\n",
       "      <td>[1, 0, 1, 0, 0, 1, 0, 0, 0, 0, 0, 1, 1, 0, 0, ...</td>\n",
       "    </tr>\n",
       "    <tr>\n",
       "      <th>34</th>\n",
       "      <td>NS(=O)(=O)c1ccc(N2CCSCC2)cc1</td>\n",
       "      <td>WAR-XCH-b72a1bbc-1</td>\n",
       "      <td>999.0</td>\n",
       "      <td>NaN</td>\n",
       "      <td>NaN</td>\n",
       "      <td>NaN</td>\n",
       "      <td>NaN</td>\n",
       "      <td>12.80</td>\n",
       "      <td>0.959</td>\n",
       "      <td>NaN</td>\n",
       "      <td>NaN</td>\n",
       "      <td>&lt;img data-content=\"rdkit/molecule\" src=\"data:i...</td>\n",
       "      <td>3.000435</td>\n",
       "      <td>False</td>\n",
       "      <td>[0, 0, 1, 1, 0, 1, 0, 0, 0, 0, 0, 0, 0, 0, 0, ...</td>\n",
       "    </tr>\n",
       "    <tr>\n",
       "      <th>35</th>\n",
       "      <td>Cc1ccncc1-c1ccc(S(N)(=O)=O)cc1</td>\n",
       "      <td>WAR-XCH-b72a1bbc-4</td>\n",
       "      <td>999.0</td>\n",
       "      <td>NaN</td>\n",
       "      <td>NaN</td>\n",
       "      <td>NaN</td>\n",
       "      <td>NaN</td>\n",
       "      <td>3.16</td>\n",
       "      <td>1.640</td>\n",
       "      <td>NaN</td>\n",
       "      <td>NaN</td>\n",
       "      <td>&lt;img data-content=\"rdkit/molecule\" src=\"data:i...</td>\n",
       "      <td>3.000435</td>\n",
       "      <td>False</td>\n",
       "      <td>[1, 1, 1, 1, 0, 1, 0, 0, 0, 1, 0, 1, 0, 1, 0, ...</td>\n",
       "    </tr>\n",
       "    <tr>\n",
       "      <th>36</th>\n",
       "      <td>NS(=O)(=O)c1ccc(N2CCC(c3ccco3)CC2)cc1</td>\n",
       "      <td>WAR-XCH-b72a1bbc-7</td>\n",
       "      <td>999.0</td>\n",
       "      <td>NaN</td>\n",
       "      <td>NaN</td>\n",
       "      <td>5.400</td>\n",
       "      <td>0.328</td>\n",
       "      <td>8.47</td>\n",
       "      <td>1.730</td>\n",
       "      <td>1.00</td>\n",
       "      <td>0.83</td>\n",
       "      <td>&lt;img data-content=\"rdkit/molecule\" src=\"data:i...</td>\n",
       "      <td>3.000435</td>\n",
       "      <td>False</td>\n",
       "      <td>[0, 0, 1, 1, 0, 1, 0, 0, 0, 0, 0, 1, 0, 1, 0, ...</td>\n",
       "    </tr>\n",
       "    <tr>\n",
       "      <th>37</th>\n",
       "      <td>COC1CCN(c2ccc(S(N)(=O)=O)cc2)CC1</td>\n",
       "      <td>WAR-XCH-b72a1bbc-9</td>\n",
       "      <td>999.0</td>\n",
       "      <td>NaN</td>\n",
       "      <td>NaN</td>\n",
       "      <td>2.980</td>\n",
       "      <td>0.417</td>\n",
       "      <td>6.82</td>\n",
       "      <td>2.320</td>\n",
       "      <td>1.00</td>\n",
       "      <td>1.00</td>\n",
       "      <td>&lt;img data-content=\"rdkit/molecule\" src=\"data:i...</td>\n",
       "      <td>3.000435</td>\n",
       "      <td>False</td>\n",
       "      <td>[0, 0, 1, 1, 0, 1, 0, 0, 0, 0, 0, 1, 0, 0, 1, ...</td>\n",
       "    </tr>\n",
       "  </tbody>\n",
       "</table>\n",
       "</div>"
      ],
      "text/plain": [
       "                                            SMILES                  CID  \\\n",
       "0     O=C(c1cc(=O)[nH]c2ccccc12)N1CCN(c2ccccc2)CC1   EDJ-MED-78f964c8-1   \n",
       "1   CS(=O)(=O)Nc1cccc(C(=O)Nc2cccc(N3CCCC3=O)c2)c1   MAK-UNK-1e8f9e3c-1   \n",
       "2                     Cc1ccncc1NC(=O)Nc1cccc(Cl)c1   JAG-UCB-cedd89ab-8   \n",
       "5                N#CCN1CCN(Cc2cc(Cl)cc3ccccc23)CC1   MAT-POS-4e253971-1   \n",
       "7                     COc1ccc2nc(C)cc(C(=O)NN)c2c1   MAT-POS-4e253971-3   \n",
       "32          CC(C(=O)O)c1ccc2c(c1)[nH]c1ccc(Cl)cc12  AAR-POS-fca48359-19   \n",
       "34                    NS(=O)(=O)c1ccc(N2CCSCC2)cc1   WAR-XCH-b72a1bbc-1   \n",
       "35                  Cc1ccncc1-c1ccc(S(N)(=O)=O)cc1   WAR-XCH-b72a1bbc-4   \n",
       "36           NS(=O)(=O)c1ccc(N2CCC(c3ccco3)CC2)cc1   WAR-XCH-b72a1bbc-7   \n",
       "37                COC1CCN(c2ccc(S(N)(=O)=O)cc2)CC1   WAR-XCH-b72a1bbc-9   \n",
       "\n",
       "    IC50 (uM)  IC50 (uM) - std Average Inhibition @ 20 uM  \\\n",
       "0       999.0              NaN                        NaN   \n",
       "1       999.0              NaN                        NaN   \n",
       "2        68.0              7.1                     > 99.0   \n",
       "5       999.0              NaN                        NaN   \n",
       "7       999.0              NaN                        NaN   \n",
       "32      999.0              NaN                        NaN   \n",
       "34      999.0              NaN                        NaN   \n",
       "35      999.0              NaN                        NaN   \n",
       "36      999.0              NaN                        NaN   \n",
       "37      999.0              NaN                        NaN   \n",
       "\n",
       "    Average Inhibition @ 20 uM - std  Average Inhibition @ 50 uM  \\\n",
       "0                                NaN                         NaN   \n",
       "1                              0.866                       2.740   \n",
       "2                             32.100                       0.539   \n",
       "5                                NaN                         NaN   \n",
       "7                                NaN                         NaN   \n",
       "32                            -0.548                       0.936   \n",
       "34                               NaN                         NaN   \n",
       "35                               NaN                         NaN   \n",
       "36                             5.400                       0.328   \n",
       "37                             2.980                       0.417   \n",
       "\n",
       "    Average Inhibition @ 50 uM - std  Trypsin IC50 (uM)  \\\n",
       "0                              81.80              1.660   \n",
       "1                               5.19              0.742   \n",
       "2                              58.70              0.386   \n",
       "5                              -1.08              0.303   \n",
       "7                              17.90              1.080   \n",
       "32                              3.97              0.598   \n",
       "34                             12.80              0.959   \n",
       "35                              3.16              1.640   \n",
       "36                              8.47              1.730   \n",
       "37                              6.82              2.320   \n",
       "\n",
       "    Relative Solubility @ 20 uM  Relative Solubility @ 100 uM  \\\n",
       "0                           NaN                           NaN   \n",
       "1                          1.00                          0.99   \n",
       "2                          0.99                          0.96   \n",
       "5                           NaN                           NaN   \n",
       "7                           NaN                           NaN   \n",
       "32                         1.00                          0.98   \n",
       "34                          NaN                           NaN   \n",
       "35                          NaN                           NaN   \n",
       "36                         1.00                          0.83   \n",
       "37                         1.00                          1.00   \n",
       "\n",
       "                                                  mol     pIC50  covalent  \\\n",
       "0   <img data-content=\"rdkit/molecule\" src=\"data:i...  3.000435     False   \n",
       "1   <img data-content=\"rdkit/molecule\" src=\"data:i...  3.000435     False   \n",
       "2   <img data-content=\"rdkit/molecule\" src=\"data:i...  4.167491     False   \n",
       "5   <img data-content=\"rdkit/molecule\" src=\"data:i...  3.000435     False   \n",
       "7   <img data-content=\"rdkit/molecule\" src=\"data:i...  3.000435     False   \n",
       "32  <img data-content=\"rdkit/molecule\" src=\"data:i...  3.000435     False   \n",
       "34  <img data-content=\"rdkit/molecule\" src=\"data:i...  3.000435     False   \n",
       "35  <img data-content=\"rdkit/molecule\" src=\"data:i...  3.000435     False   \n",
       "36  <img data-content=\"rdkit/molecule\" src=\"data:i...  3.000435     False   \n",
       "37  <img data-content=\"rdkit/molecule\" src=\"data:i...  3.000435     False   \n",
       "\n",
       "                                                   fp  \n",
       "0   [1, 1, 0, 0, 1, 1, 0, 1, 0, 0, 1, 1, 0, 0, 0, ...  \n",
       "1   [0, 1, 1, 1, 0, 1, 0, 0, 0, 0, 1, 1, 1, 0, 0, ...  \n",
       "2   [1, 0, 1, 0, 0, 1, 0, 0, 0, 0, 0, 1, 0, 1, 0, ...  \n",
       "5   [0, 0, 1, 0, 0, 1, 0, 0, 0, 0, 1, 0, 0, 0, 0, ...  \n",
       "7   [1, 1, 0, 0, 1, 1, 1, 1, 0, 0, 1, 1, 0, 0, 1, ...  \n",
       "32  [1, 0, 1, 0, 0, 1, 0, 0, 0, 0, 0, 1, 1, 0, 0, ...  \n",
       "34  [0, 0, 1, 1, 0, 1, 0, 0, 0, 0, 0, 0, 0, 0, 0, ...  \n",
       "35  [1, 1, 1, 1, 0, 1, 0, 0, 0, 1, 0, 1, 0, 1, 0, ...  \n",
       "36  [0, 0, 1, 1, 0, 1, 0, 0, 0, 0, 0, 1, 0, 1, 0, ...  \n",
       "37  [0, 0, 1, 1, 0, 1, 0, 0, 0, 0, 0, 1, 0, 0, 1, ...  "
      ]
     },
     "execution_count": 10,
     "metadata": {},
     "output_type": "execute_result"
    }
   ],
   "source": [
    "df = data_df.query(\"covalent == False\")\n",
    "df.shape\n",
    "df.head(10)"
   ]
  },
  {
   "cell_type": "markdown",
   "metadata": {},
   "source": [
    "Calculate the [Structure Activity Landscape Index (SALI)](https://pubs.acs.org/doi/abs/10.1021/ci7004093) as $\\dfrac{\\Delta pIC_{50}}{1-Tanimoto}$.  Note that we add 0.001 to the denominator to avoid divide by zero errors."
   ]
  },
  {
   "cell_type": "code",
   "execution_count": 11,
   "metadata": {},
   "outputs": [],
   "source": [
    "pIC50_list = df.pIC50.values\n",
    "smiles_list = df.SMILES.values\n",
    "fp_list = df.fp.values\n",
    "sal_list = []\n",
    "for i,fp in enumerate(df.fp):\n",
    "    sim_list = DataStructs.BulkTanimotoSimilarity(fp,fp_list)\n",
    "    for j in range(0,i):\n",
    "        ii,jj = i,j\n",
    "        if pIC50_list[i] >= pIC50_list[j]:\n",
    "            ii,jj = i,j\n",
    "        else:\n",
    "            jj,ii = i,j\n",
    "        delta = abs(pIC50_list[i]-pIC50_list[j])\n",
    "        sim = sim_list[j]\n",
    "        sal_list.append([ii,jj,sim,delta/(1-sim+0.001),smiles_list[ii],smiles_list[jj],pIC50_list[ii],pIC50_list[jj]])"
   ]
  },
  {
   "cell_type": "markdown",
   "metadata": {},
   "source": [
    "Create a dataframe with the SALI data"
   ]
  },
  {
   "cell_type": "code",
   "execution_count": 12,
   "metadata": {},
   "outputs": [],
   "source": [
    "sal_df = pd.DataFrame(sal_list,columns=[\"i\",\"j\",\"Sim\",\"SAL\",\"SMILES_i\",\"SMILES_j\",\"pIC50_i\",\"pIC50_j\"])\n",
    "sal_df.sort_values(\"SAL\",ascending=False,inplace=True)\n",
    "sal_df = sal_df.head(100)"
   ]
  },
  {
   "cell_type": "markdown",
   "metadata": {},
   "source": [
    "Add molecule columns to the SALI dataframe"
   ]
  },
  {
   "cell_type": "code",
   "execution_count": 13,
   "metadata": {},
   "outputs": [],
   "source": [
    "PandasTools.AddMoleculeColumnToFrame(sal_df,\"SMILES_i\",\"Mol_i\")\n",
    "PandasTools.AddMoleculeColumnToFrame(sal_df,\"SMILES_j\",\"Mol_j\")"
   ]
  },
  {
   "cell_type": "code",
   "execution_count": 14,
   "metadata": {},
   "outputs": [
    {
     "data": {
      "text/html": [
       "<div>\n",
       "<style scoped>\n",
       "    .dataframe tbody tr th:only-of-type {\n",
       "        vertical-align: middle;\n",
       "    }\n",
       "\n",
       "    .dataframe tbody tr th {\n",
       "        vertical-align: top;\n",
       "    }\n",
       "\n",
       "    .dataframe thead th {\n",
       "        text-align: right;\n",
       "    }\n",
       "</style>\n",
       "<table border=\"1\" class=\"dataframe\">\n",
       "  <thead>\n",
       "    <tr style=\"text-align: right;\">\n",
       "      <th></th>\n",
       "      <th>i</th>\n",
       "      <th>j</th>\n",
       "      <th>Sim</th>\n",
       "      <th>SAL</th>\n",
       "      <th>SMILES_i</th>\n",
       "      <th>SMILES_j</th>\n",
       "      <th>pIC50_i</th>\n",
       "      <th>pIC50_j</th>\n",
       "      <th>Mol_i</th>\n",
       "      <th>Mol_j</th>\n",
       "    </tr>\n",
       "  </thead>\n",
       "  <tbody>\n",
       "    <tr>\n",
       "      <th>860</th>\n",
       "      <td>41</td>\n",
       "      <td>40</td>\n",
       "      <td>0.866242</td>\n",
       "      <td>11.834045</td>\n",
       "      <td>Cc1ccncc1NC(=O)Cc1cccc(Cl)c1</td>\n",
       "      <td>Cc1ccncc1NC(=O)Cc1ccccc1</td>\n",
       "      <td>4.595166</td>\n",
       "      <td>3.000435</td>\n",
       "      <td style=\"text-align: center;\"><img data-content=\"rdkit/molecule\" src=\"data:image/png;base64,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\" alt=\"Mol\"/></td>\n",
       "      <td style=\"text-align: center;\"><img data-content=\"rdkit/molecule\" src=\"data:image/png;base64,iVBORw0KGgoAAAANSUhEUgAAAMgAAADICAIAAAAiOjnJAAAABmJLR0QA/wD/AP+gvaeTAAATOElEQVR4nO2daVAU1/bAD8sAgqIoiprFuCVRHyQmYkJUxCUmGp5ZYKxXQUhlqVFLg1Tek/mXr15hylSc1KsErIr1hGcWQ+ULUYkmGokmJMJTs7ihIIKgOGIYNgcQkG3O/8PFZhyYYZY+0xM5v090T3ffw8yv7719b/dpL0QEhpEbb6UDYO5NWCyGBBaLIYHFYkhgsRgSWCyGBBaLIYHFYkhgsRgSWCyGBBaLIYHFYkhgsRgSWCyGBBaLIYHFYkhgsRgSWCyGBBaLIYHFYkhgsRgSWCyGBBaLIYHFYkhgsRgSWCyGBBaLIYHFYkhgsRgSWCyGBBaLIYHFYkhgsRgSWCyGBBaLIYHFYkhgsRgSWCyGBBaLIYHFYkhgsRgSWCyGBBaLIYHFYkhgsRgSWCyGBBaLIYHFYkhgsRgSWCyGBBaLIYHFYkhgsRgSWCyGBBaLIYHFYkhgsRgSWCyGBEKxurpg9GjYtat3cfdu2LSJrjTGs6CtsdrbQaeD2loAgI4OaG8nLY3xIGjF8veHDRvgH/8gLYTxRMj7WOvXw5kzkJ9PXQ7jWVCJ1dDQ+4dKBf/5D2zYAN3dREUxnoj8Yl28CElJMGUKGAy9a+bPhyef7O3Fl5fD3r2yl8l4HHKKVVYGiYkQHg7Z2dDRASdP9n3073/DlSuACG+9BfHx8Ne/QnW1jCUzngfKwZUrqNGgry8CoEqFGg3q9djTg+npfdt8/z3m5WFmJgYHIwCOGoWZmbIUzngirop19epdSiUm4uXLg+xy4wa++CICIAA+/zxWVbkYAuOJOC9WVdUfGg2qVL1KvfkmXrniwO45ORgaigAYHIwZGdjT43QgjCfijFh6vT45OTkgIGD27AZvb1Srsazsrg1MJrtEqalBtbq36po/H0tLnYiFcYbKysr09PTc3Nzr168TFeGYWNXV1Rs2bPD39wcAHx+flJQsC6UQ8cgRnDMH//tfe4+5Zw+GhSEATp1a9dFH6d3d3Q6FxDjEtWvXkpOTxS/o7+8/cuTIjIyMHoL2wl6xamtrtVrtsGHDAMDb21utVl+8eNFim4MHMTKytwZ65hkHgmhowKQknDPneQB46qmnLly44MDOjH3o9fp169b5+fkBgK+v76pVq5YtWyYu4JYsWVJRUSFvcYOLVVdXp9VqAwMDAcDLyys2NvbMmTMW2xQU4MKFvUqNHYs6Hba1ORzKd9999+CDDwKASqXSarUdHR0OH4IZCIPBoNVqAwICpEqh9E6348CBAxMnTgSAYcOG6XQ6GZuLQcR69913g4KChFJxcXFFRUUWGxw9evTVV68LpcLC8KOPnFFKorW1VavVent7A0B4ePivv/7q/LEY+9qZxsZGjUYjqq6oqKiSkhJZirYlVmFhoagtly5d+vvvv1t8WlBQsHjxYgCYMWN1aCimpWFTkywhYUFBwSOPPCJq7OTk5NbWVnmOO5Swp50x59ChQw888ICMzYUtsbRaLQC8/fbbFuuPHTu2aNEi4fiYMWO2bdvW0tLpYhwWtLW1abVaHx8fAJg6dWp+fr68x3eGjg4sLsb6eqXjGIT6+vq0tLTg4GBJqVOnTllsU1dX13/Hpqam5ORk0VxERET89ttvroRhS6x169YBwI4dO6Q1p06dWrp0qVAqJCTkvffea25udqV425w8eXLWrFkAMHHixNu3b9MVNDgffIAPPohxcTh3Ls6bhwaDksFYoaGhIS0tbeTIkeIHGrCdKSwsXLJkybRp07q6ugY8yLFjxx5++GHRXGi1Wqe/dltiJSQkAEB2dra0Zv/+/QAwYsQIrVZ78+ZN54p0iNu3b69YsSIgIOCdd95xQ3ED8+uvOHlyX12VmoqvvaZYMAPR3Nys0+lGjRolKdW/eyp1XUQ707+7LGHeXEybNu2nn35yIiRbYsXGxgLA/v37pTUmk+njjz92j1IS27ZtA4DU1FR3FnoXWi2mpfUt1tZiUBCaTIrFY0ZLS4tOpwsJCZGU+uWXXyy2OXHihPgpHaoUjh8/PnPmTNGeajSalpYWhwKzJVZ0dDQAKN6/2bx5MwBs3bpVsQgSEjAr6641AQHY0KBQNL1YKDVv3rz+v9TZs2fVarWjSkl0dnbqdDox9DV58uQjR47Yv68tsR5//HEA6N/1o+abb77Zt2+f1HvbsGEDAGzfvt3NYfTx97/je+/1LRqNOGyYgrObt27dysjICAsLk5T68ccfLbYpKipSq9VeXl4AMHz4cK1W29jY6Fxx586dmzNnjqi6EhMTG+w7o2yJNWXKFAAoLy93LiCnmT59OgBIg3hJSUkA8Nlnn7k5jD6OHMG//AWlK/CMDHz5ZaVi6e7uTk9PF0pFR0f37wCdP39eUiooKCg5ObmmpsbFQru6unQ6nZgImjBhwr59+wbdxZZYoaGhAGBw+xWQOBdv3LghFl966SUA2Lt3r5vDuIu1a/Hxx/Gf/8TVq3HqVJR7AsR+Tpw4IXrfR48etfjowoULiYmJYrxAKPXHH3/IWHR5efnChQuF02q1esAxCwlbYonGtb29Xcbg7EGMFEvjouJaxqEGnoTycszNxcJCdPsXYk5eXh4APPvss+Yri4uLExMTxXWcv7+/RqORTkt56enpSU9PF5Mx48aNO336tLUtrYrV3t4OAH5+fhTx2aCzs1MMokhrRAOv2PROcTGGhOBzz/WtSUxEjQYVGlf76quvACAuLs58ZWpqqvixNBpNdXU1dQyVlZUxMTEhISE6nc7aNlbFMhgMABAaGkoTm1Xq6+sBYPTo0dIaMV5XqtTtWoWFd92t0d2NXl7o7a1U5/2TTz4BgNdff918ZV1dXUpKihuUkrh48SIATJ8+3doGvmCF5uZmABAzA+6kf7lKRSIVDwAgld7SAogQHAzeyqS9aGpqgn7fRmhoqNSjdw8tLS39wzDH6rfDYknFA5iJZbGoQDiKfht2h+HpYnV3d7e1tfn4+IiJegXwMLFEVTFixAg3l7tly5bx48dnZmaKRVfFkmY03YZFxNKiGJhRAA8TS6kT3mAwGAwGk8lkZxieXmMpX/MLk6QaYqiK5ejvwmINHhAA11gsFkFAAGYmNTXdtahAOB7xuzh/VahUJ1H8A1K5A15duzkgAK6xuMaSmz+Cg5siItru3J0CLS0AyovlORdV1rZnsQbhlZKSUUVFZ4OCxOI7zc1hQUE779yr6X7+LL+LVbGUaoM8Taz+8dS2tvrc8cz9KNtFoaqxSktLGxsbZQnUznKV+h6txaOs6K2trd3d3YGBgSqVyp3l3r59u7Oz09/fX9ySBfKK1dHRER8fP3PmTDHBTkRwcHBYWJh0x60H1lgKxuMh7aA9kTggltFoDA0NNRgMq1atUqvVBikVpKzs3bu3pqYmMjLSWhjuBBFv3brl5eUlVZlDU6z+/aJBe0pWxYqLixs9evTGjRtv3Lgh1oSFheXn52dmZgYHB+/Zs+fRRx/NysqSLXYrKPtDtrS0mEymoKAgcQ+d4vHcCzXWK6+80tXVlZeXFxER8eWXX4qV4kmg0tLSF1980Wg0rlmzZvny5deuXZPtP+iHUlfX5qV7zq0WHiKW6HL5+fmJRCMDYlWsyMjI0tLSlStXNjQ0rF69esWKFXq9Xnw0YcKEr7/+OicnJzQ09PDhw+Hh4du3b5emJ2Xk7Nmz586dA4CysjLZD24PLNaA5doVxqD3Cubk5IwZM0YcyCJJV01NjfTY2vz582W8ydP8uQA/Pz9RUxqNRrmObyfiyYW5c+eKRZPJJNpEa8+nU/P5558DQFJSkpvL/eKLLwAgISFBLJaXlwPAlClTbOwy+G2QarW6uLg4Pj6+ubk5JSUlJiZGqj/CwsJycnIOHDhw3333FRYWzp49+4MPPujp6XHinJAoKSlJSkp67LHHsrOzVSrVW2+9tWnTJn9//6ysrBkzZuTm5rpycEeRZsQqKiqMRqPRaOzp6QkKCvL1tXrnLSl/psFF+7W1kaTr5s2bUo6lp59+uri42InToqKiQqPRiCrB4rkAhx48kpFr165t2bJl4cKFPj4+0dHRM2bMWLRoUXx8vHtK78/WrVsBYPPmzeYrDx48uGDBgkuXLtGV+/777wOAVqsVi/n5+QAQHR1tYxfHcpDaFsjplHyVlZUajUZUA0Kp/klXTSZTZmbm8OHDAWDcuHG7d+92KHInuHTpUkJCgmiO/f39x44dCwC+vr6pqaltrmSXcwHxNM62bdukNSaT6YknngCAoKAgomyiiFhRUbF3797z58+LRZEbJjY21sYuzmRNPnTokDWBmpqa1q5dK+72XLBggWmwzBlXr16VlFKpVImJibaTYVZWVkp5lGJjY/V6vRPxD8qVK1csRNfr9RYpu/o/1U5NWVmZeGBJrVabC0SUks8G2dnZAPDqq6/a2MbJPO/mSbrCw8MtknSJlHw7d+60cYSqqiopfa9Q6vKgrx5ARESTyZSVlSUGIJ599nN5n7wfVPQzZ87Mnj0b7oy8kKYHk7h8+fJrr70mohIPi86bN8/iUungwYPypuSzwY4dOwBg7dq1NrZx6c0UBQUF5km6zJ+Zbmtrs1ZdmWeEFokxnUgPodfr//a3t0eONAHgc8/h1avO/xeCq1dx/foUMQenUqnefPPNK1ZeiCBysIj4J02alJeX52rZ1qmqqrIQfdeuXUKggICAtLQ0i+ZCxpR8Nti0aZN5l2tAXH3liUWSLts5j6Q3D0hKlfXPE+8IOTk4diwCYGAg6nROPkN67RomJ2NAAMbE/J/9UZ0/f37u3LnS9US93CkkbZx+RqNRo9GI/kZERIRF2j65UvINiGhnVCrV4sWLbSc9kOclTSdOnLCdpEtkhDZP3yvXoJfBgImJfcnl+yUFtsX167h+Pfr7IwD6+KBG0+CQ6F1dXRkZGaJtGj9+/J49exyOfiDsPP1+/vlnkZanv0CypOSzoKqqas2aNVKa+EETLMojFt6dpOuhhx76/vvvxXp7MkK7zrff4v33IwAGBGBaGnYOlmu3tha1Whw2DAFQvLXF6aAqKiqkVL+xsbGuPOfu6OlnLtCsWbNOnjxp/qmUks/b29uJlHwWUZmLbs/QhmxiCYqKiqQbE1auXLlx40b7M0K7iNGIGg16eSEAPvYYnjqFP/yA0jsumptR9IXq6lCrxcBABEAvL4yNRdeDEkMh4g6IkJCQTMffl+fK6Xf8+PEZM2YMKJArKfkGjMr+dkZmsfBOAxEYGCh6kdYyQhORl4eTJiEAJiRgVBQ+9BCKbEgXL2J4OH78cZ9ScXF4Z1xGHqqrq1euXClOKjE3b89ejiZkH5D29va0tDRJIIvUWadPnxbJGUVHpcmOfPwWSsXGxp49e9ahkOQXSyAGZ4ODg0lrqQFpacFNm7C2FqOi8KWXUCTFFWJ9/TUC4NKlSOe5jalVC+xJyO4Q586de/LJJ+FOTkfz3JBSSr7x48fbzvVYV1eXlpYmal8RlY0kWDagEuvChQsAMHPmTKLj20NUFB4/jpMn4/nzvWKZTDLXUgNSU1MTHx8vqq4BJ1vsScjuHBY5HXNzc80/LSkp+eGHH6ztay66iMoV0anEOn78uJj2ITq+PURF4blzmJOD8+djSQmGh7u19AGnVu1JyO46jk6tiqjMRXd9DIxKrMOHDwPAsmXLiI5vD0IsRFy2DP/1L3eLhXdPrUZGRq5fv1768ZYvX94/IbuM9PT02DO1Sic6lVg5OTkAoOCNAGgmVlkZhoQoIJZAev+R6AvPmzdPloEle7CYWjWf2u+fJl7eqKjE2rVrFwC88cYbRMe3B0ksRGVqLAmj0bhz585PP/20oKDAzUWbTKbdu3ePHj0aAEaNGpWZmSlqKbEGrLx5wHWoxPrwww8BICUlhej49vD7730ZaDs7cSi//FCv17/wwgvCJCmFXUxMzLFjx4hKpEqkqfjzgACgVkN1de/fjY1w53UyQ5H777//22+/zcnJmTRpUnR09DPPPHPkyJH8/PwFCxYQlUh1i63iTzAz/VGr1S+//HJnZ6cb8m5SieUJNRYANDSASLNQX69sIJ6Cr6+ve27Yv8fFSk4G8ehbV5eygQw57nGxvvwSpkwBADAYICJC2ViGFvdy551REBaLIeFeFuvoUXjggd6/Q0Phf/9TMJYhhxciUhw3JCTEaDQ2NjZKkwbMkIJELERUqVQ9PT1dXV1KPY3OKAtJU9ja2qpsjgNGcUjE8oQOFqMsLBZDAovFkMBiMSSwWAwJLBZDAolYyr+yi1EaErFUKtWECRPGjRtHcXDmTwHVlA4zxKGahGaGOCwWQwKLxZDAYjEksFgMCSwWQwKLxZDAYjEksFgMCSwWQwKLxZDAYjEksFgMCSwWQwKLxZDAYjEksFgMCSwWQwKLxZDAYjEksFgMCSwWQwKLxZDAYjEksFgMCSwWQwKLxZDAYjEksFgMCSwWQwKLxZDAYjEksFgMCSwWQwKLxZDAYjEksFgMCSwWQwKLxZDAYjEksFgMCSwWQwKLxZDAYjEksFgMCSwWQwKLxZDAYjEksFgMCSwWQwKLxZDAYjEksFgMCSwWQwKLxZDAYjEksFgMCSwWQ8L/A3zwczimRIu/AAABXHpUWHRyZGtpdFBLTCByZGtpdCAyMDIyLjAzLjUAAHice79v7T0GIOBlgABGIBYEYiEgbmBkY0gAiTGzOWgAaWYWNocMEM3MCGewQ2SYkWQgStkZwAJMQDMgAhwQmgliJhMTbjPxMLiBDmRkymBiYk5gZslgYmFNYGXLYGJjV2DnUODg1GDi4GLg4mbg5slg4uFN4OXLYOLjT+AXAKpgTBDgThAB0mysLEA38PDy8Qtwi1+D+hgMBGesKT4Q6i1zAMR5n5l3gO1g4X4QmyNt/gHz/n97QewtR+YcMDm73h7EnvMk+cAzV2YHELuqSfiA9ZS5YHHloxIH1rd37AOxmY5N2F8j2Q02Z6FMiN3E7Itg8VnKU+yco7vB6m+477YvCZoLVrPDw9hhpzovmJ17tdEhp3s9mH1p+RqHlTMNwWx1z/UOyy75gvWKSbQ7PH5wHsxO7LZwmOZSBBEHAJlqV4n7Q9J0AAABwXpUWHRNT0wgcmRraXQgMjAyMi4wMy41AAB4nH1UW44cIQz871P4AoP8AuPPnZnVKoq2R0omuUP+9/6K3ZNZWAkF2ghQYUNVqTfI9uP6/c8HfDa+bhsA/udzd/gtiLi9Q07g/Pr2bYfL/eX83Lncfu33n0AG1ONM9K/Yl/vt/blDcIGTlI6m6HDiosrocazg0cZZfiCNK1ODExZXlcoLpCRSi3dirIkkVnZbIPWB7O5IDFTERCsugBX2LF4bdu7ABSuR0gLYMiMXQe3ikZGFsLcF0P4Bu6FwXpJbtFXtnrWpUGRSyVkkNKoLpEfOSIRGipkyKEXWBZAQbonsLqKQGbuxrICpDxVtQrGK2syO5itk6sMhZNxTsnitFI9bIVMfDQpN8HiPxH11JSSlPrWIV+2H5M3F6or2oCORatZ6cthR3FcUUTuKc3jIY1UaKy4VJ3u8p0vFfIUHB3X18Nf9+sXRD4+fb/t1eDw7DyNrhAy3asawZPY6jBcLaMNeGmHDRBTRh1MowocdOIJm1Sk3aFKXjoEnFTUHkkktzYF0UkVzoDqxn8sgd6JZcyCb+NS466jUE2FT7SRypi3Xz99KzLe/+WTe2uiRQ6YAAADmelRYdFNNSUxFUyByZGtpdCAyMDIyLjAzLjUAAHicJZA7bgMxDESvktIGtAK/IomFq+2TQ6j3CXx4DzespMeZIaVr897vvfn3erz+nldfUfzzeRw6k8J4HDLNhMcJEuIi46BZZuoCZrOS0QVjMam4WVYRD54aan47fVHqkEnObCAylSwNGlGm+icZpJ0kCwXEk9G0gQPlCsxDjwIBEBkVid0oS7WjKLNFPG0pa9tEinKcgrcgqm3ujDnjNKwSt0YRiByfWm7VmlUazo0sYuUg2LXK2yXCqzBriZHfyanQ9pcs9RrPzxdGrUYeVygpcgAAAABJRU5ErkJggg==\" alt=\"Mol\"/></td>\n",
       "    </tr>\n",
       "    <tr>\n",
       "      <th>943</th>\n",
       "      <td>43</td>\n",
       "      <td>40</td>\n",
       "      <td>0.860759</td>\n",
       "      <td>8.524114</td>\n",
       "      <td>Cc1ccncc1NC(=O)Cc1cccc(C#N)c1</td>\n",
       "      <td>Cc1ccncc1NC(=O)Cc1ccccc1</td>\n",
       "      <td>4.195861</td>\n",
       "      <td>3.000435</td>\n",
       "      <td style=\"text-align: center;\"><img data-content=\"rdkit/molecule\" src=\"data:image/png;base64,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\" alt=\"Mol\"/></td>\n",
       "      <td style=\"text-align: center;\"><img data-content=\"rdkit/molecule\" src=\"data:image/png;base64,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\" alt=\"Mol\"/></td>\n",
       "    </tr>\n",
       "    <tr>\n",
       "      <th>14408</th>\n",
       "      <td>43</td>\n",
       "      <td>170</td>\n",
       "      <td>0.845992</td>\n",
       "      <td>7.712006</td>\n",
       "      <td>Cc1ccncc1NC(=O)Cc1cccc(C#N)c1</td>\n",
       "      <td>N#Cc1cccc(CC(=O)Nc2cccnc2)c1</td>\n",
       "      <td>4.195861</td>\n",
       "      <td>3.000435</td>\n",
       "      <td style=\"text-align: center;\"><img data-content=\"rdkit/molecule\" src=\"data:image/png;base64,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\" alt=\"Mol\"/></td>\n",
       "      <td style=\"text-align: center;\"><img data-content=\"rdkit/molecule\" src=\"data:image/png;base64,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\" alt=\"Mol\"/></td>\n",
       "    </tr>\n",
       "    <tr>\n",
       "      <th>743</th>\n",
       "      <td>2</td>\n",
       "      <td>39</td>\n",
       "      <td>0.843521</td>\n",
       "      <td>7.410861</td>\n",
       "      <td>Cc1ccncc1NC(=O)Nc1cccc(Cl)c1</td>\n",
       "      <td>Cc1ccncc1NC(=O)Nc1ccccc1</td>\n",
       "      <td>4.167491</td>\n",
       "      <td>3.000435</td>\n",
       "      <td style=\"text-align: center;\"><img data-content=\"rdkit/molecule\" src=\"data:image/png;base64,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\" alt=\"Mol\"/></td>\n",
       "      <td style=\"text-align: center;\"><img data-content=\"rdkit/molecule\" src=\"data:image/png;base64,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\" alt=\"Mol\"/></td>\n",
       "    </tr>\n",
       "    <tr>\n",
       "      <th>11628</th>\n",
       "      <td>153</td>\n",
       "      <td>0</td>\n",
       "      <td>0.667406</td>\n",
       "      <td>6.454633</td>\n",
       "      <td>COc1ccccc1OCCNC(=O)c1cc(=O)[nH]c2ccccc12</td>\n",
       "      <td>O=C(c1cc(=O)[nH]c2ccccc12)N1CCN(c2ccccc2)CC1</td>\n",
       "      <td>5.153663</td>\n",
       "      <td>3.000435</td>\n",
       "      <td style=\"text-align: center;\"><img data-content=\"rdkit/molecule\" src=\"data:image/png;base64,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\" alt=\"Mol\"/></td>\n",
       "      <td style=\"text-align: center;\"><img data-content=\"rdkit/molecule\" src=\"data:image/png;base64,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\" alt=\"Mol\"/></td>\n",
       "    </tr>\n",
       "  </tbody>\n",
       "</table>\n",
       "</div>"
      ],
      "text/plain": [
       "         i    j       Sim        SAL  \\\n",
       "860     41   40  0.866242  11.834045   \n",
       "943     43   40  0.860759   8.524114   \n",
       "14408   43  170  0.845992   7.712006   \n",
       "743      2   39  0.843521   7.410861   \n",
       "11628  153    0  0.667406   6.454633   \n",
       "\n",
       "                                       SMILES_i  \\\n",
       "860                Cc1ccncc1NC(=O)Cc1cccc(Cl)c1   \n",
       "943               Cc1ccncc1NC(=O)Cc1cccc(C#N)c1   \n",
       "14408             Cc1ccncc1NC(=O)Cc1cccc(C#N)c1   \n",
       "743                Cc1ccncc1NC(=O)Nc1cccc(Cl)c1   \n",
       "11628  COc1ccccc1OCCNC(=O)c1cc(=O)[nH]c2ccccc12   \n",
       "\n",
       "                                           SMILES_j   pIC50_i   pIC50_j  \\\n",
       "860                        Cc1ccncc1NC(=O)Cc1ccccc1  4.595166  3.000435   \n",
       "943                        Cc1ccncc1NC(=O)Cc1ccccc1  4.195861  3.000435   \n",
       "14408                  N#Cc1cccc(CC(=O)Nc2cccnc2)c1  4.195861  3.000435   \n",
       "743                        Cc1ccncc1NC(=O)Nc1ccccc1  4.167491  3.000435   \n",
       "11628  O=C(c1cc(=O)[nH]c2ccccc12)N1CCN(c2ccccc2)CC1  5.153663  3.000435   \n",
       "\n",
       "                                                   Mol_i  \\\n",
       "860    <img data-content=\"rdkit/molecule\" src=\"data:i...   \n",
       "943    <img data-content=\"rdkit/molecule\" src=\"data:i...   \n",
       "14408  <img data-content=\"rdkit/molecule\" src=\"data:i...   \n",
       "743    <img data-content=\"rdkit/molecule\" src=\"data:i...   \n",
       "11628  <img data-content=\"rdkit/molecule\" src=\"data:i...   \n",
       "\n",
       "                                                   Mol_j  \n",
       "860    <img data-content=\"rdkit/molecule\" src=\"data:i...  \n",
       "943    <img data-content=\"rdkit/molecule\" src=\"data:i...  \n",
       "14408  <img data-content=\"rdkit/molecule\" src=\"data:i...  \n",
       "743    <img data-content=\"rdkit/molecule\" src=\"data:i...  \n",
       "11628  <img data-content=\"rdkit/molecule\" src=\"data:i...  "
      ]
     },
     "execution_count": 14,
     "metadata": {},
     "output_type": "execute_result"
    }
   ],
   "source": [
    "sal_df.head()"
   ]
  },
  {
   "cell_type": "markdown",
   "metadata": {},
   "source": [
    "Align pairs of molecules based on the Maximum Common Subgraph (MCS)"
   ]
  },
  {
   "cell_type": "code",
   "execution_count": 15,
   "metadata": {},
   "outputs": [
    {
     "data": {
      "application/vnd.jupyter.widget-view+json": {
       "model_id": "eb832cb542264d868c5bdccc44503338",
       "version_major": 2,
       "version_minor": 0
      },
      "text/plain": [
       "  0%|          | 0/100 [00:00<?, ?it/s]"
      ]
     },
     "metadata": {},
     "output_type": "display_data"
    }
   ],
   "source": [
    "def align_mols(df_in):\n",
    "    mcs_list = []\n",
    "    for idx, [mol_i,mol_j] in tqdm(df_in[[\"Mol_i\",\"Mol_j\"]].iterrows(),total=df_in.shape[0]):\n",
    "        mcs = rdFMCS.FindMCS([mol_i, mol_j],completeRingsOnly=True)\n",
    "        mcs_query = Chem.MolFromSmarts(mcs.smartsString)\n",
    "        AllChem.Compute2DCoords(mcs_query)\n",
    "        AllChem.GenerateDepictionMatching2DStructure(mol_i,mcs_query)\n",
    "        AllChem.GenerateDepictionMatching2DStructure(mol_j,mcs_query)\n",
    "        \n",
    "align_mols(sal_df)"
   ]
  },
  {
   "cell_type": "markdown",
   "metadata": {},
   "source": [
    "View the pairs of molecules. The more active molecule is always on the left. "
   ]
  },
  {
   "cell_type": "code",
   "execution_count": 16,
   "metadata": {},
   "outputs": [
    {
     "data": {
      "application/vnd.jupyter.widget-view+json": {
       "model_id": "83382b46bff14e5cb4308b4816baada4",
       "version_major": 2,
       "version_minor": 0
      },
      "text/plain": [
       "interactive(children=(IntSlider(value=0, description='row_num', max=99), Output()), _dom_classes=('widget-inte…"
      ]
     },
     "metadata": {},
     "output_type": "display_data"
    }
   ],
   "source": [
    "#@interact(row_num=range(0,100)) #control with a menu\n",
    "@interact(row_num=(0,99,1)) #control with a slider\n",
    "def show_pair(row_num=0):\n",
    "    row = sal_df.iloc[row_num]\n",
    "    mol_i = row.Mol_i\n",
    "    mol_j = row.Mol_j\n",
    "    i = row.i\n",
    "    j = row.j\n",
    "    legends = [f\"{df.iloc[i].CID} | {df.iloc[i]['IC50 (uM)']:.2f}\",f\"{df.iloc[j].CID} | {df.iloc[j]['IC50 (uM)']:.2f}\"]\n",
    "    print(df.iloc[i].CID,i)\n",
    "    print(df.iloc[j].CID,j)\n",
    "    print(f\"SAL = {row.SAL:.2f}\")\n",
    "    print(f\"Tanimoto = {row.Sim:.2f}\")\n",
    "    delta = 10**(abs(row.pIC50_i-row.pIC50_j))\n",
    "    print(f\"Delta = {delta:.1f}\")\n",
    "    return MolsToGridImage([mol_i,mol_j],molsPerRow=2,subImgSize=(300, 300),legends=legends)"
   ]
  }
 ],
 "metadata": {
  "kernelspec": {
   "display_name": "Python [conda env:rdkit] *",
   "language": "python",
   "name": "conda-env-rdkit-py"
  },
  "language_info": {
   "codemirror_mode": {
    "name": "ipython",
    "version": 3
   },
   "file_extension": ".py",
   "mimetype": "text/x-python",
   "name": "python",
   "nbconvert_exporter": "python",
   "pygments_lexer": "ipython3",
   "version": "3.7.12"
  },
  "toc-autonumbering": false,
  "widgets": {
   "application/vnd.jupyter.widget-state+json": {
    "state": {
     "03d377a730b94d95bde3fa20ffeeda15": {
      "model_module": "@jupyter-widgets/controls",
      "model_module_version": "2.0.0",
      "model_name": "HTMLModel",
      "state": {
       "layout": "IPY_MODEL_f407f9b28cef4cd5a1bc3000ca27cd2e",
       "style": "IPY_MODEL_2aabe2ab28964879a2952fb3f7d7b3b1",
       "value": " 100/100 [00:01&lt;00:00, 130.21it/s]"
      }
     },
     "0412770de6c043599726fc51811242f7": {
      "model_module": "@jupyter-widgets/base",
      "model_module_version": "2.0.0",
      "model_name": "LayoutModel",
      "state": {}
     },
     "2aabe2ab28964879a2952fb3f7d7b3b1": {
      "model_module": "@jupyter-widgets/controls",
      "model_module_version": "2.0.0",
      "model_name": "HTMLStyleModel",
      "state": {
       "description_width": "",
       "font_size": null,
       "text_color": null
      }
     },
     "39597cd52a5d4336b2f7eaa0bf5519f7": {
      "model_module": "@jupyter-widgets/controls",
      "model_module_version": "2.0.0",
      "model_name": "HTMLModel",
      "state": {
       "layout": "IPY_MODEL_7415f620693f488094abf6ac438c9da3",
       "style": "IPY_MODEL_b56077630eab4507b14133c670deaff0",
       "value": "100%"
      }
     },
     "3dc999ad1bcc4fbb9e5da381e0dc67ab": {
      "model_module": "@jupyter-widgets/base",
      "model_module_version": "2.0.0",
      "model_name": "LayoutModel",
      "state": {}
     },
     "3f0c634e3d0b4354a58a711b2b933f28": {
      "model_module": "@jupyter-widgets/controls",
      "model_module_version": "2.0.0",
      "model_name": "ProgressStyleModel",
      "state": {
       "description_width": ""
      }
     },
     "3fd348cad902403b81f22a1cb5d396c0": {
      "model_module": "@jupyter-widgets/base",
      "model_module_version": "2.0.0",
      "model_name": "LayoutModel",
      "state": {}
     },
     "611280f0787743f1bf9ee7c8ae9e0301": {
      "model_module": "@jupyter-widgets/base",
      "model_module_version": "2.0.0",
      "model_name": "LayoutModel",
      "state": {}
     },
     "7415f620693f488094abf6ac438c9da3": {
      "model_module": "@jupyter-widgets/base",
      "model_module_version": "2.0.0",
      "model_name": "LayoutModel",
      "state": {}
     },
     "7cab4c8fa7284ef4b065685bc5b37993": {
      "model_module": "@jupyter-widgets/controls",
      "model_module_version": "2.0.0",
      "model_name": "IntSliderModel",
      "state": {
       "behavior": "drag-tap",
       "description": "row_num",
       "layout": "IPY_MODEL_0412770de6c043599726fc51811242f7",
       "max": 99,
       "style": "IPY_MODEL_e04adf33ca424caebb8161a063b964d5"
      }
     },
     "83382b46bff14e5cb4308b4816baada4": {
      "model_module": "@jupyter-widgets/controls",
      "model_module_version": "2.0.0",
      "model_name": "VBoxModel",
      "state": {
       "_dom_classes": [
        "widget-interact"
       ],
       "children": [
        "IPY_MODEL_7cab4c8fa7284ef4b065685bc5b37993",
        "IPY_MODEL_83a2f31b96d64d6abcc383e9f5fc7eb4"
       ],
       "layout": "IPY_MODEL_611280f0787743f1bf9ee7c8ae9e0301"
      }
     },
     "83a2f31b96d64d6abcc383e9f5fc7eb4": {
      "model_module": "@jupyter-widgets/output",
      "model_module_version": "1.0.0",
      "model_name": "OutputModel",
      "state": {
       "layout": "IPY_MODEL_3dc999ad1bcc4fbb9e5da381e0dc67ab",
       "outputs": [
        {
         "name": "stdout",
         "output_type": "stream",
         "text": "TRY-UNI-714a760b-6 41\nTRY-UNI-714a760b-5 40\nSAL = 11.83\nTanimoto = 0.87\nDelta = 39.3\n"
        },
        {
         "data": {
          "image/png": "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\n",
          "text/plain": "<IPython.core.display.Image object>"
         },
         "metadata": {},
         "output_type": "display_data"
        }
       ]
      }
     },
     "8c6c6fc06c9c4fd78a8a0f9f81aa49a8": {
      "model_module": "@jupyter-widgets/base",
      "model_module_version": "2.0.0",
      "model_name": "LayoutModel",
      "state": {}
     },
     "b56077630eab4507b14133c670deaff0": {
      "model_module": "@jupyter-widgets/controls",
      "model_module_version": "2.0.0",
      "model_name": "HTMLStyleModel",
      "state": {
       "description_width": "",
       "font_size": null,
       "text_color": null
      }
     },
     "ca2295e5716147dba15aa89331e99418": {
      "model_module": "@jupyter-widgets/controls",
      "model_module_version": "2.0.0",
      "model_name": "FloatProgressModel",
      "state": {
       "bar_style": "success",
       "layout": "IPY_MODEL_8c6c6fc06c9c4fd78a8a0f9f81aa49a8",
       "style": "IPY_MODEL_3f0c634e3d0b4354a58a711b2b933f28",
       "value": 100
      }
     },
     "e04adf33ca424caebb8161a063b964d5": {
      "model_module": "@jupyter-widgets/controls",
      "model_module_version": "2.0.0",
      "model_name": "SliderStyleModel",
      "state": {
       "description_width": ""
      }
     },
     "eb832cb542264d868c5bdccc44503338": {
      "model_module": "@jupyter-widgets/controls",
      "model_module_version": "2.0.0",
      "model_name": "HBoxModel",
      "state": {
       "children": [
        "IPY_MODEL_39597cd52a5d4336b2f7eaa0bf5519f7",
        "IPY_MODEL_ca2295e5716147dba15aa89331e99418",
        "IPY_MODEL_03d377a730b94d95bde3fa20ffeeda15"
       ],
       "layout": "IPY_MODEL_3fd348cad902403b81f22a1cb5d396c0"
      }
     },
     "f407f9b28cef4cd5a1bc3000ca27cd2e": {
      "model_module": "@jupyter-widgets/base",
      "model_module_version": "2.0.0",
      "model_name": "LayoutModel",
      "state": {}
     }
    },
    "version_major": 2,
    "version_minor": 0
   }
  }
 },
 "nbformat": 4,
 "nbformat_minor": 4
}
